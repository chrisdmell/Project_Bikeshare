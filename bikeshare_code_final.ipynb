{
 "cells": [
  {
   "cell_type": "markdown",
   "metadata": {},
   "source": [
    "# complete the code till now and report it, you can go throught the rest later"
   ]
  },
  {
   "cell_type": "code",
   "execution_count": null,
   "metadata": {
    "collapsed": true
   },
   "outputs": [],
   "source": [
    "import csv\n",
    "from pprint import pprint\n",
    "import "
   ]
  },
  {
   "cell_type": "markdown",
   "metadata": {},
   "source": [
    "writing the code and organising all the codes together for submission"
   ]
  },
  {
   "cell_type": "code",
   "execution_count": 12,
   "metadata": {
    "scrolled": false
   },
   "outputs": [
    {
     "name": "stdout",
     "output_type": "stream",
     "text": [
      "\n",
      "Hello! Let's explore some US bikeshare data!\n",
      "Would you like to see data for Chicago, New York, or Washington?\n",
      "d\n",
      "\n",
      "Would you like to filter the data by month, day, or not at all? Type \"none\" for no time filter.\n",
      "f\n",
      "\n",
      "Which month? January, February, March, April, May, or June?\n",
      "f\n",
      "\n",
      "Which day? Please type your response as an integer.\n",
      "f\n"
     ]
    }
   ],
   "source": [
    "# print ('Hello! Let\\'s explore some US bikeshare data!')\n",
    "city = input('\\nHello! Let\\'s explore some US bikeshare data!\\n'\n",
    "                 'Would you like to see data for Chicago, New York, or Washington?\\n')\n",
    "time_period = input('\\nWould you like to filter the data by month, day, or not at'\n",
    "                        ' all? Type \"none\" for no time filter.\\n')\n",
    "month = input('\\nWhich month? January, February, March, April, May, or June?\\n')\n",
    "day = input('\\nWhich day? Please type your response as an integer.\\n')\n"
   ]
  },
  {
   "cell_type": "markdown",
   "metadata": {
    "collapsed": true
   },
   "source": [
    "[Using quotation marks in print](https://stackoverflow.com/questions/9050355/python-using-quotation-marks-inside-quotation-marks)"
   ]
  },
  {
   "cell_type": "code",
   "execution_count": 7,
   "metadata": {},
   "outputs": [
    {
     "name": "stdout",
     "output_type": "stream",
     "text": [
      "Would you like to see data for Chicago, New York, or Washington?\n"
     ]
    }
   ],
   "source": [
    "print ('Would you like to see data for Chicago, New York, or Washington?')"
   ]
  },
  {
   "cell_type": "code",
   "execution_count": 10,
   "metadata": {
    "scrolled": true
   },
   "outputs": [
    {
     "name": "stdout",
     "output_type": "stream",
     "text": [
      "Would you like to filter the data by month, day, or not at all? Type \"none\" for no time filter.\n"
     ]
    }
   ],
   "source": [
    "print ('Would you like to filter the data by month, day, or not at all? Type \"none\" for no time filter.')\n",
    "\n",
    "# most popular month/day.   However, `trip_duration() and popular_trip()` are required statistics and fall\n",
    "# in the category of \"all remaining functions\" that are called by the `statistics()` function. I'm stating here \n",
    "# which functions will run based on the filter selected and the template logic, and how the filters should apply to the data. \n",
    "# If you look at the snippet of code from the template and follow the logic you will see that based on the decision\n",
    "# logic associated with the `time_period` that a filter of 'none' executes everything i.e., `popular_month(),\n",
    "# popular_day()`, and all remaining functions (including `trip_duration()` and `popular_trip()`).\n",
    "# However, a filter of 'month', executes `popular_day()`, `popular_hour()` and then all the remaining functions. \n",
    "# A filter of 'day' will execute `popular_hour()` and all the remaining functions. \"Popular\" in all cases is based\n",
    "# on the count of the number of rides.\n",
    "# As noted, most of functions count rides but one (trip_durations) accumulates ride durations rather than counting"
   ]
  },
  {
   "cell_type": "code",
   "execution_count": 2,
   "metadata": {
    "collapsed": true
   },
   "outputs": [],
   "source": [
    "chicago = 'chicago.csv'\n",
    "nyu = 'new_york_city.csv'\n",
    "washington = 'washington.csv'"
   ]
  },
  {
   "cell_type": "code",
   "execution_count": 3,
   "metadata": {
    "collapsed": true
   },
   "outputs": [],
   "source": [
    "def get_city():\n",
    "    '''Asks the user for a city and returns the filename for that city's bike share data.\n",
    "\n",
    "    Args:\n",
    "        none.\n",
    "    Returns:\n",
    "        (str) Filename for a city's bikeshare data.\n",
    "    '''\n",
    "    city = input('\\nHello! Let\\'s explore some US bikeshare data!\\n'\n",
    "                 'Would you like to see data for Chicago, New York, or Washington?\\n')\n",
    "    # TODO: handle raw input and complete function\n",
    "    city_name = \"\"\n",
    "    if city.lower() == \"chicago\":\n",
    "        city_name = chicago\n",
    "        \n",
    "    elif city.lower() == \"ncy\":\n",
    "        city_name = nyu\n",
    "        \n",
    "    elif city == \"Washington\":\n",
    "        city_name = washington\n",
    "        \n",
    "    else:\n",
    "        print(\"Invalid Entry..... Kindly re-enter\")\n",
    "        get_city()\n",
    "        \n",
    "    return (city_name)"
   ]
  },
  {
   "cell_type": "code",
   "execution_count": 4,
   "metadata": {
    "collapsed": true
   },
   "outputs": [],
   "source": [
    "def get_city():\n",
    "    '''Asks the user for a city and returns the filename for that city's bike share data.\n",
    "\n",
    "    Args:\n",
    "        none.\n",
    "    Returns:\n",
    "        (str) Filename for a city's bikeshare data.\n",
    "    '''\n",
    "    city = input('\\nHello! Let\\'s explore some US bikeshare data!\\n'\n",
    "                 'Would you like to see data for Chicago, New York, or Washington?\\n')\n",
    "    # TODO: handle raw input and complete function"
   ]
  },
  {
   "cell_type": "code",
   "execution_count": null,
   "metadata": {
    "collapsed": true
   },
   "outputs": [],
   "source": [
    "# list of files for each city\n",
    "data_files = ['./data/NYC-CitiBike-2016.csv',\n",
    "              './data/Chicago-Divvy-2016.csv',\n",
    "              './data/Washington-CapitalBikeshare-2016.csv',]"
   ]
  },
  {
   "cell_type": "code",
   "execution_count": 14,
   "metadata": {
    "collapsed": true
   },
   "outputs": [],
   "source": [
    "def get_city():\n",
    "    '''Asks the user for a city and returns the filename for that city's bike share data.\n",
    "\n",
    "    Args:\n",
    "        none.\n",
    "    Returns:\n",
    "        (str) Filename for a city's bikeshare data.\n",
    "    '''\n",
    "    city = input('\\nHello! Let\\'s explore some US bikeshare data!\\n'\n",
    "                 'Would you like to see data for Chicago, New York, or Washington?\\n')\n",
    "\n",
    "    # TODO: handle raw input and complete function\n",
    "    city_name = \"\"\n",
    "    if city.lower() == \"chicago\":\n",
    "        print(\"City selected : {} and its data file is : {}\".format(city.title(),chicago))\n",
    "        city_name = chicago\n",
    "    elif city.lower() == \"ncy\":\n",
    "        print(\"City selected : {} and its data file is : {}\".format(city.title(),new_york_city))\n",
    "        city_name = new_york_city\n",
    "    elif city == \"Washington\":\n",
    "        print(\"City selected : {} and its data file is : {}\".format(city.title(),washington))\n",
    "        city_name = washington\n",
    "    else:\n",
    "        print(\"Invalid Entry..... Kindly re-enter\")\n",
    "        get_city()\n",
    "    return (city_name)"
   ]
  },
  {
   "cell_type": "markdown",
   "metadata": {},
   "source": [
    "[import csv](http://localhost:8888/notebooks/Documents/project_bikeshare/import_csv.ipynb)"
   ]
  },
  {
   "cell_type": "code",
   "execution_count": 15,
   "metadata": {
    "collapsed": true
   },
   "outputs": [],
   "source": [
    "import datetime\n",
    "import csv\n",
    "\n",
    "## Filenames\n",
    "chicago = '/Users/Andersen/Desktop/bikeshare/chicago.csv'\n",
    "new_york_city = '/Users/Andersen/Desktop/bikeshare/new_york_city.csv'\n",
    "washington = '/Users/Andersen/Desktop/bikeshare/washington.csv'\n",
    "\n",
    "\n",
    "def get_city():\n",
    "    '''Asks the user for a city and returns the filename for that city's bike share data.\n",
    "\n",
    "    Args:\n",
    "        none.\n",
    "    Returns:\n",
    "        (str) Filename for a city's bikeshare data.\n",
    "    '''\n",
    "    city = input('\\nHello! Let\\'s explore some US bikeshare data!\\n'\n",
    "                 'Would you like to see data for Chicago, New York, or Washington?\\n')\n",
    "\n",
    "    # TODO: handle raw input and complete function\n",
    "    if city.lower() == str(\"chicago\"):\n",
    "        with open(chicago) as f:\n",
    "            city_list = [{k: v for k, v in row.items()} for row in csv.DictReader(f, skipinitialspace = True)]\n",
    "\n",
    "    elif city.lower() == str(\"new york\"):\n",
    "        with open(new_york_city) as f:\n",
    "            city_list = [{k: v for k, v in row.items()} for row in csv.DictReader(f, skipinitialspace = True)]\n",
    "\n",
    " "
   ]
  },
  {
   "cell_type": "code",
   "execution_count": 17,
   "metadata": {},
   "outputs": [
    {
     "ename": "IndentationError",
     "evalue": "unindent does not match any outer indentation level (<tokenize>, line 3)",
     "output_type": "error",
     "traceback": [
      "\u001b[1;36m  File \u001b[1;32m\"<tokenize>\"\u001b[1;36m, line \u001b[1;32m3\u001b[0m\n\u001b[1;33m    else:\u001b[0m\n\u001b[1;37m    ^\u001b[0m\n\u001b[1;31mIndentationError\u001b[0m\u001b[1;31m:\u001b[0m unindent does not match any outer indentation level\n"
     ]
    }
   ],
   "source": [
    " if city.lower == 'washington':\n",
    "        print(\"\\nThere is no Gender data for Washington\")\n",
    "    else:\n",
    "        males, females = gender(city_file)  elif city.lower() == str(\"washington\"):\n",
    "        with open(washington) as f:\n",
    "            city_list = [{k: v for k, v in row.items()} for row in csv.DictReader(f, skipinitialspace = True)]"
   ]
  },
  {
   "cell_type": "code",
   "execution_count": null,
   "metadata": {
    "collapsed": true
   },
   "outputs": [],
   "source": [
    "def get_city():\n",
    "    '''Asks the user for a city and returns the filename for that city's bike share data.\n",
    "\n",
    "    Args:\n",
    "        none.\n",
    "    Returns:\n",
    "        (str) Filename for a city's bikeshare data.\n",
    "    '''\n",
    "    city = input('\\nHello! Let\\'s explore some US bikeshare data!\\n'\n",
    "                 'Would you like to see data for Chicago, New York (NCY), or Washington?\\n')\n",
    "    # TODO: handle raw input and complete function\n",
    "    city_name = \"\"\n",
    "    if city.lower() == \"chicago\":\n",
    "        print(\"City selected : {} and its data file is : {}\".format(city.title(),chicago))\n",
    "        city_name = chicago\n",
    "    elif city.lower() == \"ncy\":\n",
    "        print(\"City selected : {} and its data file is : {}\".format(city.title(),new_york_city))\n",
    "        city_name = new_york_city\n",
    "    elif city == \"Washington\":\n",
    "        print(\"City selected : {} and its data file is : {}\".format(city.title(),washington))\n",
    "        city_name = washington\n",
    "    else:\n",
    "        print(\"Invalid Entry..... Kindly re-enter\")\n",
    "        get_city()\n",
    "    return (city_name)"
   ]
  },
  {
   "cell_type": "code",
   "execution_count": null,
   "metadata": {
    "collapsed": true
   },
   "outputs": [],
   "source": [
    "def get_time_period():\n",
    "    '''Asks the user for a time period and returns the specified filter.\n",
    "\n",
    "    Args:\n",
    "        none.\n",
    "    Returns:\n",
    "        TODO: fill out return type and description (see get_city for an example)\n",
    "    '''\n",
    "    time_period = input('\\nWould you like to filter the data by month, day, or not at'\n",
    "                        ' all? Type \"none\" for no time filter.\\n')\n",
    "    # TODO: handle raw input and complete function"
   ]
  },
  {
   "cell_type": "code",
   "execution_count": null,
   "metadata": {
    "collapsed": true
   },
   "outputs": [],
   "source": [
    "def get_time_period():\n",
    "    '''Asks the user for a time period and returns the specified filter.\n",
    "\n",
    "    Args:\n",
    "        none.\n",
    "    Returns:\n",
    "        TODO: fill out return type and description (see get_city for an example)\n",
    "    '''\n",
    "    time_period = input('\\nWould you like to filter the data by month, day, or not at'\n",
    "                        ' all? Type \"none\" for no time filter.\\n')\n",
    "    # TODO: handle raw input and complete function\n",
    "    if time_period.lower() == \"month\" or time_period.lower() == \"day\" or time_period.lower() == \"none\":\n",
    "        print(\"Time Period selected :{}\".format(time_period.title()))\n",
    "        return(time_period)\n",
    "    else:\n",
    "        print(\"{} is Invalied entry, Kindly re-enter\".format(time_period.title()))\n",
    "        get_time_period()\n",
    "        return(\"none\")\n",
    "    \n",
    "    get_month()"
   ]
  },
  {
   "cell_type": "code",
   "execution_count": null,
   "metadata": {
    "collapsed": true
   },
   "outputs": [],
   "source": [
    "def get_month():\n",
    "    '''Asks the user for a month and returns the specified month.\n",
    "\n",
    "    Args:\n",
    "        none.\n",
    "    Returns:\n",
    "        TODO: fill out return type and description (see get_city for an example)\n",
    "    '''\n",
    "    month = input('\\nWhich month? January, February, March, April, May, or June?\\n')\n",
    "    # TODO: handle raw input and complete function"
   ]
  },
  {
   "cell_type": "code",
   "execution_count": null,
   "metadata": {
    "collapsed": true
   },
   "outputs": [],
   "source": [
    "def get_month():\n",
    "    '''Asks the user for a month and returns the specified month.\n",
    "\n",
    "    Args:\n",
    "        none.\n",
    "    Returns:\n",
    "        TODO: fill out return type and description (see get_city for an example)\n",
    "    '''\n",
    "    month = input('\\nWhich month? January, February, March, April, May, or June?\\n').lower()\n",
    "    # TODO: handle raw input and complete function\n",
    "    if month == \"january\" or month == \"february\" or month == \"march\" or month == \"april\" or month == \"may\" or month == \"june\":\n",
    "        print(\"Month selected :{}\".format(month.title()))\n",
    "        return(month)\n",
    "    else:\n",
    "        print(\"{} is Invalied entry, Kindly re-enter\".format(month.title()))\n",
    "        get_month()\n",
    "        return (month)"
   ]
  },
  {
   "cell_type": "code",
   "execution_count": 1,
   "metadata": {
    "collapsed": true
   },
   "outputs": [],
   "source": [
    " print(\"City selected : {} and its data file is : {}\".format(city.title(),chicago))"
   ]
  },
  {
   "cell_type": "code",
   "execution_count": 5,
   "metadata": {
    "collapsed": true
   },
   "outputs": [],
   "source": [
    "def get_day(month):\n",
    "    '''Asks the user for a day and returns the specified day.\n",
    "\n",
    "    Args:\n",
    "        none.\n",
    "    Returns:\n",
    "        TODO: fill out return type and description (see get_city for an example)\n",
    "    '''\n",
    "    day = input('\\nWhich day? Please type your response as an integer.\\n')\n",
    "    # TODO: handle raw input and complete function\n",
    "    d = int((datetime.datetime.strptime(month, \"%B\")).strftime('%m')) #gives the number value of the month string\n",
    "    day_range = calendar.monthrange(2017, d)[1] #gives the upper bound for the month\n",
    "    while True:\n",
    "        day = int(input('\\nWhich day? Please type your response as an integer from 1 to {}.\\n'.format(day_range)))\n",
    "        if 1 <= day <= day_range:\n",
    "            print(\"Entered Day is : {}\".format(day))\n",
    "            return(day)\n",
    "        else:\n",
    "            print('Re-enter appropiate day value')\n",
    "            get_day()"
   ]
  },
  {
   "cell_type": "markdown",
   "metadata": {},
   "source": [
    "[while true](https://stackoverflow.com/questions/3754620/a-basic-question-about-while-true)"
   ]
  },
  {
   "cell_type": "code",
   "execution_count": null,
   "metadata": {
    "collapsed": true
   },
   "outputs": [],
   "source": [
    "def get_day(month):\n",
    "    '''Asks the user for a day and returns the specified day.\n",
    "\n",
    "    Args:\n",
    "        none.\n",
    "    Returns:\n",
    "        TODO: fill out return type and description (see get_city for an example)\n",
    "    '''\n",
    "    day = input('\\nWhich day? Please type your response as an integer.\\n')\n",
    "    # TODO: handle raw input and complete function"
   ]
  },
  {
   "cell_type": "code",
   "execution_count": null,
   "metadata": {
    "collapsed": true
   },
   "outputs": [],
   "source": [
    " print(\"City selected : {} and its data file is : {}\".format(city.title(),chicago)) and month is and day is "
   ]
  },
  {
   "cell_type": "code",
   "execution_count": 18,
   "metadata": {},
   "outputs": [
    {
     "ename": "IndentationError",
     "evalue": "unindent does not match any outer indentation level (<tokenize>, line 3)",
     "output_type": "error",
     "traceback": [
      "\u001b[1;36m  File \u001b[1;32m\"<tokenize>\"\u001b[1;36m, line \u001b[1;32m3\u001b[0m\n\u001b[1;33m    if month == 1 or 3 or 5:\u001b[0m\n\u001b[1;37m    ^\u001b[0m\n\u001b[1;31mIndentationError\u001b[0m\u001b[1;31m:\u001b[0m unindent does not match any outer indentation level\n"
     ]
    }
   ],
   "source": [
    "if day <= 0:\n",
    "        print('Incorrect input. Day must be real positive number not to exceed 31')\n",
    "    if month == 1 or 3 or 5:\n",
    "        if day > 31:\n",
    "            print('Incorrect input. Day must be real positive number not exceding number 31 days')\n",
    "        if day <= 31:\n",
    "            day = day\n",
    "    if month == 2:\n",
    "        if day > 28:\n",
    "            print('Incorrect input. Day must be real positive number not exceding number of days in February')\n",
    "        if day <= 28:\n",
    "            day = day\n",
    "    if month == 4 or 6:\n",
    "        if day > 30:\n",
    "            print('Incorrect input. Day must be real positive number not exceding number 30 days')\n",
    "        if day <= 31:\n",
    "            day = day\n",
    "            "
   ]
  },
  {
   "cell_type": "code",
   "execution_count": 16,
   "metadata": {},
   "outputs": [
    {
     "ename": "IndentationError",
     "evalue": "unindent does not match any outer indentation level (<tokenize>, line 5)",
     "output_type": "error",
     "traceback": [
      "\u001b[1;36m  File \u001b[1;32m\"<tokenize>\"\u001b[1;36m, line \u001b[1;32m5\u001b[0m\n\u001b[1;33m    if city == 'Chicago':\u001b[0m\n\u001b[1;37m    ^\u001b[0m\n\u001b[1;31mIndentationError\u001b[0m\u001b[1;31m:\u001b[0m unindent does not match any outer indentation level\n"
     ]
    }
   ],
   "source": [
    "if city == 'NYC':\n",
    "        month = int(datetime.strptime(datum['starttime'], \"%m/%d/%Y %H:%M:%S\").strftime('%m'))\n",
    "        day_of_week = datetime.strptime(datum['starttime'], \"%m/%d/%Y %H:%M:%S\").strftime('%A')\n",
    "        hour = int(datetime.strptime(datum['starttime'], \"%m/%d/%Y %H:%M:%S\").strftime('%H'))\n",
    "    if city == 'Chicago':\n",
    "        month = int(datetime.strptime(datum['starttime'], \"%m/%d/%Y %H:%M\").strftime('%m'))\n",
    "        day_of_week = datetime.strptime(datum['starttime'], \"%m/%d/%Y %H:%M\").strftime('%A')\n",
    "        hour = int(datetime.strptime(datum['starttime'], \"%m/%d/%Y %H:%M\").strftime('%H'))\n",
    "    if city == 'Washington':\n",
    "        month = int(datetime.strptime(datum['Start date'], \"%m/%d/%Y %H:%M\").strftime('%m'))\n",
    "        day_of_week = datetime.strptime(datum['Start date'], \"%m/%d/%Y %H:%M\").strftime('%A')\n",
    "        hour = int(datetime.strptime(datum['Start date'], \"%m/%d/%Y %H:%M\").strftime('%H'))\n",
    "    return (month, hour, day_of_week)"
   ]
  },
  {
   "cell_type": "code",
   "execution_count": null,
   "metadata": {
    "collapsed": true
   },
   "outputs": [],
   "source": [
    "from collections import Counter\n",
    "\n",
    "def popular_month(city_file, time_period):\n",
    "    '''TODO: fill out docstring with description, arguments, and return values.\n",
    "    Question: What is the most popular month for start time?\n",
    "    '''\n",
    "    # TODO: complete function\n",
    "\"\"\"This takes the file and returns dict of values. \"\"\"\n",
    "with open('chicago.csv', newline='') as csv_file:\n",
    "    reader = [{key: value for key, value in row.items()}      #list comprehimsion or one liners  {} its s dictionary\n",
    "    \tfor row in csv.DictReader(csv_file, skipinitialspace=True)]\n",
    "\n",
    "\"\"\"prints dict of 'Start Time'\"\"\"   \n",
    "file_st = []\n",
    "for x in reader:\n",
    "    file_st.append({'Start Time' : x['Start Time']})      # a list of dicts\n",
    "\n",
    "if time_period == 'none':\n",
    "    \n",
    "\"\"\"prints and add month names to month[]\"\"\"\n",
    "month= []\n",
    "for x in file_st:\n",
    "    month.append(calendar.month_name[int(x['Start Time'][5:7])])\n",
    "\"\"\"counts and gives a dict of month\"\"\"        \n",
    "x=Counter(month)\n",
    "print(x, '\\n')\n",
    "\n",
    "\"\"\"printing the first dict key in month[]\"\"\"\n",
    "# for x in month:\n",
    "#     print (x)\n",
    "#     break\n",
    "\n",
    "\"\"\"prints out max out the dict of months\"\"\"\n",
    "max_month = max(x, key=x.get)\n",
    "# print('The popular month is : ',max_month, '\\n')\n",
    "\"\"\"print using .format()\"\"\"\n",
    "print('The popular month is : {} '.format(max_month))\n"
   ]
  },
  {
   "cell_type": "markdown",
   "metadata": {
    "collapsed": true
   },
   "source": [
    "[here](http://localhost:8888/notebooks/Documents/project_bikeshare/popular_month.ipynb)"
   ]
  },
  {
   "cell_type": "code",
   "execution_count": null,
   "metadata": {
    "collapsed": true
   },
   "outputs": [],
   "source": []
  },
  {
   "cell_type": "code",
   "execution_count": null,
   "metadata": {
    "collapsed": true
   },
   "outputs": [],
   "source": [
    "def popular_day(city_file, time_period):\n",
    "    '''TODO: fill out docstring with description, arguments, and return values.\n",
    "    Question: What is the most popular day of week (Monday, Tuesday, etc.) for start time?\n",
    "    '''\n",
    "    # TODO: complete function\n",
    "    \n",
    "    "
   ]
  },
  {
   "cell_type": "code",
   "execution_count": null,
   "metadata": {
    "collapsed": true
   },
   "outputs": [],
   "source": [
    "def popular_day(time_period, file_st):\n",
    "    '''\n",
    "    Question: What is the most popular day of week (Monday, Tuesday, etc.) for start time?\n",
    "    '''\n",
    "    if time_period == 'none' or 'day':\n",
    "       \n",
    "        \"\"\"gets popular weekday without filter\"\"\"     \n",
    "        max_day = max(week_day)\n",
    "        \n",
    "    elif :\n",
    "        \"\"\"filters wrt to month. that is calculates the popular day of each month and returns the max \"\"\"\n",
    "        popular_day = []  \n",
    "        for x in reader:\n",
    "            a=(calendar.month_name[int(x['Start Time'][5:7])]) #month name\n",
    "            b=parser.parse(x['Start Time']).strftime(\"%a\")  # day name\n",
    "            popular_day += [(a,b)]\n",
    "    \n",
    "        x= Counter (popular_day)\n",
    "        y= max(x, key=x.get)  #retund the filtered month and  popular da"
   ]
  },
  {
   "cell_type": "markdown",
   "metadata": {
    "collapsed": true
   },
   "source": [
    "[here](http://localhost:8888/notebooks/Documents/project_bikeshare/popular_day%20.ipynb)"
   ]
  },
  {
   "cell_type": "code",
   "execution_count": 20,
   "metadata": {
    "collapsed": true
   },
   "outputs": [],
   "source": [
    "def popular_day(city_file, time_period):\n",
    "   start_times = [i['Start Time'] for i in city_file]\n",
    "   weekday_counts = {}\n",
    "   weekday_list = [datetime.datetime.strptime(time,\"%Y-%m-%d %H:%M:%S\").strftime('%A') for time in start_times]\n",
    "   for week_day in weekday_list:\n",
    "       if week_day in weekday_counts:\n",
    "           weekday_counts[week_day] += 1\n",
    "       else:\n",
    "           weekday_counts[week_day] = 1\n",
    "   return max(weekday_counts, key = weekday_counts.get)"
   ]
  },
  {
   "cell_type": "code",
   "execution_count": null,
   "metadata": {
    "collapsed": true
   },
   "outputs": [],
   "source": [
    "def popular_hour(city_file, time_period):\n",
    "    '''TODO: fill out docstring with description, arguments, and return values.\n",
    "    Question: What is the most popular hour of day for start time?\n",
    "    '''\n",
    "    # TODO: complete function"
   ]
  },
  {
   "cell_type": "markdown",
   "metadata": {
    "collapsed": true
   },
   "source": [
    "[here](http://localhost:8888/notebooks/Documents/project_bikeshare/popular_hour.ipynb)"
   ]
  },
  {
   "cell_type": "code",
   "execution_count": null,
   "metadata": {
    "collapsed": true
   },
   "outputs": [],
   "source": [
    "def trip_duration(city_file, time_period):\n",
    "    '''TODO: fill out docstring with description, arguments, and return values.\n",
    "    Question: What is the total trip duration and average trip duration?\n",
    "    '''\n",
    "    # TODO: complete function\n",
    "    if time_period == 'none':\n",
    "        \"\"\"counter the hours\"\"\"\n",
    "        x=Counter(hour)\n",
    "        max_hour = max(x, key=x.get)\n",
    "        \n",
    "        return (max_hour)\n",
    "        \n",
    "    elif time_period == 'month' :\n",
    "        \"\"\"filter month wise\"\"\"\n",
    "        popular_hour = []\n",
    "        for x in file_st:\n",
    "            a=(calendar.month_name[int(x['Start Time'][5:7])]) #month name\n",
    "            b=hour(x)\n",
    "            popular_day += [(a,b)]\n",
    "            \n",
    "        x= Counter (popular_hour)\n",
    "        y= max(x, key=x.get)  #retund the filtered month and  popular day  example june:friday\n",
    "        return (y)\n",
    "         \n",
    "    else: \n",
    "        \"\"\"filter by day\"\"\"\n",
    "        popular_hour_day = []\n",
    "        for x in file_st:\n",
    "            a=parser.parse(x['Start Time']).strftime(\"%a\")  # day name\n",
    "            b=hour(x)\n",
    "            popular_day += [(a,b)]\n",
    "            \n",
    "        xx= Counter(popular_hour)\n",
    "        yy= max(xx, key=xx.get)  #retund the filtered month and  popular day  example june:friday\n",
    "        return (yy)\n",
    "        "
   ]
  },
  {
   "cell_type": "code",
   "execution_count": 19,
   "metadata": {},
   "outputs": [
    {
     "ename": "IndentationError",
     "evalue": "unindent does not match any outer indentation level (<tokenize>, line 12)",
     "output_type": "error",
     "traceback": [
      "\u001b[1;36m  File \u001b[1;32m\"<tokenize>\"\u001b[1;36m, line \u001b[1;32m12\u001b[0m\n\u001b[1;33m    average_time = 0\u001b[0m\n\u001b[1;37m    ^\u001b[0m\n\u001b[1;31mIndentationError\u001b[0m\u001b[1;31m:\u001b[0m unindent does not match any outer indentation level\n"
     ]
    }
   ],
   "source": [
    "def trip_duration(city_file, time_period, date):\n",
    "\t\"\"\"\n",
    "\tcity_file is a list of dictionaries\n",
    "\ttime_period is a str of either \"none\", \"day\", or \"month\"\n",
    "\tdate is an int for the following:\n",
    "\t\tnone: 0\n",
    "\t\tday: 1 - 30\n",
    "\t\tmonth: 1 - 6\n",
    "\t\"\"\"\n",
    "\t\n",
    "\ttotal_time = 0\n",
    "    average_time = 0\n",
    "    rides = 0\n",
    "\n",
    "    if time_period == 'none':\n",
    "        for row in city_file:\n",
    "            td = row['Trip Duration']\n",
    "            total_time += td\n",
    "            rides += 1\n",
    "            average_time = total_time / rides\n",
    "\n",
    "    elif time_period == 'day':\n",
    "        for row in city_file:\n",
    "            dt = time.strptime(row['Start Time'], \"%Y-%m-%d %H:%M:%S\")\n",
    "            if dt[2] == date:\n",
    "                td = row['Trip Duration']\n",
    "                total_time += td\n",
    "                rides += 1\n",
    "                average_time = total_time / rides\n",
    "\n",
    "    elif time_period == 'month':\n",
    "        for row in city_file:\n",
    "            dt = time.strptime(row['Start Time'], \"%Y-%m-%d %H:%M:%S\")\n",
    "            if dt[1] == date:\n",
    "                td = row['Trip Duration']\n",
    "                total_time += td\n",
    "                rides += 1\n",
    "                average_time = total_time / rides\n",
    "\n",
    "    return total_time, average_time"
   ]
  },
  {
   "cell_type": "markdown",
   "metadata": {
    "collapsed": true
   },
   "source": [
    "[here](http://localhost:8888/notebooks/Documents/project_bikeshare/trip_dur.ipynb?kernel_name=python3) <br>\n",
    "[here](http://localhost:8888/notebooks/Documents/project_bikeshare/trip_duration.ipynb)"
   ]
  },
  {
   "cell_type": "code",
   "execution_count": null,
   "metadata": {
    "collapsed": true
   },
   "outputs": [],
   "source": [
    "def popular_stations(city_file, time_period):\n",
    "    '''TODO: fill out docstring with description, arguments, and return values.\n",
    "    Question: What is the most popular start station and most popular end station?\n",
    "    '''\n",
    "    # TODO: complete function\n"
   ]
  },
  {
   "cell_type": "markdown",
   "metadata": {
    "collapsed": true
   },
   "source": [
    "[here](http://localhost:8888/notebooks/Documents/project_bikeshare/popular_station.ipynb)"
   ]
  },
  {
   "cell_type": "code",
   "execution_count": null,
   "metadata": {
    "collapsed": true
   },
   "outputs": [],
   "source": [
    "def popular_trip(city_file, time_period):\n",
    "    '''TODO: fill out docstring with description, arguments, and return values.\n",
    "    Question: What is the most popular trip?\n",
    "    '''\n",
    "    # TODO: complete function"
   ]
  },
  {
   "cell_type": "markdown",
   "metadata": {
    "collapsed": true
   },
   "source": [
    "[here](http://localhost:8888/notebooks/Documents/project_bikeshare/popular_trip.ipynb)"
   ]
  },
  {
   "cell_type": "code",
   "execution_count": null,
   "metadata": {
    "collapsed": true
   },
   "outputs": [],
   "source": [
    "def users(city_file, time_period):\n",
    "    '''TODO: fill out docstring with description, arguments, and return values.\n",
    "    Question: What are the counts of each user type?\n",
    "    '''\n",
    "    # TODO: complete function"
   ]
  },
  {
   "cell_type": "markdown",
   "metadata": {},
   "source": [
    "[here](http://localhost:8888/notebooks/Documents/project_bikeshare/user_type.ipynb)"
   ]
  },
  {
   "cell_type": "code",
   "execution_count": null,
   "metadata": {
    "collapsed": true
   },
   "outputs": [],
   "source": []
  },
  {
   "cell_type": "code",
   "execution_count": null,
   "metadata": {
    "collapsed": true
   },
   "outputs": [],
   "source": [
    "def gender(city_file, time_period):\n",
    "    '''TODO: fill out docstring with description, arguments, and return values.\n",
    "    Question: What are the counts of gender?\n",
    "    '''\n",
    "    # TODO: complete function"
   ]
  },
  {
   "cell_type": "markdown",
   "metadata": {
    "collapsed": true
   },
   "source": [
    "[here](http://localhost:8888/notebooks/Documents/project_bikeshare/Gender_count.ipynb)"
   ]
  },
  {
   "cell_type": "code",
   "execution_count": null,
   "metadata": {
    "collapsed": true
   },
   "outputs": [],
   "source": [
    "def birth_years(city_file, time_period):\n",
    "    '''TODO: fill out docstring with description, arguments, and return values.\n",
    "    Question: What are the earliest (i.e. oldest user), most recent (i.e. youngest user),\n",
    "    and most popular birth years?\n",
    "    '''\n",
    "    # TODO: complete function"
   ]
  },
  {
   "cell_type": "markdown",
   "metadata": {
    "collapsed": true
   },
   "source": [
    "[here](http://localhost:8888/notebooks/Documents/project_bikeshare/birthday.ipynb)"
   ]
  },
  {
   "cell_type": "code",
   "execution_count": 7,
   "metadata": {
    "collapsed": true
   },
   "outputs": [],
   "source": [
    "import pandas as pd\n",
    "df = pd.read_csv('chicago.csv')"
   ]
  },
  {
   "cell_type": "code",
   "execution_count": 13,
   "metadata": {
    "collapsed": true
   },
   "outputs": [],
   "source": [
    "import pandas as pd\n",
    "df = pd.read_csv('chicago.csv')\n",
    "\n",
    "def display_data():\n",
    "    '''Displays five lines of data if the user specifies that they would like to.\n",
    "    After displaying five lines, ask the user if they would like to see five more,\n",
    "    continuing asking until they say stop.\n",
    "\n",
    "    Args:\n",
    "        none.\n",
    "    Returns:\n",
    "        TODO: fill out return type and description (see get_city for an example)\n",
    "    '''\n",
    "    display = input('\\nWould you like to view individual trip data?'\n",
    "                    'Type \\'yes\\' or \\'no\\'.\\n')\n",
    "    # TODO: handle raw input and complete function\n",
    "    use while true here \n",
    "        \n",
    "        "
   ]
  },
  {
   "cell_type": "code",
   "execution_count": null,
   "metadata": {
    "collapsed": true
   },
   "outputs": [],
   "source": []
  },
  {
   "cell_type": "code",
   "execution_count": null,
   "metadata": {
    "collapsed": true
   },
   "outputs": [],
   "source": [
    "def statistics():\n",
    "    '''Calculates and prints out the descriptive statistics about a city and time period\n",
    "    specified by the user via raw input.\n",
    "\n",
    "    Args:\n",
    "        none.\n",
    "    Returns:\n",
    "        none.\n",
    "    '''\n",
    "    # Filter by city (Chicago, New York, Washington)\n",
    "    city = get_city()\n",
    "\n",
    "    # Filter by time period (month, day, none)\n",
    "    time_period = get_time_period()\n",
    "\n",
    "    print('Calculating the first statistic...')\n",
    "\n",
    "    # What is the most popular month for start time?\n",
    "    if time_period == 'none':\n",
    "        start_time = time.time()\n",
    "        \n",
    "        #TODO: call popular_month function and print the results\n",
    "        \n",
    "        print(\"That took %s seconds.\" % (time.time() - start_time))\n",
    "        print(\"Calculating the next statistic...\")\n",
    "\n",
    "    # What is the most popular day of week (Monday, Tuesday, etc.) for start time?\n",
    "    if time_period == 'none' or time_period == 'month':\n",
    "        start_time = time.time()\n",
    "        \n",
    "        # TODO: call popular_day function and print the results\n",
    "        \n",
    "        print(\"That took %s seconds.\" % (time.time() - start_time))\n",
    "        print(\"Calculating the next statistic...\")    \n",
    "\n",
    "    start_time = time.time()\n",
    "\n",
    "    # What is the most popular hour of day for start time?\n",
    "    # TODO: call popular_hour function and print the results\n",
    "\n",
    "    print(\"That took %s seconds.\" % (time.time() - start_time))\n",
    "    print(\"Calculating the next statistic...\")\n",
    "    start_time = time.time()\n",
    "\n",
    "    # What is the total trip duration and average trip duration?\n",
    "    # TODO: call trip_duration function and print the results\n",
    "\n",
    "    print(\"That took %s seconds.\" % (time.time() - start_time))\n",
    "    print(\"Calculating the next statistic...\")\n",
    "    start_time = time.time()\n",
    "\n",
    "    # What is the most popular start station and most popular end station?\n",
    "    # TODO: call popular_stations function and print the results\n",
    "\n",
    "    print(\"That took %s seconds.\" % (time.time() - start_time))\n",
    "    print(\"Calculating the next statistic...\")\n",
    "    start_time = time.time()\n",
    "\n",
    "    # What is the most popular trip?\n",
    "    # TODO: call popular_trip function and print the results\n",
    "\n",
    "    print(\"That took %s seconds.\" % (time.time() - start_time))\n",
    "    print(\"Calculating the next statistic...\")\n",
    "    start_time = time.time()\n",
    "\n",
    "    # What are the counts of each user type?\n",
    "    # TODO: call users function and print the results\n",
    "\n",
    "    print(\"That took %s seconds.\" % (time.time() - start_time))\n",
    "    print(\"Calculating the next statistic...\")\n",
    "    start_time = time.time()\n",
    "\n",
    "    # What are the counts of gender?\n",
    "    # TODO: call gender function and print the results\n",
    "\n",
    "    print(\"That took %s seconds.\" % (time.time() - start_time))\n",
    "    print(\"Calculating the next statistic...\")\n",
    "    start_time = time.time()\n",
    "\n",
    "    # What are the earliest (i.e. oldest user), most recent (i.e. youngest user), and\n",
    "    # most popular birth years?\n",
    "    # TODO: call birth_years function and print the results\n",
    "\n",
    "    print(\"That took %s seconds.\" % (time.time() - start_time))\n",
    "\n",
    "    # Display five lines of data at a time if user specifies that they would like to\n",
    "    display_data()\n",
    "\n",
    "    # Restart?\n",
    "    restart = input('\\nWould you like to restart? Type \\'yes\\' or \\'no\\'.\\n')\n",
    "    if restart.lower() == 'yes':\n",
    "        statistics()\n",
    "\n",
    "\n",
    "if __name__ == \"__main__\":\n",
    "\tstatistics()"
   ]
  },
  {
   "cell_type": "code",
   "execution_count": null,
   "metadata": {
    "collapsed": true
   },
   "outputs": [],
   "source": []
  },
  {
   "cell_type": "code",
   "execution_count": null,
   "metadata": {
    "collapsed": true
   },
   "outputs": [],
   "source": [
    "def city_compare():\n",
    "    '''Asks the user for a city and returns the filename for that city's bike share data.\n",
    "\n",
    "    Args:\n",
    "        none.\n",
    "    Returns:\n",
    "        (str) Filename for a city's bikeshare data.\n",
    "    '''\n"
   ]
  },
  {
   "cell_type": "code",
   "execution_count": 2,
   "metadata": {},
   "outputs": [
    {
     "ename": "SyntaxError",
     "evalue": "invalid syntax (<ipython-input-2-c6b2a39462aa>, line 9)",
     "output_type": "error",
     "traceback": [
      "\u001b[1;36m  File \u001b[1;32m\"<ipython-input-2-c6b2a39462aa>\"\u001b[1;36m, line \u001b[1;32m9\u001b[0m\n\u001b[1;33m    example_trips[city] = first_trip   city = input('Would you like a camparison of all the three cities?')\u001b[0m\n\u001b[1;37m                                          ^\u001b[0m\n\u001b[1;31mSyntaxError\u001b[0m\u001b[1;31m:\u001b[0m invalid syntax\n"
     ]
    }
   ],
   "source": [
    " # list of files for each city\n",
    "data_files = ['./data/NYC-CitiBike-2016.csv',\n",
    "              './data/Chicago-Divvy-2016.csv',\n",
    "              './data/Washington-CapitalBikeshare-2016.csv',]\n",
    "# print the first trip from each file, store in dictionary\n",
    "example_trips = {}\n",
    "for data_file in data_files:\n",
    "    city, first_trip = print_first_point(data_file)\n",
    "    example_trips[city] = first_trip   city = input('Would you like a camparison of all the three cities?')\n",
    "    # TODO: handle raw input and complete function\n",
    "    #additional eda using pandas and numpy and matplotlib"
   ]
  },
  {
   "cell_type": "markdown",
   "metadata": {},
   "source": [
    "Bike-share systems are designed for riders to take short trips. Most of the time, users are allowed to take trips of 30 minutes or less with no additional charges, with overage charges made for trips of longer than that duration. What is the average trip length for each city? What proportion of rides made in each city are longer than 30 minutes?"
   ]
  },
  {
   "cell_type": "markdown",
   "metadata": {},
   "source": [
    "Dig deeper into the question of trip duration based on ridership. Choose one city. Within that city, which type of user takes longer rides on average: Subscribers or Customers?"
   ]
  },
  {
   "cell_type": "markdown",
   "metadata": {},
   "source": [
    "Use the parameters of the .hist() function to plot the distribution of trip times for the Subscribers in your selected city. Do the same thing for only the Customers. Add limits to the plots so that only trips of duration less than 75 minutes are plotted. As a bonus, set the plots up so that bars are in five-minute wide intervals. For each group, where is the peak of each distribution? How would you describe the shape of each distribution?"
   ]
  },
  {
   "cell_type": "markdown",
   "metadata": {},
   "source": [
    "[here for inspiration](https://github.com/SThornewillvE/Udacity-Project---US-Bikeshare-Data-Analysis/blob/master/2016_US_Bikeshare_Analysis.pdf)"
   ]
  },
  {
   "cell_type": "code",
   "execution_count": 1,
   "metadata": {
    "collapsed": true
   },
   "outputs": [],
   "source": [
    "# On what days and times do people use the bikeshares the most?\n",
    "# How does use change depending on holidays?\n",
    "# Is bikeshare use similar across cities?"
   ]
  }
 ],
 "metadata": {
  "kernelspec": {
   "display_name": "Python 3",
   "language": "python",
   "name": "python3"
  },
  "language_info": {
   "codemirror_mode": {
    "name": "ipython",
    "version": 3
   },
   "file_extension": ".py",
   "mimetype": "text/x-python",
   "name": "python",
   "nbconvert_exporter": "python",
   "pygments_lexer": "ipython3",
   "version": "3.6.3"
  }
 },
 "nbformat": 4,
 "nbformat_minor": 2
}
