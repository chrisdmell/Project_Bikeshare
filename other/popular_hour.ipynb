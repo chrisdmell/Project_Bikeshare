{
 "cells": [
  {
   "cell_type": "markdown",
   "metadata": {},
   "source": [
    "# What is the most popular hour of day for start time?\n"
   ]
  },
  {
   "cell_type": "markdown",
   "metadata": {},
   "source": [
    "Member Engagement\n",
    "We’ve found effective onboarding to be a key factor in driving usage and renewals: members who ride at least 5 times in their first month are 40% more likely to renew their memberships. To this end, we’ve employed techniques to engage and activate new members through a welcome package and onboarding email series. We continue to drive engagement throughout a member’s lifecycle with monthly newsletters, seasonal emails, and user-specific messaging."
   ]
  },
  {
   "cell_type": "code",
   "execution_count": null,
   "metadata": {
    "collapsed": true
   },
   "outputs": [],
   "source": [
    "import csv\n",
    "import calendar\n",
    "from collections import Counter\n",
    "from dateutil import parser\n",
    "\n",
    "\"\"\"This takes the file and returns dict of values. \"\"\"\n",
    "with open('chicago.csv', newline='') as csv_file:\n",
    "    reader = [{key: value for key, value in row.items()}      #list comprehimsion or one liners  {} its s dictionary\n",
    "    \tfor row in csv.DictReader(csv_file, skipinitialspace=True)]\n",
    "\n",
    "\"\"\"prints dict of 'Start Time'\"\"\"   \n",
    "file_st = []\n",
    "for x in reader:\n",
    "    file_st.append({'Start Time' : x['Start Time']})      # a list of dicts\n",
    "    \n",
    "# \"\"\"prints and add month names to month[]\"\"\"\n",
    "# day= []\n",
    "# for x in file_st:\n",
    "#     day.append(calendar.day_name[int(x['Start Time'][8:10])])\n",
    "# \"\"\"counts and gives a dict of month\"\"\"        \n",
    "# x=Counter(day)\n",
    "# print(x, '\\n')\n",
    "\n",
    "\"\"\"gets the day of each datetime object\"\"\"\n",
    "week_day = []\n",
    "for x in file_st:\n",
    "    week_day.append(parser.parse(x['Start Time']).strftime(\"%a\"))    \n",
    "# print(week_day)    \n",
    "max_day = max(week_day)\n",
    "print (max_day)    \n",
    "\n",
    "\n",
    "# \"\"\"printing the first dict key in month[]\"\"\"\n",
    "# for x in month:\n",
    "#     print (x)\n",
    "#     break\n",
    "\n",
    "# \"\"\"prints out max out the dict of months\"\"\"\n",
    "# max_month = max(x, key=x.get)\n",
    "# # print('The popular month is : ',max_month, '\\n')\n",
    "# \"\"\"print using .format()\"\"\"\n",
    "# print('The popular day is : {} '.format(max_month))"
   ]
  },
  {
   "cell_type": "code",
   "execution_count": 3,
   "metadata": {
    "scrolled": true
   },
   "outputs": [
    {
     "name": "stdout",
     "output_type": "stream",
     "text": [
      "[{'Birth Year': '',\n",
      "  'End Station': 'Canal St & Monroe St (*)',\n",
      "  'End Time': '2017-01-01 00:06:32',\n",
      "  'Gender': '',\n",
      "  'Start Station': 'Canal St & Taylor St',\n",
      "  'Start Time': '2017-01-01 00:00:36',\n",
      "  'Trip Duration': '356',\n",
      "  'User Type': 'Customer'}]\n"
     ]
    }
   ],
   "source": [
    "#one\n",
    "import csv\n",
    "from pprint import pprint\n",
    "import calendar\n",
    "from collections import Counter\n",
    "\n",
    "\"\"\"This takes the file and returns dict of values. \"\"\"\n",
    "with open('chicago.csv', newline='') as csv_file:\n",
    "    reader = [{key: value for key, value in row.items()}      #list comprehimsion or one liners  {} its s dictionary\n",
    "    \tfor row in csv.DictReader(csv_file, skipinitialspace=True)]\n",
    "        \n",
    "#select the line and hit ctrl+/ to toggle between comments and code\n",
    "#print(row[1])   this doesnt work to print the first line. \n",
    "#print(reader[0:3])\n",
    "#.items() will give the index and the content \n",
    "\n",
    "\"\"\"creates a mini chicogo file called testing\"\"\"\n",
    "testing=(reader[0:15])\n",
    "pprint(testing[0:1])\n",
    "\n",
    "# \"\"\"prints dict of 'Start Time'\"\"\"   \n",
    "# file_st = []\n",
    "# for x in testing:\n",
    "#     testing.append({'Start Time' : x['Start Time']})      # a list of dicts\n",
    "# print(file_st)"
   ]
  },
  {
   "cell_type": "markdown",
   "metadata": {},
   "source": [
    "2017-01-01 00:00:36<br>\n",
    "0123456789"
   ]
  },
  {
   "cell_type": "code",
   "execution_count": 12,
   "metadata": {
    "scrolled": true
   },
   "outputs": [
    {
     "name": "stdout",
     "output_type": "stream",
     "text": [
      "Counter({1: 15}) \n",
      "\n",
      "The popular hour is : 1 \n"
     ]
    }
   ],
   "source": [
    "\"\"\"prints dict of 'Start Time'\"\"\"   \n",
    "file_st = []\n",
    "for x in testing:\n",
    "    file_st.append({'Start Time' : x['Start Time']})      # a list of dicts\n",
    "    \n",
    "\"\"\"prints and add hour 0 to 24 to hour[]\"\"\"\n",
    "hour= []\n",
    "for x in file_st:\n",
    "    hour.append(int(x['Start Time'][11:13])+1)\n",
    "# print(hour)\n",
    "# \"\"\"counts and gives a dict of month\"\"\"        \n",
    "x=Counter(hour)\n",
    "print(x, '\\n')\n",
    "\n",
    "# \"\"\"printing the first dict key in month[]\"\"\"\n",
    "# for x in month:\n",
    "#     print (x)\n",
    "#     break\n",
    "\n",
    "# \"\"\"prints out max out the dict of months\"\"\"\n",
    "max_hour = max(x, key=x.get)\n",
    "# print('The popular month is : ',max_month, '\\n')\n",
    "# \"\"\"print using .format()\"\"\"\n",
    "print('The popular hour is : {} '.format(max_hour))\n"
   ]
  },
  {
   "cell_type": "code",
   "execution_count": 11,
   "metadata": {
    "scrolled": true
   },
   "outputs": [
    {
     "name": "stdout",
     "output_type": "stream",
     "text": [
      "Counter({17: 186899, 16: 149037, 8: 125871, 18: 121463, 15: 104199, 7: 94757, 13: 91340, 14: 90836, 12: 89624, 19: 80710, 11: 78310, 9: 69752, 10: 61121, 20: 52918, 6: 42750, 21: 36693, 22: 25330, 23: 15688, 5: 12457, 0: 9023, 1: 5136, 2: 3117, 4: 2455, 3: 2019}) \n",
      "\n",
      "The popular hour is : 17 \n"
     ]
    }
   ],
   "source": [
    "import csv\n",
    "import calendar\n",
    "from collections import Counter\n",
    "from dateutil import parser\n",
    "\n",
    "\"\"\"This takes the file and returns dict of values. \"\"\"\n",
    "with open('chicago.csv', newline='') as csv_file:\n",
    "    reader = [{key: value for key, value in row.items()}      #list comprehimsion or one liners  {} its s dictionary\n",
    "    \tfor row in csv.DictReader(csv_file, skipinitialspace=True)]\n",
    "\n",
    "\"\"\"prints dict of 'Start Time'\"\"\"   \n",
    "file_st = []\n",
    "for x in reader:\n",
    "    file_st.append({'Start Time' : x['Start Time']})      # a list of dicts\n",
    "    \n",
    "# \"\"\"prints and add month names to month[]\"\"\"\n",
    "# day= []\n",
    "# for x in file_st:\n",
    "#     day.append(calendar.day_name[int(x['Start Time'][8:10])])\n",
    "# \"\"\"counts and gives a dict of month\"\"\"        \n",
    "# x=Counter(day)\n",
    "# print(x, '\\n')\n",
    "\n",
    "\"\"\"gets the hour of each datetime object\"\"\"\n",
    "hour = []\n",
    "for x in file_st:\n",
    "    hour.append(int(x['Start Time'][11:13])+1)\n",
    "\n",
    "\"\"\"counter the hpurs\"\"\"\n",
    "x=Counter(hour)\n",
    "print(x, '\\n')\n",
    "\n",
    "\"\"\"returns the mx out\"\"\"\n",
    "max_hour = max(x, key=x.get)\n",
    "print('The popular hour is : {} '.format(max_hour))\n",
    "\n",
    "# print(week_day)    \n",
    "# max_day = max(week_day)\n",
    "# print (max_day)    \n",
    "\n",
    "\n",
    "# \"\"\"printing the first dict key in month[]\"\"\"\n",
    "# for x in month:\n",
    "#     print (x)\n",
    "#     break\n",
    "\n",
    "# \"\"\"prints out max out the dict of months\"\"\"\n",
    "# max_month = max(x, key=x.get)\n",
    "# # print('The popular month is : ',max_month, '\\n')\n",
    "# \"\"\"print using .format()\"\"\"\n",
    "# print('The popular day is : {} '.format(max_month))"
   ]
  },
  {
   "cell_type": "markdown",
   "metadata": {},
   "source": [
    "### answer code"
   ]
  },
  {
   "cell_type": "code",
   "execution_count": 14,
   "metadata": {
    "scrolled": true
   },
   "outputs": [
    {
     "name": "stdout",
     "output_type": "stream",
     "text": [
      "Counter({18: 186899, 17: 149037, 9: 125871, 19: 121463, 16: 104199, 8: 94757, 14: 91340, 15: 90836, 13: 89624, 20: 80710, 12: 78310, 10: 69752, 11: 61121, 21: 52918, 7: 42750, 22: 36693, 23: 25330, 24: 15688, 6: 12457, 1: 9023, 2: 5136, 3: 3117, 5: 2455, 4: 2019}) \n",
      "\n",
      "The popular hour is : 18 \n"
     ]
    }
   ],
   "source": [
    "import csv\n",
    "import calendar\n",
    "from collections import Counter\n",
    "from dateutil import parser\n",
    "\n",
    "\"\"\"This takes the file and returns dict of values. \"\"\"\n",
    "with open('chicago.csv', newline='') as csv_file:\n",
    "    reader = [{key: value for key, value in row.items()}      #list comprehimsion or one liners  {} its s dictionary\n",
    "    \tfor row in csv.DictReader(csv_file, skipinitialspace=True)]\n",
    "\n",
    "\"\"\"prints dict of 'Start Time'\"\"\"   \n",
    "file_st = []\n",
    "for x in reader:\n",
    "    file_st.append({'Start Time' : x['Start Time']})      # a list of dicts\n",
    "    \n",
    "\"\"\"gets the hour of each datetime object\"\"\"\n",
    "hour = []\n",
    "for x in file_st:\n",
    "    hour.append(int(x['Start Time'][11:13])+1)\n",
    "\n",
    "\"\"\"counter the hpurs\"\"\"\n",
    "x=Counter(hour)\n",
    "print(x, '\\n')\n",
    "\n",
    "\"\"\"returns the mx out\"\"\"\n",
    "max_hour = max(x, key=x.get)\n",
    "print('The popular hour is : {} '.format(max_hour))\n"
   ]
  },
  {
   "cell_type": "code",
   "execution_count": 21,
   "metadata": {
    "scrolled": true
   },
   "outputs": [
    {
     "name": "stdout",
     "output_type": "stream",
     "text": [
      "[datetime.datetime(2017, 1, 1, 0, 0, 36),\n",
      " datetime.datetime(2017, 1, 1, 0, 2, 54),\n",
      " datetime.datetime(2017, 1, 1, 0, 6, 6),\n",
      " datetime.datetime(2017, 1, 1, 0, 7, 28),\n",
      " datetime.datetime(2017, 1, 1, 0, 7, 57),\n",
      " datetime.datetime(2017, 1, 1, 0, 10, 44),\n",
      " datetime.datetime(2017, 1, 1, 0, 11, 34),\n",
      " datetime.datetime(2017, 1, 1, 0, 14, 57),\n",
      " datetime.datetime(2017, 1, 1, 0, 15, 3),\n",
      " datetime.datetime(2017, 1, 1, 0, 17, 1),\n",
      " datetime.datetime(2017, 1, 1, 0, 17, 13),\n",
      " datetime.datetime(2017, 1, 1, 0, 18, 28),\n",
      " datetime.datetime(2017, 1, 1, 0, 18, 50),\n",
      " datetime.datetime(2017, 1, 1, 0, 23, 41),\n",
      " datetime.datetime(2017, 1, 1, 0, 25, 47)]\n"
     ]
    }
   ],
   "source": [
    "import csv\n",
    "import calendar\n",
    "from collections import Counter\n",
    "from dateutil import parser\n",
    "from pprint import pprint\n",
    "\n",
    "\n",
    "hour_1=[]\n",
    "for x in testing:\n",
    "    hour_1.append(parser.parse(x['Start Time']))\n",
    "    \n",
    "pprint(hour_1)"
   ]
  },
  {
   "cell_type": "code",
   "execution_count": 24,
   "metadata": {},
   "outputs": [
    {
     "name": "stdout",
     "output_type": "stream",
     "text": [
      "['Sunday',\n",
      " 'Sunday',\n",
      " 'Sunday',\n",
      " 'Sunday',\n",
      " 'Sunday',\n",
      " 'Sunday',\n",
      " 'Sunday',\n",
      " 'Sunday',\n",
      " 'Sunday',\n",
      " 'Sunday',\n",
      " 'Sunday',\n",
      " 'Sunday',\n",
      " 'Sunday',\n",
      " 'Sunday',\n",
      " 'Sunday']\n"
     ]
    }
   ],
   "source": [
    "week_daay = []\n",
    "for x in hour_1:\n",
    "    week_daay.append(x.strftime(\"%A\"))\n",
    "\n",
    "pprint(week_daay)"
   ]
  },
  {
   "cell_type": "code",
   "execution_count": null,
   "metadata": {
    "collapsed": true
   },
   "outputs": [],
   "source": []
  }
 ],
 "metadata": {
  "kernelspec": {
   "display_name": "Python 3",
   "language": "python",
   "name": "python3"
  },
  "language_info": {
   "codemirror_mode": {
    "name": "ipython",
    "version": 3
   },
   "file_extension": ".py",
   "mimetype": "text/x-python",
   "name": "python",
   "nbconvert_exporter": "python",
   "pygments_lexer": "ipython3",
   "version": "3.6.3"
  }
 },
 "nbformat": 4,
 "nbformat_minor": 2
}
