{
 "cells": [
  {
   "cell_type": "markdown",
   "metadata": {},
   "source": [
    "What are the counts of each user type?\n"
   ]
  },
  {
   "cell_type": "code",
   "execution_count": 1,
   "metadata": {},
   "outputs": [
    {
     "name": "stdout",
     "output_type": "stream",
     "text": [
      "[{'Birth Year': '',\n",
      "  'End Station': 'Canal St & Monroe St (*)',\n",
      "  'End Time': '2017-01-01 00:06:32',\n",
      "  'Gender': '',\n",
      "  'Start Station': 'Canal St & Taylor St',\n",
      "  'Start Time': '2017-01-01 00:00:36',\n",
      "  'Trip Duration': '356',\n",
      "  'User Type': 'Customer'}]\n"
     ]
    }
   ],
   "source": [
    "#one\n",
    "import csv\n",
    "from pprint import pprint\n",
    "import calendar\n",
    "from collections import Counter\n",
    "\n",
    "\"\"\"This takes the file and returns dict of values. \"\"\"\n",
    "with open('chicago.csv', newline='') as csv_file:\n",
    "    reader = [{key: value for key, value in row.items()}      #list comprehimsion or one liners  {} its s dictionary\n",
    "    \tfor row in csv.DictReader(csv_file, skipinitialspace=True)]\n",
    "    \n",
    "\"\"\"creates a mini chicogo file called testing\"\"\"\n",
    "testing=(reader[0:15])\n",
    "pprint(testing[0:1])"
   ]
  },
  {
   "cell_type": "code",
   "execution_count": 3,
   "metadata": {},
   "outputs": [],
   "source": [
    "\"\"\"prints dict of 'User Type'\"\"\"   \n",
    "user_type = []\n",
    "for x in testing:\n",
    "    user_type.append({'User Type' : x['User Type']})      # a list of dicts"
   ]
  },
  {
   "cell_type": "code",
   "execution_count": 4,
   "metadata": {
    "collapsed": true
   },
   "outputs": [],
   "source": [
    "\"\"\"adds user type to user_type1[]\"\"\"\n",
    "user_type1= []\n",
    "for x in user_type:\n",
    "    user_type1.append(x['User Type'])"
   ]
  },
  {
   "cell_type": "code",
   "execution_count": 5,
   "metadata": {},
   "outputs": [
    {
     "name": "stdout",
     "output_type": "stream",
     "text": [
      "Counter({'Subscriber': 10, 'Customer': 5}) \n",
      "\n"
     ]
    }
   ],
   "source": [
    "\"\"\"counts and gives a dict of user type\"\"\"        \n",
    "x=Counter(user_type1)\n",
    "print(x, '\\n')"
   ]
  },
  {
   "cell_type": "code",
   "execution_count": 6,
   "metadata": {},
   "outputs": [
    {
     "name": "stdout",
     "output_type": "stream",
     "text": [
      "The popular month is : Subscriber \n"
     ]
    }
   ],
   "source": [
    "\"\"\"prints out max out the dict of months\"\"\"\n",
    "max_user_type = max(x, key=x.get)\n",
    "\n",
    "\"\"\"print using .format()\"\"\"\n",
    "print('The popular month is : {} '.format(max_user_type))"
   ]
  },
  {
   "cell_type": "code",
   "execution_count": 8,
   "metadata": {
    "scrolled": true
   },
   "outputs": [
    {
     "name": "stdout",
     "output_type": "stream",
     "text": [
      "Counter({'Subscriber': 1234339, 'Customer': 317162, 'Dependent': 4}) \n",
      "\n",
      "The popular month is : Subscriber \n"
     ]
    }
   ],
   "source": [
    "#one\n",
    "import csv\n",
    "from pprint import pprint\n",
    "import calendar\n",
    "from collections import Counter\n",
    "\n",
    "\"\"\"This takes the file and returns dict of values. \"\"\"\n",
    "with open('chicago.csv', newline='') as csv_file:\n",
    "    reader = [{key: value for key, value in row.items()}      #list comprehimsion or one liners  {} its s dictionary\n",
    "    \tfor row in csv.DictReader(csv_file, skipinitialspace=True)]\n",
    "    \n",
    "\"\"\"prints dict of 'User Type'\"\"\"   \n",
    "user_type = []\n",
    "for x in reader:\n",
    "    user_type.append({'User Type' : x['User Type']}) \n",
    "    \n",
    "\"\"\"adds user type to user_type1[]\"\"\"\n",
    "user_type1= []\n",
    "for x in user_type:\n",
    "    user_type1.append(x['User Type'])\n",
    "    \n",
    "\"\"\"counts and gives a dict of user type\"\"\"        \n",
    "x=Counter(user_type1)\n",
    "print(x, '\\n')\n",
    "\n",
    "\"\"\"prints out max out the dict of months\"\"\"\n",
    "max_user_type = max(x, key=x.get)\n",
    "\n",
    "\"\"\"print using .format()\"\"\"\n",
    "print('The popular month is : {} '.format(max_user_type))"
   ]
  },
  {
   "cell_type": "code",
   "execution_count": null,
   "metadata": {},
   "outputs": [],
   "source": [
    "        \n",
    "    if time_period == 'none':\n",
    "        \"\"\"counter the hours\"\"\"\n",
    "        x=Counter(hour)\n",
    "        max_hour = max(x, key=x.get)\n",
    "        \n",
    "        return (max_hour)\n",
    "        \n",
    "    elif time_period == 'month' :\n",
    "        \"\"\"filter month wise\"\"\"\n",
    "        popular_hour = []\n",
    "        for x in file_st:\n",
    "            a=(calendar.month_name[int(x['Start Time'][5:7])]) #month name\n",
    "            b=hour[x]\n",
    "            popular_day += [(a,b)]\n",
    "            \n",
    "        x= Counter (popular_hour)\n",
    "        y= max(x, key=x.get)  #retund the filtered month and  popular day  example june:friday\n",
    "        return (y)\n",
    "         \n",
    "    else: \n",
    "        \"\"\"filter by day\"\"\"\n",
    "        popular_hour_day = []\n",
    "        for x in file_st:\n",
    "            a=parser.parse(x['Start Time']).strftime(\"%a\")  # day name\n",
    "            b=hour(x)\n",
    "            popular_day += [(a,b)]\n",
    "            \n",
    "        xx= Counter(popular_hour)\n",
    "        yy= max(xx, key=xx.get)  #retund the filtered month and  popular day  example june:friday\n",
    "        return (yy)"
   ]
  }
 ],
 "metadata": {
  "kernelspec": {
   "display_name": "Python 3",
   "language": "python",
   "name": "python3"
  },
  "language_info": {
   "codemirror_mode": {
    "name": "ipython",
    "version": 3
   },
   "file_extension": ".py",
   "mimetype": "text/x-python",
   "name": "python",
   "nbconvert_exporter": "python",
   "pygments_lexer": "ipython3",
   "version": "3.6.3"
  }
 },
 "nbformat": 4,
 "nbformat_minor": 2
}
