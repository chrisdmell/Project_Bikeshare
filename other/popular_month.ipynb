{
 "cells": [
  {
   "cell_type": "markdown",
   "metadata": {},
   "source": [
    "### What is the most popular month for start time?\n",
    "\n",
    "i need to get the month in start time and make 12 sets and return the mex set. b\n",
    "check this out [link](https://www.youtube.com/watch?v=eirjjyP2qcQ)"
   ]
  },
  {
   "cell_type": "code",
   "execution_count": 3,
   "metadata": {
    "collapsed": true
   },
   "outputs": [],
   "source": [
    "def get_time_period():\n",
    "    '''Asks the user for a time period and returns the specified filter.\n",
    "\n",
    "    Args:\n",
    "        none.\n",
    "    Returns:\n",
    "        TODO: fill out return type and description (see get_city for an example)\n",
    "    '''\n",
    "    time_period = input('\\nWould you like to filter the data by month, day, or not at'\n",
    "                        ' all? Type \"none\" for no time filter.\\n')\n",
    "    # TODO: handle raw input and complete function\n"
   ]
  },
  {
   "cell_type": "code",
   "execution_count": 4,
   "metadata": {
    "collapsed": true
   },
   "outputs": [],
   "source": [
    "def popular_month(city_file, time_period):\n",
    "    '''TODO: fill out docstring with description, arguments, and return values.\n",
    "    Question: What is the most popular month for start time?\n",
    "    '''\n",
    "    # TODO: complete function"
   ]
  },
  {
   "cell_type": "code",
   "execution_count": 1,
   "metadata": {},
   "outputs": [
    {
     "ename": "SyntaxError",
     "evalue": "invalid syntax (<ipython-input-1-cf3a925c4795>, line 24)",
     "output_type": "error",
     "traceback": [
      "\u001b[1;36m  File \u001b[1;32m\"<ipython-input-1-cf3a925c4795>\"\u001b[1;36m, line \u001b[1;32m24\u001b[0m\n\u001b[1;33m    if k == 'Start Time' v.split('-') == 01 in line:\u001b[0m\n\u001b[1;37m                         ^\u001b[0m\n\u001b[1;31mSyntaxError\u001b[0m\u001b[1;31m:\u001b[0m invalid syntax\n"
     ]
    }
   ],
   "source": [
    "def popular_month(city_file, time_period):\n",
    "   '''\n",
    "   Takes .csv file for city and outputs most popular month\n",
    "\n",
    "   Args:\n",
    "       (list) .csv file and (str) time period user selected\n",
    "   Returns:\n",
    "       (str) Name of month with the most rides purchased\n",
    "\n",
    "   Question: What is the most popular month for start time?\n",
    "   '''\n",
    "\n",
    "   month_count = {\n",
    "       \"January\" : 0,\n",
    "       \"February\" : 0,\n",
    "       \"March\" : 0,\n",
    "       \"April\" : 0,\n",
    "       \"May\" : 0,\n",
    "       \"June\" : 0\n",
    "   }\n",
    "\n",
    "\n",
    "   for line in city_file:\n",
    "       if k == 'Start Time' v.split('-') == 01 in line:\n",
    "           month_count['January'] += 1"
   ]
  },
  {
   "cell_type": "code",
   "execution_count": 2,
   "metadata": {},
   "outputs": [
    {
     "ename": "IndentationError",
     "evalue": "expected an indented block (<ipython-input-2-5fc176f1c6dd>, line 5)",
     "output_type": "error",
     "traceback": [
      "\u001b[1;36m  File \u001b[1;32m\"<ipython-input-2-5fc176f1c6dd>\"\u001b[1;36m, line \u001b[1;32m5\u001b[0m\n\u001b[1;33m    If month == selected month:\u001b[0m\n\u001b[1;37m     ^\u001b[0m\n\u001b[1;31mIndentationError\u001b[0m\u001b[1;31m:\u001b[0m expected an indented block\n"
     ]
    }
   ],
   "source": [
    "month_count={}\n",
    "for row in city_file:\n",
    "  #Convert the start time using datetime.strptime\n",
    "#extract the month using strftime()\n",
    "If month == selected month:\n",
    "   If month not in month_count:\n",
    "       month_count[month] = 1\n",
    "   else :\n",
    "       month_count[month]+=1"
   ]
  },
  {
   "cell_type": "code",
   "execution_count": 42,
   "metadata": {
    "scrolled": false
   },
   "outputs": [
    {
     "name": "stdout",
     "output_type": "stream",
     "text": [
      "[{'Birth Year': '',\n",
      "  'End Station': 'Canal St & Monroe St (*)',\n",
      "  'End Time': '2017-01-01 00:06:32',\n",
      "  'Gender': '',\n",
      "  'Start Station': 'Canal St & Taylor St',\n",
      "  'Start Time': '2017-01-01 00:00:36',\n",
      "  'Trip Duration': '356',\n",
      "  'User Type': 'Customer'}]\n"
     ]
    }
   ],
   "source": [
    "#one\n",
    "import csv\n",
    "from pprint import pprint\n",
    "\"\"\"This takes the file and returns dict of values. \"\"\"\n",
    "with open('chicago.csv', newline='') as csv_file:\n",
    "    reader = [{key: value for key, value in row.items()}      #list comprehimsion or one liners  {} its s dictionary\n",
    "    \tfor row in csv.DictReader(csv_file, skipinitialspace=True)]\n",
    "    \n",
    "    \n",
    "#select the line and hit ctrl+/ to toggle between comments and code\n",
    "#print(row[1])   this doesnt work to print the first line. \n",
    "#print(reader[0:3])\n",
    "#.items() will give the index and the content \n",
    "\"\"\"creates a mini chicogo file called testing\"\"\"\n",
    "testing=(reader[0:15])\n",
    "pprint(testing[0:1])"
   ]
  },
  {
   "cell_type": "code",
   "execution_count": 43,
   "metadata": {},
   "outputs": [
    {
     "name": "stdout",
     "output_type": "stream",
     "text": [
      "[{'Start Time': '2017-01-01 00:00:36', 'End Time': '2017-01-01 00:06:32', 'Trip Duration': '356', 'Start Station': 'Canal St & Taylor St', 'End Station': 'Canal St & Monroe St (*)', 'User Type': 'Customer', 'Gender': '', 'Birth Year': ''}]\n"
     ]
    }
   ],
   "source": [
    "print(testing[0:1])"
   ]
  },
  {
   "cell_type": "code",
   "execution_count": 106,
   "metadata": {
    "scrolled": true
   },
   "outputs": [
    {
     "name": "stdout",
     "output_type": "stream",
     "text": [
      "[{'Start Time': '2017-01-01 00:00:36'}, {'Start Time': '2017-01-01 00:02:54'}, {'Start Time': '2017-01-01 00:06:06'}, {'Start Time': '2017-01-01 00:07:28'}, {'Start Time': '2017-01-01 00:07:57'}, {'Start Time': '2017-01-01 00:10:44'}, {'Start Time': '2017-01-01 00:11:34'}, {'Start Time': '2017-01-01 00:14:57'}, {'Start Time': '2017-01-01 00:15:03'}, {'Start Time': '2017-01-01 00:17:01'}, {'Start Time': '2017-01-01 00:17:13'}, {'Start Time': '2017-01-01 00:18:28'}, {'Start Time': '2017-01-01 00:18:50'}, {'Start Time': '2017-01-01 00:23:41'}, {'Start Time': '2017-01-01 00:25:47'}] \n",
      "\n",
      "15\n",
      "Counter({'January': 15})\n"
     ]
    }
   ],
   "source": [
    "\"\"\"prints out start timing in yyyy-mm-dd hh-mm-ss format\"\"\"\n",
    "# for x in testing:\n",
    "#     print (x['Start Time'])\n",
    "\n",
    "\"\"\"prints a list of dates\"\"\"\n",
    "# file_st = []\n",
    "# for x in testing:\n",
    "#     file_st.append(x['Start Time'])\n",
    "# print (file_st)   # a list of dates\n",
    "\n",
    "\n",
    "\n",
    "from pprint import pprint\n",
    "from collections import Counter\n",
    "\"\"\"prints a list of dict in list comprehension format code\"\"\"\n",
    "# file_st = [{'Start Time': x['Start Time']} for x in testing]\n",
    " \n",
    "\"\"\"prinst a list of dict\"\"\"\n",
    "file_st = []\n",
    "for x in testing:\n",
    "    file_st.append({'Start Time' : x['Start Time']})      # a list of dicts\n",
    "print (file_st, '\\n')   \n",
    "\n",
    "\"\"\"counts and returns the count of month efficiently\"\"\"\n",
    "c = Counter((calendar.month_name[int(month['Start Time'][5:7])] for month in file_st))\n",
    "# for month in file_st:\n",
    "#     c=(calendar.month_name[int(month['Start Time'][5:7])])\n",
    "    \n",
    "print (c['January'])\n",
    "print(c)\n"
   ]
  },
  {
   "cell_type": "markdown",
   "metadata": {},
   "source": [
    "counter code [c = Counter((calendar.month_name[int(month['Start Time'][5:7])] for month in file_st))\n",
    "](https://stackoverflow.com/questions/49107868/finding-the-max-month-of-a-year/49108127#49108127)"
   ]
  },
  {
   "cell_type": "code",
   "execution_count": 41,
   "metadata": {},
   "outputs": [
    {
     "name": "stdout",
     "output_type": "stream",
     "text": [
      "['2017-01-01 00:00:36',\n",
      " '2017-01-01 00:02:54',\n",
      " '2017-01-01 00:06:06',\n",
      " '2017-01-01 00:07:28',\n",
      " '2017-01-01 00:07:57',\n",
      " '2017-01-01 00:10:44',\n",
      " '2017-01-01 00:11:34',\n",
      " '2017-01-01 00:14:57',\n",
      " '2017-01-01 00:15:03',\n",
      " '2017-01-01 00:17:01',\n",
      " '2017-01-01 00:17:13',\n",
      " '2017-01-01 00:18:28',\n",
      " '2017-01-01 00:18:50',\n",
      " '2017-01-01 00:23:41',\n",
      " '2017-01-01 00:25:47']\n"
     ]
    }
   ],
   "source": [
    "\"\"\"returns a list of dates\"\"\"\n",
    "file_st = []\n",
    "\n",
    "for x in testing:\n",
    "    file_st.append(x['Start Time'])\n",
    "pprint (file_st)   # a list of dates\n",
    "\n",
    "\n"
   ]
  },
  {
   "cell_type": "code",
   "execution_count": 39,
   "metadata": {},
   "outputs": [
    {
     "name": "stdout",
     "output_type": "stream",
     "text": [
      "2017-01-01 00:00:36\n",
      "2017-01-01 00:02:54\n",
      "2017-01-01 00:06:06\n",
      "2017-01-01 00:07:28\n",
      "2017-01-01 00:07:57\n",
      "2017-01-01 00:10:44\n",
      "2017-01-01 00:11:34\n",
      "2017-01-01 00:14:57\n",
      "2017-01-01 00:15:03\n",
      "2017-01-01 00:17:01\n",
      "2017-01-01 00:17:13\n",
      "2017-01-01 00:18:28\n",
      "2017-01-01 00:18:50\n",
      "2017-01-01 00:23:41\n",
      "2017-01-01 00:25:47\n"
     ]
    }
   ],
   "source": [
    "\"\"\"returns a list of dates\"\"\"\n",
    "for x in testing:\n",
    "    print (x['Start Time'])\n"
   ]
  },
  {
   "cell_type": "code",
   "execution_count": 126,
   "metadata": {},
   "outputs": [
    {
     "name": "stdout",
     "output_type": "stream",
     "text": [
      "January\n"
     ]
    }
   ],
   "source": [
    "import calendar\n",
    "from collections import Counter\n",
    "\"\"\"Returns the popular month with counts\"\"\"\n",
    "month=[]\n",
    "# c = Counter((calendar.month_name[int(month['Start Time'][5:7])] for month in city_file))\n",
    "for x in testing:\n",
    "    \"\"\"retunrs the last iterated month month \"\"\"\n",
    "#     month(calendar.month_name[int(x['Start Time'][5:7])])\n",
    "    \"\"\"returns the list of months appened\"\"\"\n",
    "    month.append(calendar.month_name[int(x['Start Time'][5:7])])\n",
    "\n",
    "x=Counter(month)\n",
    "for x in month:\n",
    "    print (x)\n",
    "    break"
   ]
  },
  {
   "cell_type": "code",
   "execution_count": null,
   "metadata": {
    "collapsed": true
   },
   "outputs": [],
   "source": [
    "import calendar\n",
    "from collections import Counter\n"
   ]
  },
  {
   "cell_type": "markdown",
   "metadata": {},
   "source": [
    "here [link for calender](https://stackoverflow.com/questions/48940068/finding-the-max-count-of-months-in-a-list-of-dictionaries)"
   ]
  },
  {
   "cell_type": "code",
   "execution_count": 5,
   "metadata": {
    "scrolled": false
   },
   "outputs": [
    {
     "name": "stdout",
     "output_type": "stream",
     "text": [
      "Counter({'June': 2, 'May': 1, 'July': 1})\n",
      "June\n"
     ]
    }
   ],
   "source": [
    "import calendar\n",
    "from collections import Counter\n",
    "dates = (\n",
    "    '2017-05-01 11:45:35',\n",
    "    '2017-06-01 11:45:35',\n",
    "    '2017-06-01 11:45:35',\n",
    "    '2017-07-01 11:45:35',\n",
    ")\n",
    "city_file = [{'Start Time': d} for d in dates]\n",
    "# print (city_file)\n",
    "c = Counter((calendar.month_name[int(month['Start Time'][5:7])] for month in city_file))\n",
    "\n",
    "# '''month prints out the month// month (year, month, w, l)// if an argument is passed \n",
    "# and\n",
    "# calender.month_name == An array that represents the months of the year in the current locale. This follows normal convention of \n",
    "# January being month number 1,so it has a length of 13 and month_name[0] is the empty string.'''\n",
    "\n",
    "print(c)\n",
    "\n",
    "d= max(c,key=c.get)\n",
    "print(d)"
   ]
  },
  {
   "cell_type": "markdown",
   "metadata": {},
   "source": [
    "code to get the maximun of the [Counter({'June': 2, 'May': 1, 'July': 1})](https://stackoverflow.com/questions/268272/getting-key-with-maximum-value-in-dictionary)"
   ]
  },
  {
   "cell_type": "code",
   "execution_count": 30,
   "metadata": {
    "scrolled": true
   },
   "outputs": [
    {
     "name": "stdout",
     "output_type": "stream",
     "text": [
      "Time in seconds since the epoch: 1520235552.224804  \n",
      "\n",
      "Current date and time:   2018-03-05 13:09:12.224803 \n",
      "\n",
      "Or like this:  18-03-05-13-09 \n",
      "\n",
      "Current year:  2018 \n",
      "\n",
      "Month of year:  March \n",
      "\n",
      "Week number of the year:  10 \n",
      "\n",
      "Weekday of the week:  1 \n",
      "\n",
      "Day of year:  064 \n",
      "\n",
      "Day of the month :  05 \n",
      "\n",
      "Day of week:  Monday \n",
      "\n"
     ]
    }
   ],
   "source": [
    "import time\n",
    "import datetime\n",
    "\n",
    "print( \"Time in seconds since the epoch: %s \" %time.time(), '\\n')\n",
    "print( \"Current date and time:  \" , datetime.datetime.now(), '\\n')\n",
    "print( \"Or like this: \" ,datetime.datetime.now().strftime(\"%y-%m-%d-%H-%M\"), '\\n')\n",
    "\n",
    "\n",
    "print( \"Current year: \", datetime.date.today().strftime(\"%Y\"), '\\n')\n",
    "print( \"Month of year: \", datetime.date.today().strftime(\"%B\"), '\\n')\n",
    "print( \"Week number of the year: \", datetime.date.today().strftime(\"%W\"), '\\n')\n",
    "print( \"Weekday of the week: \", datetime.date.today().strftime(\"%w\"), '\\n')\n",
    "print( \"Day of year: \", datetime.date.today().strftime(\"%j\"), '\\n')\n",
    "print( \"Day of the month : \", datetime.date.today().strftime(\"%d\"), '\\n')\n",
    "print (\"Day of week: \", datetime.date.today().strftime(\"%A\"), '\\n')\n"
   ]
  },
  {
   "cell_type": "markdown",
   "metadata": {},
   "source": [
    "[strframe full uses](http://strftime.org/)"
   ]
  },
  {
   "cell_type": "code",
   "execution_count": 1,
   "metadata": {},
   "outputs": [
    {
     "name": "stdout",
     "output_type": "stream",
     "text": [
      "Saturday\n"
     ]
    },
    {
     "data": {
      "text/plain": [
       "' this is test docstring'"
      ]
     },
     "execution_count": 1,
     "metadata": {},
     "output_type": "execute_result"
    }
   ],
   "source": [
    "import datetime\n",
    "\n",
    "mydate = datetime.date(1943,3, 13)  #year, month, day\n",
    "print(mydate.strftime(\"%A\"))\n",
    "\"\"\" this is test docstring\"\"\""
   ]
  },
  {
   "cell_type": "code",
   "execution_count": 82,
   "metadata": {},
   "outputs": [
    {
     "data": {
      "text/plain": [
       "'April'"
      ]
     },
     "execution_count": 82,
     "metadata": {},
     "output_type": "execute_result"
    }
   ],
   "source": [
    "import calendar\n",
    "calendar.month_name[4]"
   ]
  },
  {
   "cell_type": "code",
   "execution_count": 91,
   "metadata": {},
   "outputs": [
    {
     "name": "stdout",
     "output_type": "stream",
     "text": [
      "     July 2015\n",
      "Mo Tu We Th Fr Sa Su\n",
      "       1  2  3  4  5\n",
      " 6  7  8  9 10 11 12\n",
      "13 14 15 16 17 18 19\n",
      "20 21 22 23 24 25 26\n",
      "27 28 29 30 31\n",
      "\n"
     ]
    }
   ],
   "source": [
    "\n",
    "import calendar\n",
    "print(calendar.month(2015,7,2,1))\n",
    "# try withput print \n"
   ]
  },
  {
   "cell_type": "code",
   "execution_count": 12,
   "metadata": {},
   "outputs": [
    {
     "name": "stdout",
     "output_type": "stream",
     "text": [
      "2017-04-04\n"
     ]
    }
   ],
   "source": [
    "import datetime\n",
    "\n",
    "date1 = datetime.date(2017, 4, 4)\n",
    "print(date1)"
   ]
  },
  {
   "cell_type": "code",
   "execution_count": null,
   "metadata": {
    "collapsed": true
   },
   "outputs": [],
   "source": [
    "today= datetime.date.today"
   ]
  },
  {
   "cell_type": "code",
   "execution_count": 4,
   "metadata": {},
   "outputs": [
    {
     "name": "stdout",
     "output_type": "stream",
     "text": [
      "June\n"
     ]
    }
   ],
   "source": [
    "import csv\n",
    "import calendar\n",
    "\"\"\"This takes the file and returns dict of values. \"\"\"\n",
    "with open('chicago.csv', newline='') as csv_file:\n",
    "    reader = [{key: value for key, value in row.items()}      #list comprehimsion or one liners  {} its s dictionary\n",
    "    \tfor row in csv.DictReader(csv_file, skipinitialspace=True)]\n",
    "    \n",
    "\"\"\" returns list of dicts of start time\"\"\"    \n",
    "file_st = []\n",
    "for x in reader:\n",
    "    file_st.append({'Start Time' : x['Start Time']})      # a list of dicts\n",
    "# print (file_st, '\\n')   \n",
    "\n",
    "\"\"\"counts the popular month\"\"\"\n",
    "# c = Counter((calendar.month_name[int(month['Start Time'][5:7])] for month in file_st))\n",
    "\"\"\"prints out the last value of month\"\"\"\n",
    "for month in file_st:\n",
    "    c=calendar.month_name[int(month['Start Time'][5:7])]\n",
    "## 5:7 gives the character corresponding to month (yyyy-mm-dd hh-mm-ss) (0123-56-89 hh-mm-ss)   \n",
    "print (c)"
   ]
  },
  {
   "cell_type": "markdown",
   "metadata": {},
   "source": [
    "error [here](https://stackoverflow.com/questions/1841565/valueerror-invalid-literal-for-int-with-base-10)   at 5:7 if i change it to other it ll give an error"
   ]
  },
  {
   "cell_type": "code",
   "execution_count": 71,
   "metadata": {},
   "outputs": [
    {
     "name": "stdout",
     "output_type": "stream",
     "text": [
      "June\n"
     ]
    }
   ],
   "source": [
    "import csv\n",
    "import calendar\n",
    "from collections import Counter\n",
    "\"\"\"This takes the file and returns dict of values. \"\"\"\n",
    "with open('chicago.csv', newline='') as csv_file:\n",
    "    reader = [{key: value for key, value in row.items()}      #list comprehimsion or one liners  {} its s dictionary\n",
    "    \tfor row in csv.DictReader(csv_file, skipinitialspace=True)]\n",
    "    \n",
    "\"\"\"prints dict of 'Start Time'\"\"\"   \n",
    "file_st = []\n",
    "for x in reader:\n",
    "    file_st.append({'Start Time' : x['Start Time']})      # a list of dicts\n",
    "# print (file_st, '\\n')   \n",
    "\n",
    "\"\"\"counts the popular month\"\"\"\n",
    "# c = Counter((calendar.month_name[int(month['Start Time'][5:7])] for month in city_file))\n",
    "\n",
    "\"\"\"counts the last month in the iteration\"\"\"\n",
    "for month in file_st:\n",
    "    c=calendar.month_name[int(month['Start Time'][5:7])]    \n",
    "print (c)   #this code is correct ."
   ]
  },
  {
   "cell_type": "code",
   "execution_count": 9,
   "metadata": {
    "scrolled": true
   },
   "outputs": [
    {
     "name": "stdout",
     "output_type": "stream",
     "text": [
      "Counter({'June': 505164, 'May': 345988, 'April': 268662, 'February': 166343, 'March': 153406, 'January': 111942}) \n",
      "\n",
      "The popular month is :  June \n",
      "\n",
      "The popular month is : June \n"
     ]
    }
   ],
   "source": [
    "import csv\n",
    "import calendar\n",
    "from collections import Counter\n",
    "\"\"\"This takes the file and returns dict of values. \"\"\"\n",
    "with open('chicago.csv', newline='') as csv_file:\n",
    "    reader = [{key: value for key, value in row.items()}      #list comprehimsion or one liners  {} its s dictionary\n",
    "    \tfor row in csv.DictReader(csv_file, skipinitialspace=True)]\n",
    "\n",
    "\"\"\"prints dict of 'Start Time'\"\"\"   \n",
    "file_st = []\n",
    "for x in reader:\n",
    "    file_st.append({'Start Time' : x['Start Time']})      # a list of dicts\n",
    "    \n",
    "\"\"\"prints and add month names to month[]\"\"\"\n",
    "month= []\n",
    "for x in file_st:\n",
    "    month.append(calendar.month_name[int(x['Start Time'][5:7])])\n",
    "\"\"\"counts and gives a dict of month\"\"\"        \n",
    "x=Counter(month)\n",
    "print(x, '\\n')\n",
    "\n",
    "\"\"\"printing the first dict key in month[]\"\"\"\n",
    "# for x in month:\n",
    "#     print (x)\n",
    "#     break\n",
    "\n",
    "\"\"\"prints out max out the dict of months\"\"\"\n",
    "max_month = max(x, key=x.get)\n",
    "# print('The popular month is : ',max_month, '\\n')\n",
    "\"\"\"print using .format()\"\"\"\n",
    "print('The popular month is : {} '.format(max_month))\n"
   ]
  },
  {
   "cell_type": "markdown",
   "metadata": {},
   "source": [
    ".get is used in dict to get the value of a key. <br>\n",
    "max function outut the key of max  value"
   ]
  },
  {
   "cell_type": "markdown",
   "metadata": {},
   "source": [
    "[indentation error](https://stackoverflow.com/questions/10238770/indentationerror-expected-an-indented-block)"
   ]
  }
 ],
 "metadata": {
  "kernelspec": {
   "display_name": "Python 3",
   "language": "python",
   "name": "python3"
  },
  "language_info": {
   "codemirror_mode": {
    "name": "ipython",
    "version": 3
   },
   "file_extension": ".py",
   "mimetype": "text/x-python",
   "name": "python",
   "nbconvert_exporter": "python",
   "pygments_lexer": "ipython3",
   "version": "3.6.3"
  }
 },
 "nbformat": 4,
 "nbformat_minor": 2
}
