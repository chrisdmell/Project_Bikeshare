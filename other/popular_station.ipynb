{
 "cells": [
  {
   "cell_type": "markdown",
   "metadata": {},
   "source": [
    "# What is the most popular start station and most popular end station?\n"
   ]
  },
  {
   "cell_type": "code",
   "execution_count": 1,
   "metadata": {},
   "outputs": [
    {
     "name": "stdout",
     "output_type": "stream",
     "text": [
      "[{'Birth Year': '',\n",
      "  'End Station': 'Canal St & Monroe St (*)',\n",
      "  'End Time': '2017-01-01 00:06:32',\n",
      "  'Gender': '',\n",
      "  'Start Station': 'Canal St & Taylor St',\n",
      "  'Start Time': '2017-01-01 00:00:36',\n",
      "  'Trip Duration': '356',\n",
      "  'User Type': 'Customer'}]\n"
     ]
    }
   ],
   "source": [
    "#one\n",
    "import csv\n",
    "from pprint import pprint\n",
    "\"\"\"This takes the file and returns dict of values. \"\"\"\n",
    "with open('chicago.csv', newline='') as csv_file:\n",
    "    reader = [{key: value for key, value in row.items()}      #list comprehimsion or one liners  {} its s dictionary\n",
    "    \tfor row in csv.DictReader(csv_file, skipinitialspace=True)]\n",
    "    \n",
    "\"\"\"creates a mini chicogo file called testing\"\"\"\n",
    "testing=(reader[0:15])\n",
    "pprint(testing[0:1])\n"
   ]
  },
  {
   "cell_type": "code",
   "execution_count": 21,
   "metadata": {},
   "outputs": [
    {
     "name": "stdout",
     "output_type": "stream",
     "text": [
      "popular start station is Daley Center Plaza and popular end station is Canal St & Monroe St (*)\n"
     ]
    }
   ],
   "source": [
    "from collections import Counter\n",
    "\n",
    "\"\"\"start/end station popular\"\"\"\n",
    "station_start = []\n",
    "station_end = []\n",
    "for x in testing:\n",
    "    station_start.append(x['Start Station'])\n",
    "    station_end.append(x['End Station'])\n",
    "\n",
    "y=Counter(station_start)\n",
    "d= max(y,key=y.get)\n",
    "\n",
    "z=Counter(station_end)\n",
    "e= max(z,key=z.get)\n",
    "print('popular start station is {} and popular end station is {}'.format(d,e) )\n"
   ]
  },
  {
   "cell_type": "code",
   "execution_count": 26,
   "metadata": {},
   "outputs": [
    {
     "name": "stdout",
     "output_type": "stream",
     "text": [
      "popular start station is Streeter Dr & Grand Ave and popular end station is Streeter Dr & Grand Ave\n"
     ]
    }
   ],
   "source": [
    "#one\n",
    "import csv\n",
    "from pprint import pprint\n",
    "from collections import Counter\n",
    "\n",
    "\"\"\"This takes the file and returns dict of values. \"\"\"\n",
    "with open('chicago.csv', newline='') as csv_file:\n",
    "    reader = [{key: value for key, value in row.items()}      #list comprehimsion or one liners  {} its s dictionary\n",
    "    \tfor row in csv.DictReader(csv_file, skipinitialspace=True)]\n",
    "\n",
    "\"\"\"start/end station popular\"\"\"\n",
    "station_start = []\n",
    "station_end = []\n",
    "for x in reader:\n",
    "    station_start.append(x['Start Station'])\n",
    "    station_end.append(x['End Station'])\n",
    "\n",
    "y=Counter(station_start)\n",
    "d= max(y,key=y.get)\n",
    "\n",
    "z=Counter(station_end)\n",
    "e= max(z,key=z.get)\n",
    "print('popular start station is {} and popular end station is {}'.format(d,e) )\n",
    "    \n"
   ]
  },
  {
   "cell_type": "code",
   "execution_count": null,
   "metadata": {},
   "outputs": [],
   "source": [
    "station_start = []\n",
    "    station_end = [] \n",
    "    pop_start = []\n",
    "    pop_end = []\n",
    "\n",
    "elif time_period == 'month' :\n",
    "        \"\"\"filter month wise\"\"\"\n",
    "        for x in city_file:\n",
    "            a=(calendar.month_name[int(x['Start Time'][5:7])]) #month name\n",
    "            b=x['Start Station']\n",
    "            c=x['End Station']\n",
    "            popular_start += [(a,b)]\n",
    "            popular_end += [(a,b)]\n",
    "           \n",
    "        x= Counter (pop_start)\n",
    "        y= max(x, key=x.get)  \n",
    "        xx= Counter (pop_end)\n",
    "        yy= max(xx, key=x.get)  \n",
    "        return (y,yy)\n",
    "         \n",
    "    else: \n",
    "        \"\"\"filter by day\"\"\"\n",
    "        for x in city_file:\n",
    "            a=parser.parse(x['Start Time']).strftime(\"%a\")  # day name\n",
    "            b=x['Start Station']\n",
    "            c=x['End Station']\n",
    "            popular_start += [(a,b)]\n",
    "            popular_end += [(a,b)]\n",
    "           \n",
    "        x= Counter (pop_start)\n",
    "        y= max(x, key=x.get)  \n",
    "        xx= Counter (pop_end)\n",
    "        yy= max(xx, key=x.get)  \n",
    "        return (y,yy)\n",
    "    \n",
    "        popular_hour_day = []\n",
    "        for x in file_st:\n",
    "            a=parser.parse(x['Start Time']).strftime(\"%a\")  # day name\n",
    "            b=hour(x)\n",
    "            popular_day += [(a,b)]\n",
    "            \n",
    "        xx= Counter(popular_hour)\n",
    "        yy= max(xx, key=xx.get)  #retund the filtered month and  popular day  example june:friday\n",
    "        return (yy)"
   ]
  },
  {
   "cell_type": "code",
   "execution_count": null,
   "metadata": {
    "collapsed": true
   },
   "outputs": [],
   "source": [
    "elif time_period == 'month' :\n",
    "        \"\"\"filter month wise\"\"\"\n",
    "        for x in file_st:\n",
    "            a=(calendar.month_name[int(x['Start Time'][5:7])]) #month name\n",
    "            b=hour(x)\n",
    "            popular_day += [(a,b)]\n",
    "            \n",
    "        x= Counter (popular_hour)\n",
    "        y= max(x, key=x.get)  #retund the filtered month and  popular day  example june:friday\n",
    "        return (y)\n",
    "         \n",
    "    else: \n",
    "        \"\"\"filter by day\"\"\"\n",
    "        popular_hour_day = []\n",
    "        for x in file_st:\n",
    "            a=parser.parse(x['Start Time']).strftime(\"%a\")  # day name\n",
    "            b=hour(x)\n",
    "            popular_day += [(a,b)]\n",
    "            \n",
    "        xx= Counter(popular_hour)\n",
    "        yy= max(xx, key=xx.get)  #retund the filtered month and  popular day  example june:friday\n",
    "        return (yy)\n"
   ]
  }
 ],
 "metadata": {
  "kernelspec": {
   "display_name": "Python 3",
   "language": "python",
   "name": "python3"
  },
  "language_info": {
   "codemirror_mode": {
    "name": "ipython",
    "version": 3
   },
   "file_extension": ".py",
   "mimetype": "text/x-python",
   "name": "python",
   "nbconvert_exporter": "python",
   "pygments_lexer": "ipython3",
   "version": "3.6.3"
  }
 },
 "nbformat": 4,
 "nbformat_minor": 2
}
