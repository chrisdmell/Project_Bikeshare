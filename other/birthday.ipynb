{
 "cells": [
  {
   "cell_type": "markdown",
   "metadata": {},
   "source": [
    "What are the earliest (i.e. oldest person)<br>, most recent (i.e. youngest person)<br>, and most popular birth years?m"
   ]
  },
  {
   "cell_type": "code",
   "execution_count": 1,
   "metadata": {},
   "outputs": [
    {
     "name": "stdout",
     "output_type": "stream",
     "text": [
      "3.6.3 |Anaconda custom (64-bit)| (default, Oct 15 2017, 03:27:45) [MSC v.1900 64 bit (AMD64)]\n"
     ]
    }
   ],
   "source": [
    "import sys\n",
    "print(sys.version)"
   ]
  },
  {
   "cell_type": "code",
   "execution_count": 2,
   "metadata": {},
   "outputs": [
    {
     "name": "stdout",
     "output_type": "stream",
     "text": [
      "[{'Birth Year': '',\n",
      "  'End Station': 'Canal St & Monroe St (*)',\n",
      "  'End Time': '2017-01-01 00:06:32',\n",
      "  'Gender': '',\n",
      "  'Start Station': 'Canal St & Taylor St',\n",
      "  'Start Time': '2017-01-01 00:00:36',\n",
      "  'Trip Duration': '356',\n",
      "  'User Type': 'Customer'}]\n"
     ]
    }
   ],
   "source": [
    "#one\n",
    "import csv\n",
    "from pprint import pprint\n",
    "import calendar\n",
    "from collections import Counter\n",
    "\n",
    "\"\"\"This takes the file and returns dict of values. \"\"\"\n",
    "with open('chicago.csv', newline='') as csv_file:\n",
    "    reader = [{key: value for key, value in row.items()}      #list comprehimsion or one liners  {} its s dictionary\n",
    "    \tfor row in csv.DictReader(csv_file, skipinitialspace=True)]\n",
    "\n",
    "\"\"\"creates a mini chicogo file called testing\"\"\"\n",
    "testing=(reader[0:15])\n",
    "pprint(testing[0:1])"
   ]
  },
  {
   "cell_type": "code",
   "execution_count": 6,
   "metadata": {},
   "outputs": [
    {
     "name": "stdout",
     "output_type": "stream",
     "text": [
      "[{'Birth Year': '1965.0',\n",
      "  'End Station': 'Central Park West & W 72 St',\n",
      "  'End Time': '2017-01-01 00:11:41',\n",
      "  'Gender': 'Female',\n",
      "  'Start Station': 'W 82 St & Central Park West',\n",
      "  'Start Time': '2017-01-01 00:00:21',\n",
      "  'Trip Duration': '680',\n",
      "  'User Type': 'Subscriber'},\n",
      " {'Birth Year': '1987.0',\n",
      "  'End Station': 'Broadway & W 32 St',\n",
      "  'End Time': '2017-01-01 00:22:08',\n",
      "  'Gender': 'Female',\n",
      "  'Start Station': 'Cooper Square & E 7 St',\n",
      "  'Start Time': '2017-01-01 00:00:45',\n",
      "  'Trip Duration': '1282',\n",
      "  'User Type': 'Subscriber'},\n",
      " {'Birth Year': '',\n",
      "  'End Station': '3 Ave & E 71 St',\n",
      "  'End Time': '2017-01-01 00:11:46',\n",
      "  'Gender': '',\n",
      "  'Start Station': '5 Ave & E 78 St',\n",
      "  'Start Time': '2017-01-01 00:00:57',\n",
      "  'Trip Duration': '648',\n",
      "  'User Type': 'Customer'},\n",
      " {'Birth Year': '',\n",
      "  'End Station': '3 Ave & E 71 St',\n",
      "  'End Time': '2017-01-01 00:11:42',\n",
      "  'Gender': '',\n",
      "  'Start Station': '5 Ave & E 78 St',\n",
      "  'Start Time': '2017-01-01 00:01:10',\n",
      "  'Trip Duration': '631',\n",
      "  'User Type': 'Customer'},\n",
      " {'Birth Year': '',\n",
      "  'End Station': '3 Ave & E 71 St',\n",
      "  'End Time': '2017-01-01 00:11:47',\n",
      "  'Gender': '',\n",
      "  'Start Station': '5 Ave & E 78 St',\n",
      "  'Start Time': '2017-01-01 00:01:25',\n",
      "  'Trip Duration': '621',\n",
      "  'User Type': 'Customer'},\n",
      " {'Birth Year': '2000.0',\n",
      "  'End Station': 'Central Park West & W 68 St',\n",
      "  'End Time': '2017-01-01 00:12:57',\n",
      "  'Gender': 'Male',\n",
      "  'Start Station': 'Central Park West & W 68 St',\n",
      "  'Start Time': '2017-01-01 00:01:51',\n",
      "  'Trip Duration': '666',\n",
      "  'User Type': 'Subscriber'},\n",
      " {'Birth Year': '1973.0',\n",
      "  'End Station': '9 Ave & W 45 St',\n",
      "  'End Time': '2017-01-01 00:14:20',\n",
      "  'Gender': 'Male',\n",
      "  'Start Station': 'Broadway & W 60 St',\n",
      "  'Start Time': '2017-01-01 00:05:00',\n",
      "  'Trip Duration': '559',\n",
      "  'User Type': 'Subscriber'},\n",
      " {'Birth Year': '1977.0',\n",
      "  'End Station': 'E 10 St & Avenue A',\n",
      "  'End Time': '2017-01-01 00:19:24',\n",
      "  'Gender': 'Female',\n",
      "  'Start Station': 'Broadway & W 37 St',\n",
      "  'Start Time': '2017-01-01 00:05:37',\n",
      "  'Trip Duration': '826',\n",
      "  'User Type': 'Subscriber'},\n",
      " {'Birth Year': '1989.0',\n",
      "  'End Station': 'Carlton Ave & Flushing Ave',\n",
      "  'End Time': '2017-01-01 00:10:02',\n",
      "  'Gender': 'Male',\n",
      "  'Start Station': 'York St & Jay St',\n",
      "  'Start Time': '2017-01-01 00:05:47',\n",
      "  'Trip Duration': '255',\n",
      "  'User Type': 'Subscriber'},\n",
      " {'Birth Year': '1980.0',\n",
      "  'End Station': 'Columbus Ave & W 72 St',\n",
      "  'End Time': '2017-01-01 00:18:08',\n",
      "  'Gender': 'Male',\n",
      "  'Start Station': 'Central Park West & W 72 St',\n",
      "  'Start Time': '2017-01-01 00:07:34',\n",
      "  'Trip Duration': '634',\n",
      "  'User Type': 'Subscriber'},\n",
      " {'Birth Year': '1993.0',\n",
      "  'End Station': 'E 33 St & 5 Ave',\n",
      "  'End Time': '2017-01-01 00:25:50',\n",
      "  'Gender': 'Male',\n",
      "  'Start Station': '2 Ave & E 31 St',\n",
      "  'Start Time': '2017-01-01 00:07:49',\n",
      "  'Trip Duration': '1081',\n",
      "  'User Type': 'Subscriber'},\n",
      " {'Birth Year': '1973.0',\n",
      "  'End Station': '9 Ave & W 28 St',\n",
      "  'End Time': '2017-01-01 00:15:59',\n",
      "  'Gender': 'Male',\n",
      "  'Start Station': '5 Ave & E 29 St',\n",
      "  'Start Time': '2017-01-01 00:08:00',\n",
      "  'Trip Duration': '479',\n",
      "  'User Type': 'Subscriber'},\n",
      " {'Birth Year': '1992.0',\n",
      "  'End Station': 'E 95 St & 3 Ave',\n",
      "  'End Time': '2017-01-01 00:39:23',\n",
      "  'Gender': 'Male',\n",
      "  'Start Station': 'W 43 St & 6 Ave',\n",
      "  'Start Time': '2017-01-01 00:05:57',\n",
      "  'Trip Duration': '2005',\n",
      "  'User Type': 'Subscriber'},\n",
      " {'Birth Year': '1996.0',\n",
      "  'End Station': 'Bayard St & Baxter St',\n",
      "  'End Time': '2017-01-01 00:21:09',\n",
      "  'Gender': 'Male',\n",
      "  'Start Station': 'E 15 St & 3 Ave',\n",
      "  'Start Time': '2017-01-01 00:08:50',\n",
      "  'Trip Duration': '738',\n",
      "  'User Type': 'Subscriber'},\n",
      " {'Birth Year': '1964.0',\n",
      "  'End Station': '8 Ave & W 16 St',\n",
      "  'End Time': '2017-01-01 00:24:20',\n",
      "  'Gender': 'Male',\n",
      "  'Start Station': 'W 43 St & 10 Ave',\n",
      "  'Start Time': '2017-01-01 00:09:18',\n",
      "  'Trip Duration': '901',\n",
      "  'User Type': 'Subscriber'}]\n",
      " \n",
      "\n",
      "2000.0 \n",
      "\n",
      " \n",
      "\n",
      " The most popular year is  \n",
      " The max year is 2000.0 \n",
      " The min year is \n"
     ]
    }
   ],
   "source": [
    "import csv\n",
    "import calendar\n",
    "from collections import Counter\n",
    "from pprint import pprint\n",
    "\"\"\"This takes the file and returns dict of values. \"\"\"\n",
    "with open('new_york_city.csv', newline='') as csv_file:\n",
    "    reader = [{key: value for key, value in row.items()}      #list comprehimsion or one liners  {} its s dictionary\n",
    "    \tfor row in csv.DictReader(csv_file, skipinitialspace=True)]\n",
    "\n",
    "\"\"\"creates a mini chicogo file called testing\"\"\"\n",
    "testing=(reader[0:15])\n",
    "pprint(testing)\n",
    "\n",
    "\"\"\"making a list of birth year\"\"\"\n",
    "birth_year = []\n",
    "for x in testing:\n",
    "    birth_year.append(x['Birth Year'])\n",
    "\n",
    "\"\"\"pop year \"\"\"\n",
    "x = Counter(birth_year)\n",
    "pop_year = max (x, key=x.get)\n",
    "\n",
    "\"\"\"max and min\"\"\"\n",
    "a = max(birth_year)\n",
    "b = min(birth_year)\n",
    "print (pop_year , '\\n')\n",
    "print (a , '\\n')\n",
    "print (b , '\\n')\n",
    "print (' The most popular year is {} \\n The max year is {} \\n The min year is {}'.format(pop_year,a,b))\n"
   ]
  },
  {
   "cell_type": "code",
   "execution_count": 3,
   "metadata": {
    "scrolled": true
   },
   "outputs": [
    {
     "data": {
      "text/plain": [
       "5454"
      ]
     },
     "execution_count": 3,
     "metadata": {},
     "output_type": "execute_result"
    }
   ],
   "source": [
    "x =[23,432,434,5,5454,3]\n",
    "max(x)"
   ]
  },
  {
   "cell_type": "code",
   "execution_count": 18,
   "metadata": {
    "scrolled": true
   },
   "outputs": [
    {
     "name": "stdout",
     "output_type": "stream",
     "text": [
      "['1965.0', '1987.0', '', '', '', '2000.0', '1973.0', '1977.0', '1989.0', '1980.0', '1993.0', '1973.0', '1992.0', '1996.0', '1964.0']\n",
      "['1965.0', '1987.0', '2000.0', '1973.0', '1977.0', '1989.0', '1980.0', '1993.0', '1973.0', '1992.0', '1996.0', '1964.0']\n",
      " The most popular year is 1973.0 \n",
      " The youngest  is 2000.0 \n",
      " The oldest year is 1964.0\n"
     ]
    }
   ],
   "source": [
    "\"\"\"making a list of birth year\"\"\"\n",
    "birth_year1 = []\n",
    "for x in testing:\n",
    "    birth_year1.append(x['Birth Year'])\n",
    "print (birth_year1)\n",
    "\n",
    "\"\"\"filtering the  '' values out \"\"\"\n",
    "# birth_year = filter(None, birth_year1) # fastest and filter returns an iterator\n",
    "birth_year = list(filter(None, birth_year1))\n",
    "print(birth_year)\n",
    "\n",
    "\"\"\"pop year \"\"\"\n",
    "x = Counter(birth_year)\n",
    "pop_year = max (x, key=x.get)\n",
    "\n",
    "\"\"\"max and min\"\"\"\n",
    "a = max(birth_year)\n",
    "b = min(birth_year)\n",
    "\n",
    "print (' The most popular year is {} \\n The youngest  is {} \\n The oldest year is {}'.format(pop_year,a,b))\n"
   ]
  },
  {
   "cell_type": "code",
   "execution_count": null,
   "metadata": {},
   "outputs": [],
   "source": []
  },
  {
   "cell_type": "markdown",
   "metadata": {},
   "source": [
    "so some values were '' null this gave the solution but some min man popular dint come out. so remember this"
   ]
  },
  {
   "cell_type": "code",
   "execution_count": null,
   "metadata": {},
   "outputs": [],
   "source": [
    "\"\"\"making a list of birth year\"\"\"\n",
    "birth_year1 = []\n",
    "for x in testing:\n",
    "    birth_year1.append(x['Birth Year'])\n",
    "print (birth_year1)\n",
    "\n",
    "\"\"\"filtering the  '' values out \"\"\"\n",
    "# birth_year = filter(None, birth_year1) # fastest and filter returns an iterator\n",
    "birth_year = list(filter(None, birth_year1))\n",
    "print(birth_year)\n",
    "\n",
    "\"\"\"pop year \"\"\"\n",
    "x = Counter(birth_year)\n",
    "pop_year = max (x, key=x.get)\n",
    "\n",
    "\"\"\"max and min\"\"\"\n",
    "a = max(birth_year)\n",
    "b = min(birth_year)\n",
    "\n",
    "print (' The most popular year is {} \\n The youngest  is {} \\n The oldest year is {}'.format(pop_year,a,b))"
   ]
  },
  {
   "cell_type": "code",
   "execution_count": null,
   "metadata": {},
   "outputs": [],
   "source": [
    "import pandas as pd\n",
    "display = \"\"\n",
    "df = pd.read_csv('chicago.csv')\n",
    "display = input('\\nWould you like to view individual trip data?'\n",
    "                    'Type \\'yes\\' or \\'no\\'.\\n').lower\n",
    "while display not in (\"yes\",\"no\"):\n",
    "    display = input('\\nWould you like to view individual trip data?'\n",
    "                    'Type \\'yes\\' or \\'no\\'.\\n').lower\n",
    "return(display)\n",
    "\n",
    "if display == \"yes\":\n",
    "    while True:\n",
    "        e=df.head()\n",
    "        print(e)\n",
    "        \n",
    "else:\n",
    "    break\n",
    "    "
   ]
  }
 ],
 "metadata": {
  "kernelspec": {
   "display_name": "Python 3",
   "language": "python",
   "name": "python3"
  },
  "language_info": {
   "codemirror_mode": {
    "name": "ipython",
    "version": 3
   },
   "file_extension": ".py",
   "mimetype": "text/x-python",
   "name": "python",
   "nbconvert_exporter": "python",
   "pygments_lexer": "ipython3",
   "version": "3.6.3"
  }
 },
 "nbformat": 4,
 "nbformat_minor": 2
}
