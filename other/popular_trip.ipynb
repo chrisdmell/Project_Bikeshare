{
 "cells": [
  {
   "cell_type": "markdown",
   "metadata": {},
   "source": [
    "# What is the most popular trip?\n"
   ]
  },
  {
   "cell_type": "markdown",
   "metadata": {},
   "source": [
    "I would not use the word 'compare' I would say 'combine', lets say you have 10 stations (stations 1 through 10) a trip is a combination of 2 stations.  So from \"Station 3 to Station 5\" is a \"trip\", I can create a tuple for that: ('Station 3', 'Station 5') and I can use that tuple as a dictionary key, and I can count (increment the dictionary element with this key) every time this trip shows up in my data (or add it to my dictionary the first time I encounter it) as I'm inspecting each row."
   ]
  },
  {
   "cell_type": "code",
   "execution_count": 1,
   "metadata": {},
   "outputs": [
    {
     "name": "stdout",
     "output_type": "stream",
     "text": [
      "[{'Birth Year': '',\n",
      "  'End Station': 'Canal St & Monroe St (*)',\n",
      "  'End Time': '2017-01-01 00:06:32',\n",
      "  'Gender': '',\n",
      "  'Start Station': 'Canal St & Taylor St',\n",
      "  'Start Time': '2017-01-01 00:00:36',\n",
      "  'Trip Duration': '356',\n",
      "  'User Type': 'Customer'}]\n"
     ]
    }
   ],
   "source": [
    "#one\n",
    "import csv\n",
    "from pprint import pprint\n",
    "import calendar\n",
    "from collections import Counter\n",
    "\n",
    "\"\"\"This takes the file and returns dict of values. \"\"\"\n",
    "with open('chicago.csv', newline='') as csv_file:\n",
    "    reader = [{key: value for key, value in row.items()}      #list comprehimsion or one liners  {} its s dictionary\n",
    "    \tfor row in csv.DictReader(csv_file, skipinitialspace=True)]\n",
    "    \n",
    "\"\"\"creates a mini chicogo file called testing\"\"\"\n",
    "testing=(reader[0:15])\n",
    "pprint(testing[0:1])"
   ]
  },
  {
   "cell_type": "markdown",
   "metadata": {},
   "source": [
    "3.6.3 |Anaconda custom (64-bit)| (default, Oct 15 2017, 03:27:45) [MSC v.1900 64 bit (AMD64)]\n"
   ]
  },
  {
   "cell_type": "code",
   "execution_count": null,
   "metadata": {
    "collapsed": true
   },
   "outputs": [],
   "source": [
    "from collections import Counter\n",
    "\n",
    "\"\"\"start/end station popular\"\"\"\n",
    "station_start = []\n",
    "station_end = []\n",
    "for x in testing:\n",
    "    station_start.append(x['Start Station'])\n",
    "    station_end.append(x['End Station'])\n",
    "\n",
    "y=Counter(station_start)\n",
    "d= max(y,key=y.get)\n",
    "\n",
    "z=Counter(station_end)\n",
    "e= max(z,key=z.get)\n",
    "print('popular start station is {} and popular end station is {}'.format(d,e) )"
   ]
  },
  {
   "cell_type": "code",
   "execution_count": 6,
   "metadata": {},
   "outputs": [
    {
     "name": "stdout",
     "output_type": "stream",
     "text": [
      "{'Start Time': '2017-01-01 00:02:54', 'End Time': '2017-01-01 00:08:21', 'Trip Duration': '327', 'Start Station': 'Larrabee St & Menomonee St', 'End Station': 'Sheffield Ave & Kingsbury St', 'User Type': 'Subscriber', 'Gender': 'Male', 'Birth Year': '1984.0'}\n"
     ]
    }
   ],
   "source": [
    "print(testing[1])"
   ]
  },
  {
   "cell_type": "markdown",
   "metadata": {},
   "source": [
    "basically creating a list of dict of tuples and counting it"
   ]
  },
  {
   "cell_type": "markdown",
   "metadata": {
    "collapsed": true
   },
   "source": [
    "### why not use list of dicts if list?\n",
    "Advantages of Tuple over List\n",
    "Since, tuples are quite similiar to lists, both of them are used in similar situations as well.\n",
    "\n",
    "However, there are certain advantages of implementing a tuple over a list. Below listed are some of the main advantages:\n",
    "\n",
    "We generally use tuple for heterogeneous (different) datatypes and list for homogeneous (similar) datatypes.\n",
    "Since tuple are immutable, iterating through tuple is faster than with list. So there is a slight performance boost.\n",
    "Tuples that contain immutable elements can be used as key for a dictionary. With list, this is not possible.\n",
    "If you have data that doesn't change, implementing it as tuple will guarantee that it remains write-protected."
   ]
  },
  {
   "cell_type": "code",
   "execution_count": 8,
   "metadata": {},
   "outputs": [
    {
     "ename": "AttributeError",
     "evalue": "'tuple' object has no attribute 'append'",
     "output_type": "error",
     "traceback": [
      "\u001b[1;31m---------------------------------------------------------------------------\u001b[0m",
      "\u001b[1;31mAttributeError\u001b[0m                            Traceback (most recent call last)",
      "\u001b[1;32m<ipython-input-8-256e61822425>\u001b[0m in \u001b[0;36m<module>\u001b[1;34m()\u001b[0m\n\u001b[0;32m      1\u001b[0m \u001b[0mpopular_trip\u001b[0m \u001b[1;33m=\u001b[0m \u001b[1;33m(\u001b[0m\u001b[1;33m)\u001b[0m\u001b[1;33m\u001b[0m\u001b[0m\n\u001b[0;32m      2\u001b[0m \u001b[1;32mfor\u001b[0m \u001b[0mx\u001b[0m \u001b[1;32min\u001b[0m \u001b[0mtesting\u001b[0m\u001b[1;33m:\u001b[0m\u001b[1;33m\u001b[0m\u001b[0m\n\u001b[1;32m----> 3\u001b[1;33m     \u001b[0mpopular_trip\u001b[0m\u001b[1;33m.\u001b[0m\u001b[0mappend\u001b[0m\u001b[1;33m(\u001b[0m\u001b[0mx\u001b[0m\u001b[1;33m[\u001b[0m\u001b[1;34m'Start Station'\u001b[0m\u001b[1;33m]\u001b[0m\u001b[1;33m,\u001b[0m \u001b[0mx\u001b[0m\u001b[1;33m[\u001b[0m\u001b[1;34m'End Station'\u001b[0m\u001b[1;33m]\u001b[0m\u001b[1;33m)\u001b[0m\u001b[1;33m\u001b[0m\u001b[0m\n\u001b[0m\u001b[0;32m      4\u001b[0m \u001b[0mprint\u001b[0m\u001b[1;33m(\u001b[0m\u001b[0mpopular_trip\u001b[0m\u001b[1;33m)\u001b[0m\u001b[1;33m\u001b[0m\u001b[0m\n",
      "\u001b[1;31mAttributeError\u001b[0m: 'tuple' object has no attribute 'append'"
     ]
    }
   ],
   "source": [
    "\"\"\"trying to make a list of tuples\"\"\"\n",
    "popular_trip = ()\n",
    "for x in testing:\n",
    "    popular_trip.append(x['Start Station'], x['End Station'])\n",
    "print(popular_trip)"
   ]
  },
  {
   "cell_type": "markdown",
   "metadata": {
    "collapsed": true
   },
   "source": [
    "because tuple is immutable i cannot append it. "
   ]
  },
  {
   "cell_type": "code",
   "execution_count": 7,
   "metadata": {},
   "outputs": [
    {
     "ename": "TypeError",
     "evalue": "append() takes exactly one argument (2 given)",
     "output_type": "error",
     "traceback": [
      "\u001b[1;31m---------------------------------------------------------------------------\u001b[0m",
      "\u001b[1;31mTypeError\u001b[0m                                 Traceback (most recent call last)",
      "\u001b[1;32m<ipython-input-7-9ad86d511205>\u001b[0m in \u001b[0;36m<module>\u001b[1;34m()\u001b[0m\n\u001b[0;32m      1\u001b[0m \u001b[0mpopular_trip\u001b[0m \u001b[1;33m=\u001b[0m \u001b[1;33m[\u001b[0m\u001b[1;33m]\u001b[0m\u001b[1;33m\u001b[0m\u001b[0m\n\u001b[0;32m      2\u001b[0m \u001b[1;32mfor\u001b[0m \u001b[0mx\u001b[0m \u001b[1;32min\u001b[0m \u001b[0mtesting\u001b[0m\u001b[1;33m:\u001b[0m\u001b[1;33m\u001b[0m\u001b[0m\n\u001b[1;32m----> 3\u001b[1;33m     \u001b[0mpopular_trip\u001b[0m\u001b[1;33m.\u001b[0m\u001b[0mappend\u001b[0m\u001b[1;33m(\u001b[0m\u001b[0mx\u001b[0m\u001b[1;33m[\u001b[0m\u001b[1;34m'Start Station'\u001b[0m\u001b[1;33m]\u001b[0m\u001b[1;33m,\u001b[0m \u001b[0mx\u001b[0m\u001b[1;33m[\u001b[0m\u001b[1;34m'End Station'\u001b[0m\u001b[1;33m]\u001b[0m\u001b[1;33m)\u001b[0m\u001b[1;33m\u001b[0m\u001b[0m\n\u001b[0m\u001b[0;32m      4\u001b[0m \u001b[0mprint\u001b[0m\u001b[1;33m(\u001b[0m\u001b[0mpopular_trip\u001b[0m\u001b[1;33m)\u001b[0m\u001b[1;33m\u001b[0m\u001b[0m\n",
      "\u001b[1;31mTypeError\u001b[0m: append() takes exactly one argument (2 given)"
     ]
    }
   ],
   "source": [
    "\"\"\"trying to make something to pull out data\"\"\"\n",
    "popular_trip = []\n",
    "for x in testing:\n",
    "    popular_trip.append(x['Start Station'], x['End Station'])\n",
    "print(popular_trip)"
   ]
  },
  {
   "cell_type": "markdown",
   "metadata": {},
   "source": [
    "tuples exercise [here](https://www.programiz.com/python-programming/tuple)"
   ]
  },
  {
   "cell_type": "code",
   "execution_count": 19,
   "metadata": {
    "scrolled": true
   },
   "outputs": [
    {
     "ename": "TypeError",
     "evalue": "'str' object is not callable",
     "output_type": "error",
     "traceback": [
      "\u001b[1;31m---------------------------------------------------------------------------\u001b[0m",
      "\u001b[1;31mTypeError\u001b[0m                                 Traceback (most recent call last)",
      "\u001b[1;32m<ipython-input-19-a92af83e8110>\u001b[0m in \u001b[0;36m<module>\u001b[1;34m()\u001b[0m\n\u001b[0;32m      1\u001b[0m \u001b[1;32mfrom\u001b[0m \u001b[0mpprint\u001b[0m \u001b[1;32mimport\u001b[0m \u001b[0mpprint\u001b[0m\u001b[1;33m\u001b[0m\u001b[0m\n\u001b[0;32m      2\u001b[0m \u001b[1;32mfor\u001b[0m \u001b[0mx\u001b[0m \u001b[1;32min\u001b[0m \u001b[0mtesting\u001b[0m\u001b[1;33m:\u001b[0m\u001b[1;33m\u001b[0m\u001b[0m\n\u001b[1;32m----> 3\u001b[1;33m     \u001b[0mpprint\u001b[0m \u001b[1;33m(\u001b[0m\u001b[1;33m(\u001b[0m\u001b[0mx\u001b[0m\u001b[1;33m[\u001b[0m\u001b[1;34m'Start Station'\u001b[0m\u001b[1;33m]\u001b[0m\u001b[1;33m)\u001b[0m\u001b[1;33m(\u001b[0m\u001b[0mx\u001b[0m\u001b[1;33m[\u001b[0m\u001b[1;34m'End Station'\u001b[0m\u001b[1;33m]\u001b[0m\u001b[1;33m)\u001b[0m\u001b[1;33m)\u001b[0m\u001b[1;33m\u001b[0m\u001b[0m\n\u001b[0m",
      "\u001b[1;31mTypeError\u001b[0m: 'str' object is not callable"
     ]
    }
   ],
   "source": [
    "\"\"\"still trying\"\"\"\n",
    "from pprint import pprint\n",
    "for x in testing:\n",
    "    pprint (x['Start Station']x['End Station'])\n"
   ]
  },
  {
   "cell_type": "code",
   "execution_count": 35,
   "metadata": {
    "scrolled": true
   },
   "outputs": [
    {
     "name": "stdout",
     "output_type": "stream",
     "text": [
      "Canal St & Taylor St                             Canal St & Monroe St (*)\n",
      "Larrabee St & Menomonee St                             Sheffield Ave & Kingsbury St\n",
      "Orleans St & Chestnut St (NEXT Apts)                             Ashland Ave & Blackhawk St\n",
      "Franklin St & Monroe St                             Clinton St & Tilden St\n",
      "Broadway & Barry Ave                             Sedgwick St & North Ave\n",
      "State St & Kinzie St                             Wells St & Polk St\n",
      "Wabash Ave & Wacker Pl                             Clinton St & Tilden St\n",
      "Daley Center Plaza                             Canal St & Monroe St (*)\n",
      "Daley Center Plaza                             Canal St & Monroe St (*)\n",
      "Dayton St & North Ave                             Ogden Ave & Chicago Ave\n",
      "Wilton Ave & Diversey Pkwy                             Halsted St & Wrightwood Ave\n",
      "Canal St & Madison St                             LaSalle St & Illinois St\n",
      "Theater on the Lake                             Lakeview Ave & Fullerton Pkwy\n",
      "Halsted St & Maxwell St                             Halsted St & 18th St\n",
      "Ravenswood Ave & Lawrence Ave                             Clarendon Ave & Gordon Ter\n"
     ]
    }
   ],
   "source": [
    "\"\"\"trying to print out start end stations but alignment problem\"\"\"\n",
    "from pprint import pprint\n",
    "for x in testing:\n",
    "    a=x['Start Station']\n",
    "    b=x['End Station']\n",
    "    print ('{}                             {}'.format(a,b))\n",
    "#     print (x['End Station'])"
   ]
  },
  {
   "cell_type": "markdown",
   "metadata": {},
   "source": [
    "solution [1](https://stackoverflow.com/questions/12091687/loop-print-through-two-lists-to-get-two-columns-with-fixedcustom-set-space-bet)    [2]( https://stackoverflow.com/questions/27663924/printing-2-evenly-populated-lists-side-by-side-evenly)"
   ]
  },
  {
   "cell_type": "code",
   "execution_count": 37,
   "metadata": {
    "collapsed": true
   },
   "outputs": [
    {
     "name": "stdout",
     "output_type": "stream",
     "text": [
      "Canal St & Taylor St\n",
      "Canal St & Monroe St (*)\n",
      "Sheffield Ave & Kingsbury St\n",
      "Ashland Ave & Blackhawk St\n",
      "Clinton St & Tilden St\n",
      "Sedgwick St & North Ave\n",
      "Wells St & Polk St\n",
      "Clinton St & Tilden St\n",
      "Canal St & Monroe St (*)\n",
      "Canal St & Monroe St (*)\n",
      "Ogden Ave & Chicago Ave\n",
      "Halsted St & Wrightwood Ave\n",
      "LaSalle St & Illinois St\n",
      "Lakeview Ave & Fullerton Pkwy\n",
      "Halsted St & 18th St\n",
      "Clarendon Ave & Gordon Ter\n",
      "Larrabee St & Menomonee St\n",
      "Canal St & Monroe St (*)\n",
      "Sheffield Ave & Kingsbury St\n",
      "Ashland Ave & Blackhawk St\n",
      "Clinton St & Tilden St\n",
      "Sedgwick St & North Ave\n",
      "Wells St & Polk St\n",
      "Clinton St & Tilden St\n",
      "Canal St & Monroe St (*)\n",
      "Canal St & Monroe St (*)\n",
      "Ogden Ave & Chicago Ave\n",
      "Halsted St & Wrightwood Ave\n",
      "LaSalle St & Illinois St\n",
      "Lakeview Ave & Fullerton Pkwy\n",
      "Halsted St & 18th St\n",
      "Clarendon Ave & Gordon Ter\n",
      "Orleans St & Chestnut St (NEXT Apts)\n",
      "Canal St & Monroe St (*)\n",
      "Sheffield Ave & Kingsbury St\n",
      "Ashland Ave & Blackhawk St\n",
      "Clinton St & Tilden St\n",
      "Sedgwick St & North Ave\n",
      "Wells St & Polk St\n",
      "Clinton St & Tilden St\n",
      "Canal St & Monroe St (*)\n",
      "Canal St & Monroe St (*)\n",
      "Ogden Ave & Chicago Ave\n",
      "Halsted St & Wrightwood Ave\n",
      "LaSalle St & Illinois St\n",
      "Lakeview Ave & Fullerton Pkwy\n",
      "Halsted St & 18th St\n",
      "Clarendon Ave & Gordon Ter\n",
      "Franklin St & Monroe St\n",
      "Canal St & Monroe St (*)\n",
      "Sheffield Ave & Kingsbury St\n",
      "Ashland Ave & Blackhawk St\n",
      "Clinton St & Tilden St\n",
      "Sedgwick St & North Ave\n",
      "Wells St & Polk St\n",
      "Clinton St & Tilden St\n",
      "Canal St & Monroe St (*)\n",
      "Canal St & Monroe St (*)\n",
      "Ogden Ave & Chicago Ave\n",
      "Halsted St & Wrightwood Ave\n",
      "LaSalle St & Illinois St\n",
      "Lakeview Ave & Fullerton Pkwy\n",
      "Halsted St & 18th St\n",
      "Clarendon Ave & Gordon Ter\n",
      "Broadway & Barry Ave\n",
      "Canal St & Monroe St (*)\n",
      "Sheffield Ave & Kingsbury St\n",
      "Ashland Ave & Blackhawk St\n",
      "Clinton St & Tilden St\n",
      "Sedgwick St & North Ave\n",
      "Wells St & Polk St\n",
      "Clinton St & Tilden St\n",
      "Canal St & Monroe St (*)\n",
      "Canal St & Monroe St (*)\n",
      "Ogden Ave & Chicago Ave\n",
      "Halsted St & Wrightwood Ave\n",
      "LaSalle St & Illinois St\n",
      "Lakeview Ave & Fullerton Pkwy\n",
      "Halsted St & 18th St\n",
      "Clarendon Ave & Gordon Ter\n",
      "State St & Kinzie St\n",
      "Canal St & Monroe St (*)\n",
      "Sheffield Ave & Kingsbury St\n",
      "Ashland Ave & Blackhawk St\n",
      "Clinton St & Tilden St\n",
      "Sedgwick St & North Ave\n",
      "Wells St & Polk St\n",
      "Clinton St & Tilden St\n",
      "Canal St & Monroe St (*)\n",
      "Canal St & Monroe St (*)\n",
      "Ogden Ave & Chicago Ave\n",
      "Halsted St & Wrightwood Ave\n",
      "LaSalle St & Illinois St\n",
      "Lakeview Ave & Fullerton Pkwy\n",
      "Halsted St & 18th St\n",
      "Clarendon Ave & Gordon Ter\n",
      "Wabash Ave & Wacker Pl\n",
      "Canal St & Monroe St (*)\n",
      "Sheffield Ave & Kingsbury St\n",
      "Ashland Ave & Blackhawk St\n",
      "Clinton St & Tilden St\n",
      "Sedgwick St & North Ave\n",
      "Wells St & Polk St\n",
      "Clinton St & Tilden St\n",
      "Canal St & Monroe St (*)\n",
      "Canal St & Monroe St (*)\n",
      "Ogden Ave & Chicago Ave\n",
      "Halsted St & Wrightwood Ave\n",
      "LaSalle St & Illinois St\n",
      "Lakeview Ave & Fullerton Pkwy\n",
      "Halsted St & 18th St\n",
      "Clarendon Ave & Gordon Ter\n",
      "Daley Center Plaza\n",
      "Canal St & Monroe St (*)\n",
      "Sheffield Ave & Kingsbury St\n",
      "Ashland Ave & Blackhawk St\n",
      "Clinton St & Tilden St\n",
      "Sedgwick St & North Ave\n",
      "Wells St & Polk St\n",
      "Clinton St & Tilden St\n",
      "Canal St & Monroe St (*)\n",
      "Canal St & Monroe St (*)\n",
      "Ogden Ave & Chicago Ave\n",
      "Halsted St & Wrightwood Ave\n",
      "LaSalle St & Illinois St\n",
      "Lakeview Ave & Fullerton Pkwy\n",
      "Halsted St & 18th St\n",
      "Clarendon Ave & Gordon Ter\n",
      "Daley Center Plaza\n",
      "Canal St & Monroe St (*)\n",
      "Sheffield Ave & Kingsbury St\n",
      "Ashland Ave & Blackhawk St\n",
      "Clinton St & Tilden St\n",
      "Sedgwick St & North Ave\n",
      "Wells St & Polk St\n",
      "Clinton St & Tilden St\n",
      "Canal St & Monroe St (*)\n",
      "Canal St & Monroe St (*)\n",
      "Ogden Ave & Chicago Ave\n",
      "Halsted St & Wrightwood Ave\n",
      "LaSalle St & Illinois St\n",
      "Lakeview Ave & Fullerton Pkwy\n",
      "Halsted St & 18th St\n",
      "Clarendon Ave & Gordon Ter\n",
      "Dayton St & North Ave\n",
      "Canal St & Monroe St (*)\n",
      "Sheffield Ave & Kingsbury St\n",
      "Ashland Ave & Blackhawk St\n",
      "Clinton St & Tilden St\n",
      "Sedgwick St & North Ave\n",
      "Wells St & Polk St\n",
      "Clinton St & Tilden St\n",
      "Canal St & Monroe St (*)\n",
      "Canal St & Monroe St (*)\n",
      "Ogden Ave & Chicago Ave\n",
      "Halsted St & Wrightwood Ave\n",
      "LaSalle St & Illinois St\n",
      "Lakeview Ave & Fullerton Pkwy\n",
      "Halsted St & 18th St\n",
      "Clarendon Ave & Gordon Ter\n",
      "Wilton Ave & Diversey Pkwy\n",
      "Canal St & Monroe St (*)\n",
      "Sheffield Ave & Kingsbury St\n",
      "Ashland Ave & Blackhawk St\n",
      "Clinton St & Tilden St\n",
      "Sedgwick St & North Ave\n",
      "Wells St & Polk St\n",
      "Clinton St & Tilden St\n",
      "Canal St & Monroe St (*)\n",
      "Canal St & Monroe St (*)\n",
      "Ogden Ave & Chicago Ave\n",
      "Halsted St & Wrightwood Ave\n",
      "LaSalle St & Illinois St\n",
      "Lakeview Ave & Fullerton Pkwy\n",
      "Halsted St & 18th St\n",
      "Clarendon Ave & Gordon Ter\n",
      "Canal St & Madison St\n",
      "Canal St & Monroe St (*)\n",
      "Sheffield Ave & Kingsbury St\n",
      "Ashland Ave & Blackhawk St\n",
      "Clinton St & Tilden St\n",
      "Sedgwick St & North Ave\n",
      "Wells St & Polk St\n",
      "Clinton St & Tilden St\n",
      "Canal St & Monroe St (*)\n",
      "Canal St & Monroe St (*)\n",
      "Ogden Ave & Chicago Ave\n",
      "Halsted St & Wrightwood Ave\n",
      "LaSalle St & Illinois St\n",
      "Lakeview Ave & Fullerton Pkwy\n",
      "Halsted St & 18th St\n",
      "Clarendon Ave & Gordon Ter\n",
      "Theater on the Lake\n",
      "Canal St & Monroe St (*)\n",
      "Sheffield Ave & Kingsbury St\n",
      "Ashland Ave & Blackhawk St\n",
      "Clinton St & Tilden St\n",
      "Sedgwick St & North Ave\n",
      "Wells St & Polk St\n",
      "Clinton St & Tilden St\n",
      "Canal St & Monroe St (*)\n",
      "Canal St & Monroe St (*)\n",
      "Ogden Ave & Chicago Ave\n",
      "Halsted St & Wrightwood Ave\n",
      "LaSalle St & Illinois St\n",
      "Lakeview Ave & Fullerton Pkwy\n",
      "Halsted St & 18th St\n",
      "Clarendon Ave & Gordon Ter\n",
      "Halsted St & Maxwell St\n",
      "Canal St & Monroe St (*)\n",
      "Sheffield Ave & Kingsbury St\n",
      "Ashland Ave & Blackhawk St\n",
      "Clinton St & Tilden St\n",
      "Sedgwick St & North Ave\n",
      "Wells St & Polk St\n",
      "Clinton St & Tilden St\n",
      "Canal St & Monroe St (*)\n",
      "Canal St & Monroe St (*)\n",
      "Ogden Ave & Chicago Ave\n",
      "Halsted St & Wrightwood Ave\n",
      "LaSalle St & Illinois St\n",
      "Lakeview Ave & Fullerton Pkwy\n",
      "Halsted St & 18th St\n",
      "Clarendon Ave & Gordon Ter\n",
      "Ravenswood Ave & Lawrence Ave\n",
      "Canal St & Monroe St (*)\n",
      "Sheffield Ave & Kingsbury St\n",
      "Ashland Ave & Blackhawk St\n",
      "Clinton St & Tilden St\n",
      "Sedgwick St & North Ave\n",
      "Wells St & Polk St\n",
      "Clinton St & Tilden St\n",
      "Canal St & Monroe St (*)\n",
      "Canal St & Monroe St (*)\n",
      "Ogden Ave & Chicago Ave\n",
      "Halsted St & Wrightwood Ave\n",
      "LaSalle St & Illinois St\n",
      "Lakeview Ave & Fullerton Pkwy\n",
      "Halsted St & 18th St\n",
      "Clarendon Ave & Gordon Ter\n"
     ]
    }
   ],
   "source": [
    "\"\"\"printing 2 columns failed again\"\"\"\n",
    "for x in testing:\n",
    "    print(x['Start Station'])\n",
    "    for y in testing:\n",
    "        print(y['End Station'])"
   ]
  },
  {
   "cell_type": "code",
   "execution_count": 23,
   "metadata": {
    "scrolled": true
   },
   "outputs": [
    {
     "name": "stdout",
     "output_type": "stream",
     "text": [
      "Ravenswood Ave & Lawrence Ave\n"
     ]
    }
   ],
   "source": [
    "\"\"\"Failed again code wenr wrong\"\"\"\n",
    "popular_trip = ()\n",
    "for x in testing:\n",
    "    popular_trip =(x['Start Station'], x['End Station'])\n",
    "print(popular_trip[0])"
   ]
  },
  {
   "cell_type": "code",
   "execution_count": 24,
   "metadata": {},
   "outputs": [
    {
     "ename": "TypeError",
     "evalue": "can only concatenate tuple (not \"zip\") to tuple",
     "output_type": "error",
     "traceback": [
      "\u001b[1;31m---------------------------------------------------------------------------\u001b[0m",
      "\u001b[1;31mTypeError\u001b[0m                                 Traceback (most recent call last)",
      "\u001b[1;32m<ipython-input-24-9e6078d327bc>\u001b[0m in \u001b[0;36m<module>\u001b[1;34m()\u001b[0m\n\u001b[0;32m      1\u001b[0m \u001b[0mpopular_trip\u001b[0m \u001b[1;33m=\u001b[0m \u001b[1;33m(\u001b[0m\u001b[1;33m)\u001b[0m\u001b[1;33m\u001b[0m\u001b[0m\n\u001b[0;32m      2\u001b[0m \u001b[1;32mfor\u001b[0m \u001b[0mx\u001b[0m \u001b[1;32min\u001b[0m \u001b[0mtesting\u001b[0m\u001b[1;33m:\u001b[0m\u001b[1;33m\u001b[0m\u001b[0m\n\u001b[1;32m----> 3\u001b[1;33m     \u001b[0mpopular_trip\u001b[0m \u001b[1;33m+=\u001b[0m \u001b[0mzip\u001b[0m\u001b[1;33m(\u001b[0m\u001b[0mx\u001b[0m\u001b[1;33m[\u001b[0m\u001b[1;34m'Start Station'\u001b[0m\u001b[1;33m]\u001b[0m\u001b[1;33m,\u001b[0m \u001b[0mx\u001b[0m\u001b[1;33m[\u001b[0m\u001b[1;34m'End Station'\u001b[0m\u001b[1;33m]\u001b[0m\u001b[1;33m)\u001b[0m\u001b[1;33m\u001b[0m\u001b[0m\n\u001b[0m\u001b[0;32m      4\u001b[0m \u001b[0mprint\u001b[0m\u001b[1;33m(\u001b[0m\u001b[0mpopular_trip\u001b[0m\u001b[1;33m[\u001b[0m\u001b[1;36m0\u001b[0m\u001b[1;33m]\u001b[0m\u001b[1;33m)\u001b[0m\u001b[1;33m\u001b[0m\u001b[0m\n",
      "\u001b[1;31mTypeError\u001b[0m: can only concatenate tuple (not \"zip\") to tuple"
     ]
    }
   ],
   "source": [
    "\"\"\"Failed again code wenr wrong\"\"\"\n",
    "\n",
    "popular_trip = ()\n",
    "for x in testing:\n",
    "    popular_trip += zip(x['Start Station'], x['End Station'])\n",
    "print(popular_trip[0])"
   ]
  },
  {
   "cell_type": "code",
   "execution_count": 102,
   "metadata": {},
   "outputs": [
    {
     "name": "stdout",
     "output_type": "stream",
     "text": [
      "[['Canal St & Taylor St', 'Canal St & Monroe St (*)'], ['Larrabee St & Menomonee St', 'Sheffield Ave & Kingsbury St'], ['Orleans St & Chestnut St (NEXT Apts)', 'Ashland Ave & Blackhawk St'], ['Franklin St & Monroe St', 'Clinton St & Tilden St'], ['Broadway & Barry Ave', 'Sedgwick St & North Ave'], ['State St & Kinzie St', 'Wells St & Polk St'], ['Wabash Ave & Wacker Pl', 'Clinton St & Tilden St'], ['Daley Center Plaza', 'Canal St & Monroe St (*)'], ['Daley Center Plaza', 'Canal St & Monroe St (*)'], ['Dayton St & North Ave', 'Ogden Ave & Chicago Ave'], ['Wilton Ave & Diversey Pkwy', 'Halsted St & Wrightwood Ave'], ['Canal St & Madison St', 'LaSalle St & Illinois St'], ['Theater on the Lake', 'Lakeview Ave & Fullerton Pkwy'], ['Halsted St & Maxwell St', 'Halsted St & 18th St'], ['Ravenswood Ave & Lawrence Ave', 'Clarendon Ave & Gordon Ter']]\n",
      "['Canal St & Taylor St', 'Canal St & Monroe St (*)'] ---> 1\n",
      "['Larrabee St & Menomonee St', 'Sheffield Ave & Kingsbury St'] ---> 1\n",
      "['Orleans St & Chestnut St (NEXT Apts)', 'Ashland Ave & Blackhawk St'] ---> 1\n",
      "['Franklin St & Monroe St', 'Clinton St & Tilden St'] ---> 1\n",
      "['Broadway & Barry Ave', 'Sedgwick St & North Ave'] ---> 1\n",
      "['State St & Kinzie St', 'Wells St & Polk St'] ---> 1\n",
      "['Wabash Ave & Wacker Pl', 'Clinton St & Tilden St'] ---> 1\n",
      "['Daley Center Plaza', 'Canal St & Monroe St (*)'] ---> 2\n",
      "['Daley Center Plaza', 'Canal St & Monroe St (*)'] ---> 2\n",
      "['Dayton St & North Ave', 'Ogden Ave & Chicago Ave'] ---> 1\n",
      "['Wilton Ave & Diversey Pkwy', 'Halsted St & Wrightwood Ave'] ---> 1\n",
      "['Canal St & Madison St', 'LaSalle St & Illinois St'] ---> 1\n",
      "['Theater on the Lake', 'Lakeview Ave & Fullerton Pkwy'] ---> 1\n",
      "['Halsted St & Maxwell St', 'Halsted St & 18th St'] ---> 1\n",
      "['Ravenswood Ave & Lawrence Ave', 'Clarendon Ave & Gordon Ter'] ---> 1\n"
     ]
    }
   ],
   "source": [
    "from collections import Counter\n",
    "popular_trip = []   #change to () and see the diff\n",
    "for x in testing:\n",
    "    popular_trip += [[x['Start Station'], x['End Station']]]\n",
    "print(popular_trip)\n",
    "type(popular_trip)\n",
    "\n",
    "\"\"\"gives long list of answers lenghtly\"\"\"\n",
    "#https://stackoverflow.com/questions/49145315/how-to-count-the-occurance-of-multidimentional-arrays-of-string?noredirect=1#comment85295624_49145315\n",
    "for i in popular_trip:\n",
    "    if i in popular_trip:\n",
    "       c = popular_trip.count(i)\n",
    "    print(i, '--->' ,c)\n",
    "    \n",
    "    \n",
    "    \n",
    "# popular_trip.count('[Canal St & Taylor St', 'Canal St & Monroe St (*)]')\n",
    "# tuple(popular_trip)\n",
    "# for x in popular_trip:\n",
    "#     tuple(popular_trip[x])\n",
    "# print(popular_trip)\n",
    "\n",
    "# popular_trip.count(1)\n",
    "# r= Counter(popular_trip)"
   ]
  },
  {
   "cell_type": "code",
   "execution_count": 92,
   "metadata": {},
   "outputs": [
    {
     "name": "stdout",
     "output_type": "stream",
     "text": [
      "['Product', '500.00', '1200.00']\n",
      "('Product', '500.00', '1200.00', 'foobar')\n"
     ]
    }
   ],
   "source": [
    "\"\"\"example\"\"\"\n",
    "a = ('Product', '500.00', '1200.00')\n",
    "a = list(a)\n",
    "print (a)\n",
    "a.insert(3, 'foobar')\n",
    "a = tuple(a)\n",
    "print (a)"
   ]
  },
  {
   "cell_type": "code",
   "execution_count": 106,
   "metadata": {
    "scrolled": true
   },
   "outputs": [
    {
     "name": "stdout",
     "output_type": "stream",
     "text": [
      "['Canal St & Taylor St', 'Canal St & Monroe St (*)', 'Larrabee St & Menomonee St', 'Sheffield Ave & Kingsbury St', 'Orleans St & Chestnut St (NEXT Apts)', 'Ashland Ave & Blackhawk St', 'Franklin St & Monroe St', 'Clinton St & Tilden St', 'Broadway & Barry Ave', 'Sedgwick St & North Ave', 'State St & Kinzie St', 'Wells St & Polk St', 'Wabash Ave & Wacker Pl', 'Clinton St & Tilden St', 'Daley Center Plaza', 'Canal St & Monroe St (*)', 'Daley Center Plaza', 'Canal St & Monroe St (*)', 'Dayton St & North Ave', 'Ogden Ave & Chicago Ave', 'Wilton Ave & Diversey Pkwy', 'Halsted St & Wrightwood Ave', 'Canal St & Madison St', 'LaSalle St & Illinois St', 'Theater on the Lake', 'Lakeview Ave & Fullerton Pkwy', 'Halsted St & Maxwell St', 'Halsted St & 18th St', 'Ravenswood Ave & Lawrence Ave', 'Clarendon Ave & Gordon Ter']\n"
     ]
    },
    {
     "data": {
      "text/plain": [
       "Counter({'Ashland Ave & Blackhawk St': 1,\n",
       "         'Broadway & Barry Ave': 1,\n",
       "         'Canal St & Madison St': 1,\n",
       "         'Canal St & Monroe St (*)': 3,\n",
       "         'Canal St & Taylor St': 1,\n",
       "         'Clarendon Ave & Gordon Ter': 1,\n",
       "         'Clinton St & Tilden St': 2,\n",
       "         'Daley Center Plaza': 2,\n",
       "         'Dayton St & North Ave': 1,\n",
       "         'Franklin St & Monroe St': 1,\n",
       "         'Halsted St & 18th St': 1,\n",
       "         'Halsted St & Maxwell St': 1,\n",
       "         'Halsted St & Wrightwood Ave': 1,\n",
       "         'LaSalle St & Illinois St': 1,\n",
       "         'Lakeview Ave & Fullerton Pkwy': 1,\n",
       "         'Larrabee St & Menomonee St': 1,\n",
       "         'Ogden Ave & Chicago Ave': 1,\n",
       "         'Orleans St & Chestnut St (NEXT Apts)': 1,\n",
       "         'Ravenswood Ave & Lawrence Ave': 1,\n",
       "         'Sedgwick St & North Ave': 1,\n",
       "         'Sheffield Ave & Kingsbury St': 1,\n",
       "         'State St & Kinzie St': 1,\n",
       "         'Theater on the Lake': 1,\n",
       "         'Wabash Ave & Wacker Pl': 1,\n",
       "         'Wells St & Polk St': 1,\n",
       "         'Wilton Ave & Diversey Pkwy': 1})"
      ]
     },
     "execution_count": 106,
     "metadata": {},
     "output_type": "execute_result"
    }
   ],
   "source": [
    "\"\"\"something worled finally\"\"\"\n",
    "popular_trip = []  \n",
    "for x in testing:\n",
    "    popular_trip += [x['Start Station'],x['End Station']]\n",
    "    \n",
    "print(popular_trip)\n",
    "Counter (popular_trip)"
   ]
  },
  {
   "cell_type": "code",
   "execution_count": 114,
   "metadata": {},
   "outputs": [
    {
     "name": "stdout",
     "output_type": "stream",
     "text": [
      "[('Canal St & Taylor St', 'Canal St & Monroe St (*)'), ('Larrabee St & Menomonee St', 'Sheffield Ave & Kingsbury St'), ('Orleans St & Chestnut St (NEXT Apts)', 'Ashland Ave & Blackhawk St'), ('Franklin St & Monroe St', 'Clinton St & Tilden St'), ('Broadway & Barry Ave', 'Sedgwick St & North Ave'), ('State St & Kinzie St', 'Wells St & Polk St'), ('Wabash Ave & Wacker Pl', 'Clinton St & Tilden St'), ('Daley Center Plaza', 'Canal St & Monroe St (*)'), ('Daley Center Plaza', 'Canal St & Monroe St (*)'), ('Dayton St & North Ave', 'Ogden Ave & Chicago Ave'), ('Wilton Ave & Diversey Pkwy', 'Halsted St & Wrightwood Ave'), ('Canal St & Madison St', 'LaSalle St & Illinois St'), ('Theater on the Lake', 'Lakeview Ave & Fullerton Pkwy'), ('Halsted St & Maxwell St', 'Halsted St & 18th St'), ('Ravenswood Ave & Lawrence Ave', 'Clarendon Ave & Gordon Ter')] \n",
      "\n",
      "('Daley Center Plaza', 'Canal St & Monroe St (*)')\n"
     ]
    }
   ],
   "source": [
    "popular_trip = []  \n",
    "for x in testing:\n",
    "    popular_trip += [(x['Start Station'],x['End Station'])]\n",
    "    \n",
    "print(popular_trip ,'\\n')\n",
    "x= Counter (popular_trip)\n",
    "y= max(x, key=x.get)\n",
    "print(y)"
   ]
  },
  {
   "cell_type": "code",
   "execution_count": 97,
   "metadata": {},
   "outputs": [
    {
     "name": "stdout",
     "output_type": "stream",
     "text": [
      "[['Canal St & Taylor St', 'Canal St & Monroe St (*)'], ['Larrabee St & Menomonee St', 'Sheffield Ave & Kingsbury St'], ['Orleans St & Chestnut St (NEXT Apts)', 'Ashland Ave & Blackhawk St'], ['Franklin St & Monroe St', 'Clinton St & Tilden St'], ['Broadway & Barry Ave', 'Sedgwick St & North Ave'], ['State St & Kinzie St', 'Wells St & Polk St'], ['Wabash Ave & Wacker Pl', 'Clinton St & Tilden St'], ['Daley Center Plaza', 'Canal St & Monroe St (*)'], ['Daley Center Plaza', 'Canal St & Monroe St (*)'], ['Dayton St & North Ave', 'Ogden Ave & Chicago Ave'], ['Wilton Ave & Diversey Pkwy', 'Halsted St & Wrightwood Ave'], ['Canal St & Madison St', 'LaSalle St & Illinois St'], ['Theater on the Lake', 'Lakeview Ave & Fullerton Pkwy'], ['Halsted St & Maxwell St', 'Halsted St & 18th St'], ['Ravenswood Ave & Lawrence Ave', 'Clarendon Ave & Gordon Ter']]\n"
     ]
    },
    {
     "ename": "TypeError",
     "evalue": "unhashable type: 'list'",
     "output_type": "error",
     "traceback": [
      "\u001b[1;31m---------------------------------------------------------------------------\u001b[0m",
      "\u001b[1;31mTypeError\u001b[0m                                 Traceback (most recent call last)",
      "\u001b[1;32m<ipython-input-97-5151022c0947>\u001b[0m in \u001b[0;36m<module>\u001b[1;34m()\u001b[0m\n\u001b[0;32m      4\u001b[0m \u001b[1;33m\u001b[0m\u001b[0m\n\u001b[0;32m      5\u001b[0m \u001b[0mprint\u001b[0m\u001b[1;33m(\u001b[0m\u001b[0mpopular_trip\u001b[0m\u001b[1;33m)\u001b[0m\u001b[1;33m\u001b[0m\u001b[0m\n\u001b[1;32m----> 6\u001b[1;33m \u001b[0mCounter\u001b[0m \u001b[1;33m(\u001b[0m\u001b[0mpopular_trip\u001b[0m\u001b[1;33m)\u001b[0m\u001b[1;33m\u001b[0m\u001b[0m\n\u001b[0m",
      "\u001b[1;32m~\\Anaconda3\\lib\\collections\\__init__.py\u001b[0m in \u001b[0;36m__init__\u001b[1;34m(*args, **kwds)\u001b[0m\n\u001b[0;32m    533\u001b[0m             \u001b[1;32mraise\u001b[0m \u001b[0mTypeError\u001b[0m\u001b[1;33m(\u001b[0m\u001b[1;34m'expected at most 1 arguments, got %d'\u001b[0m \u001b[1;33m%\u001b[0m \u001b[0mlen\u001b[0m\u001b[1;33m(\u001b[0m\u001b[0margs\u001b[0m\u001b[1;33m)\u001b[0m\u001b[1;33m)\u001b[0m\u001b[1;33m\u001b[0m\u001b[0m\n\u001b[0;32m    534\u001b[0m         \u001b[0msuper\u001b[0m\u001b[1;33m(\u001b[0m\u001b[0mCounter\u001b[0m\u001b[1;33m,\u001b[0m \u001b[0mself\u001b[0m\u001b[1;33m)\u001b[0m\u001b[1;33m.\u001b[0m\u001b[0m__init__\u001b[0m\u001b[1;33m(\u001b[0m\u001b[1;33m)\u001b[0m\u001b[1;33m\u001b[0m\u001b[0m\n\u001b[1;32m--> 535\u001b[1;33m         \u001b[0mself\u001b[0m\u001b[1;33m.\u001b[0m\u001b[0mupdate\u001b[0m\u001b[1;33m(\u001b[0m\u001b[1;33m*\u001b[0m\u001b[0margs\u001b[0m\u001b[1;33m,\u001b[0m \u001b[1;33m**\u001b[0m\u001b[0mkwds\u001b[0m\u001b[1;33m)\u001b[0m\u001b[1;33m\u001b[0m\u001b[0m\n\u001b[0m\u001b[0;32m    536\u001b[0m \u001b[1;33m\u001b[0m\u001b[0m\n\u001b[0;32m    537\u001b[0m     \u001b[1;32mdef\u001b[0m \u001b[0m__missing__\u001b[0m\u001b[1;33m(\u001b[0m\u001b[0mself\u001b[0m\u001b[1;33m,\u001b[0m \u001b[0mkey\u001b[0m\u001b[1;33m)\u001b[0m\u001b[1;33m:\u001b[0m\u001b[1;33m\u001b[0m\u001b[0m\n",
      "\u001b[1;32m~\\Anaconda3\\lib\\collections\\__init__.py\u001b[0m in \u001b[0;36mupdate\u001b[1;34m(*args, **kwds)\u001b[0m\n\u001b[0;32m    620\u001b[0m                     \u001b[0msuper\u001b[0m\u001b[1;33m(\u001b[0m\u001b[0mCounter\u001b[0m\u001b[1;33m,\u001b[0m \u001b[0mself\u001b[0m\u001b[1;33m)\u001b[0m\u001b[1;33m.\u001b[0m\u001b[0mupdate\u001b[0m\u001b[1;33m(\u001b[0m\u001b[0miterable\u001b[0m\u001b[1;33m)\u001b[0m \u001b[1;31m# fast path when counter is empty\u001b[0m\u001b[1;33m\u001b[0m\u001b[0m\n\u001b[0;32m    621\u001b[0m             \u001b[1;32melse\u001b[0m\u001b[1;33m:\u001b[0m\u001b[1;33m\u001b[0m\u001b[0m\n\u001b[1;32m--> 622\u001b[1;33m                 \u001b[0m_count_elements\u001b[0m\u001b[1;33m(\u001b[0m\u001b[0mself\u001b[0m\u001b[1;33m,\u001b[0m \u001b[0miterable\u001b[0m\u001b[1;33m)\u001b[0m\u001b[1;33m\u001b[0m\u001b[0m\n\u001b[0m\u001b[0;32m    623\u001b[0m         \u001b[1;32mif\u001b[0m \u001b[0mkwds\u001b[0m\u001b[1;33m:\u001b[0m\u001b[1;33m\u001b[0m\u001b[0m\n\u001b[0;32m    624\u001b[0m             \u001b[0mself\u001b[0m\u001b[1;33m.\u001b[0m\u001b[0mupdate\u001b[0m\u001b[1;33m(\u001b[0m\u001b[0mkwds\u001b[0m\u001b[1;33m)\u001b[0m\u001b[1;33m\u001b[0m\u001b[0m\n",
      "\u001b[1;31mTypeError\u001b[0m: unhashable type: 'list'"
     ]
    }
   ],
   "source": [
    "popular_trip = []  \n",
    "for x in testing:\n",
    "    popular_trip += [[x['Start Station'], x['End Station']]]\n",
    "    \n",
    "print(popular_trip)\n",
    "Counter (popular_trip)"
   ]
  },
  {
   "cell_type": "code",
   "execution_count": 98,
   "metadata": {},
   "outputs": [
    {
     "ename": "TypeError",
     "evalue": "'builtin_function_or_method' object is not subscriptable",
     "output_type": "error",
     "traceback": [
      "\u001b[1;31m---------------------------------------------------------------------------\u001b[0m",
      "\u001b[1;31mTypeError\u001b[0m                                 Traceback (most recent call last)",
      "\u001b[1;32m<ipython-input-98-781a1300e7a5>\u001b[0m in \u001b[0;36m<module>\u001b[1;34m()\u001b[0m\n\u001b[0;32m      1\u001b[0m \u001b[0mpopular_trip\u001b[0m \u001b[1;33m=\u001b[0m \u001b[1;33m[\u001b[0m\u001b[1;33m]\u001b[0m\u001b[1;33m\u001b[0m\u001b[0m\n\u001b[0;32m      2\u001b[0m \u001b[1;32mfor\u001b[0m \u001b[0mx\u001b[0m \u001b[1;32min\u001b[0m \u001b[0mtesting\u001b[0m\u001b[1;33m:\u001b[0m\u001b[1;33m\u001b[0m\u001b[0m\n\u001b[1;32m----> 3\u001b[1;33m     \u001b[0mpopular_trip\u001b[0m\u001b[1;33m.\u001b[0m\u001b[0mappend\u001b[0m\u001b[1;33m[\u001b[0m\u001b[0mx\u001b[0m\u001b[1;33m[\u001b[0m\u001b[1;34m'Start Station'\u001b[0m\u001b[1;33m]\u001b[0m\u001b[1;33m,\u001b[0m \u001b[0mx\u001b[0m\u001b[1;33m[\u001b[0m\u001b[1;34m'End Station'\u001b[0m\u001b[1;33m]\u001b[0m\u001b[1;33m]\u001b[0m\u001b[1;33m\u001b[0m\u001b[0m\n\u001b[0m\u001b[0;32m      4\u001b[0m \u001b[1;33m\u001b[0m\u001b[0m\n\u001b[0;32m      5\u001b[0m \u001b[0mprint\u001b[0m\u001b[1;33m(\u001b[0m\u001b[0mpopular_trip\u001b[0m\u001b[1;33m)\u001b[0m\u001b[1;33m\u001b[0m\u001b[0m\n",
      "\u001b[1;31mTypeError\u001b[0m: 'builtin_function_or_method' object is not subscriptable"
     ]
    }
   ],
   "source": [
    "popular_trip = []  \n",
    "for x in testing:\n",
    "    popular_trip.append[x['Start Station'], x['End Station']]\n",
    "    \n",
    "print(popular_trip)\n",
    "# Counter (popular_trip)"
   ]
  },
  {
   "cell_type": "code",
   "execution_count": 100,
   "metadata": {
    "scrolled": true
   },
   "outputs": [
    {
     "name": "stdout",
     "output_type": "stream",
     "text": [
      "[['Canal St & Taylor St', 'Canal St & Monroe St (*)'], ['Larrabee St & Menomonee St', 'Sheffield Ave & Kingsbury St'], ['Orleans St & Chestnut St (NEXT Apts)', 'Ashland Ave & Blackhawk St'], ['Franklin St & Monroe St', 'Clinton St & Tilden St'], ['Broadway & Barry Ave', 'Sedgwick St & North Ave'], ['State St & Kinzie St', 'Wells St & Polk St'], ['Wabash Ave & Wacker Pl', 'Clinton St & Tilden St'], ['Daley Center Plaza', 'Canal St & Monroe St (*)'], ['Daley Center Plaza', 'Canal St & Monroe St (*)'], ['Dayton St & North Ave', 'Ogden Ave & Chicago Ave'], ['Wilton Ave & Diversey Pkwy', 'Halsted St & Wrightwood Ave'], ['Canal St & Madison St', 'LaSalle St & Illinois St'], ['Theater on the Lake', 'Lakeview Ave & Fullerton Pkwy'], ['Halsted St & Maxwell St', 'Halsted St & 18th St'], ['Ravenswood Ave & Lawrence Ave', 'Clarendon Ave & Gordon Ter']]\n"
     ]
    },
    {
     "ename": "TypeError",
     "evalue": "unhashable type: 'list'",
     "output_type": "error",
     "traceback": [
      "\u001b[1;31m---------------------------------------------------------------------------\u001b[0m",
      "\u001b[1;31mTypeError\u001b[0m                                 Traceback (most recent call last)",
      "\u001b[1;32m<ipython-input-100-753b9946dfdb>\u001b[0m in \u001b[0;36m<module>\u001b[1;34m()\u001b[0m\n\u001b[0;32m      4\u001b[0m \u001b[1;33m\u001b[0m\u001b[0m\n\u001b[0;32m      5\u001b[0m \u001b[0mprint\u001b[0m\u001b[1;33m(\u001b[0m\u001b[0mpopular_trip\u001b[0m\u001b[1;33m)\u001b[0m\u001b[1;33m\u001b[0m\u001b[0m\n\u001b[1;32m----> 6\u001b[1;33m \u001b[0mCounter\u001b[0m \u001b[1;33m(\u001b[0m\u001b[0mpopular_trip\u001b[0m\u001b[1;33m)\u001b[0m\u001b[1;33m\u001b[0m\u001b[0m\n\u001b[0m",
      "\u001b[1;32m~\\Anaconda3\\lib\\collections\\__init__.py\u001b[0m in \u001b[0;36m__init__\u001b[1;34m(*args, **kwds)\u001b[0m\n\u001b[0;32m    533\u001b[0m             \u001b[1;32mraise\u001b[0m \u001b[0mTypeError\u001b[0m\u001b[1;33m(\u001b[0m\u001b[1;34m'expected at most 1 arguments, got %d'\u001b[0m \u001b[1;33m%\u001b[0m \u001b[0mlen\u001b[0m\u001b[1;33m(\u001b[0m\u001b[0margs\u001b[0m\u001b[1;33m)\u001b[0m\u001b[1;33m)\u001b[0m\u001b[1;33m\u001b[0m\u001b[0m\n\u001b[0;32m    534\u001b[0m         \u001b[0msuper\u001b[0m\u001b[1;33m(\u001b[0m\u001b[0mCounter\u001b[0m\u001b[1;33m,\u001b[0m \u001b[0mself\u001b[0m\u001b[1;33m)\u001b[0m\u001b[1;33m.\u001b[0m\u001b[0m__init__\u001b[0m\u001b[1;33m(\u001b[0m\u001b[1;33m)\u001b[0m\u001b[1;33m\u001b[0m\u001b[0m\n\u001b[1;32m--> 535\u001b[1;33m         \u001b[0mself\u001b[0m\u001b[1;33m.\u001b[0m\u001b[0mupdate\u001b[0m\u001b[1;33m(\u001b[0m\u001b[1;33m*\u001b[0m\u001b[0margs\u001b[0m\u001b[1;33m,\u001b[0m \u001b[1;33m**\u001b[0m\u001b[0mkwds\u001b[0m\u001b[1;33m)\u001b[0m\u001b[1;33m\u001b[0m\u001b[0m\n\u001b[0m\u001b[0;32m    536\u001b[0m \u001b[1;33m\u001b[0m\u001b[0m\n\u001b[0;32m    537\u001b[0m     \u001b[1;32mdef\u001b[0m \u001b[0m__missing__\u001b[0m\u001b[1;33m(\u001b[0m\u001b[0mself\u001b[0m\u001b[1;33m,\u001b[0m \u001b[0mkey\u001b[0m\u001b[1;33m)\u001b[0m\u001b[1;33m:\u001b[0m\u001b[1;33m\u001b[0m\u001b[0m\n",
      "\u001b[1;32m~\\Anaconda3\\lib\\collections\\__init__.py\u001b[0m in \u001b[0;36mupdate\u001b[1;34m(*args, **kwds)\u001b[0m\n\u001b[0;32m    620\u001b[0m                     \u001b[0msuper\u001b[0m\u001b[1;33m(\u001b[0m\u001b[0mCounter\u001b[0m\u001b[1;33m,\u001b[0m \u001b[0mself\u001b[0m\u001b[1;33m)\u001b[0m\u001b[1;33m.\u001b[0m\u001b[0mupdate\u001b[0m\u001b[1;33m(\u001b[0m\u001b[0miterable\u001b[0m\u001b[1;33m)\u001b[0m \u001b[1;31m# fast path when counter is empty\u001b[0m\u001b[1;33m\u001b[0m\u001b[0m\n\u001b[0;32m    621\u001b[0m             \u001b[1;32melse\u001b[0m\u001b[1;33m:\u001b[0m\u001b[1;33m\u001b[0m\u001b[0m\n\u001b[1;32m--> 622\u001b[1;33m                 \u001b[0m_count_elements\u001b[0m\u001b[1;33m(\u001b[0m\u001b[0mself\u001b[0m\u001b[1;33m,\u001b[0m \u001b[0miterable\u001b[0m\u001b[1;33m)\u001b[0m\u001b[1;33m\u001b[0m\u001b[0m\n\u001b[0m\u001b[0;32m    623\u001b[0m         \u001b[1;32mif\u001b[0m \u001b[0mkwds\u001b[0m\u001b[1;33m:\u001b[0m\u001b[1;33m\u001b[0m\u001b[0m\n\u001b[0;32m    624\u001b[0m             \u001b[0mself\u001b[0m\u001b[1;33m.\u001b[0m\u001b[0mupdate\u001b[0m\u001b[1;33m(\u001b[0m\u001b[0mkwds\u001b[0m\u001b[1;33m)\u001b[0m\u001b[1;33m\u001b[0m\u001b[0m\n",
      "\u001b[1;31mTypeError\u001b[0m: unhashable type: 'list'"
     ]
    }
   ],
   "source": [
    "popular_trip = []  \n",
    "for x in testing:\n",
    "    popular_trip.append([x['Start Station'], x['End Station']])\n",
    "    \n",
    "print(popular_trip)\n",
    "\n"
   ]
  },
  {
   "cell_type": "markdown",
   "metadata": {},
   "source": [
    "### working code"
   ]
  },
  {
   "cell_type": "code",
   "execution_count": 116,
   "metadata": {
    "scrolled": true
   },
   "outputs": [
    {
     "name": "stdout",
     "output_type": "stream",
     "text": [
      "[('Canal St & Taylor St', 'Canal St & Monroe St (*)'), ('Larrabee St & Menomonee St', 'Sheffield Ave & Kingsbury St'), ('Orleans St & Chestnut St (NEXT Apts)', 'Ashland Ave & Blackhawk St')] \n",
      "\n",
      "('Lake Shore Dr & Monroe St', 'Streeter Dr & Grand Ave')\n"
     ]
    }
   ],
   "source": [
    "#one\n",
    "import csv\n",
    "from pprint import pprint\n",
    "import calendar\n",
    "from collections import Counter\n",
    "\n",
    "\"\"\"This takes the file and returns dict of values. \"\"\"\n",
    "with open('chicago.csv', newline='') as csv_file:\n",
    "    reader = [{key: value for key, value in row.items()}      #list comprehimsion or one liners  {} its s dictionary\n",
    "    \tfor row in csv.DictReader(csv_file, skipinitialspace=True)]\n",
    "    \n",
    "\"\"\"counting the popular trip\"\"\"\n",
    "popular_trip = []  \n",
    "for x in reader:\n",
    "    popular_trip += [(x['Start Station'],x['End Station'])]\n",
    "    \n",
    "print(popular_trip[0:3] ,'\\n')\n",
    "x= Counter (popular_trip)\n",
    "y= max(x, key=x.get)\n",
    "print(y)"
   ]
  },
  {
   "cell_type": "code",
   "execution_count": 3,
   "metadata": {},
   "outputs": [
    {
     "ename": "AttributeError",
     "evalue": "module 'csv' has no attribute 'version'",
     "output_type": "error",
     "traceback": [
      "\u001b[1;31m---------------------------------------------------------------------------\u001b[0m",
      "\u001b[1;31mAttributeError\u001b[0m                            Traceback (most recent call last)",
      "\u001b[1;32m<ipython-input-3-313fd13a3c5c>\u001b[0m in \u001b[0;36m<module>\u001b[1;34m()\u001b[0m\n\u001b[0;32m      1\u001b[0m \u001b[1;32mimport\u001b[0m \u001b[0mcsv\u001b[0m\u001b[1;33m\u001b[0m\u001b[0m\n\u001b[1;32m----> 2\u001b[1;33m \u001b[0mcsv\u001b[0m\u001b[1;33m.\u001b[0m\u001b[0mversion\u001b[0m\u001b[1;33m.\u001b[0m\u001b[0mversion\u001b[0m\u001b[1;33m\u001b[0m\u001b[0m\n\u001b[0m",
      "\u001b[1;31mAttributeError\u001b[0m: module 'csv' has no attribute 'version'"
     ]
    }
   ],
   "source": [
    "import csv\n",
    "csv.version.version"
   ]
  },
  {
   "cell_type": "code",
   "execution_count": null,
   "metadata": {
    "collapsed": true
   },
   "outputs": [],
   "source": []
  }
 ],
 "metadata": {
  "kernelspec": {
   "display_name": "Python 3",
   "language": "python",
   "name": "python3"
  },
  "language_info": {
   "codemirror_mode": {
    "name": "ipython",
    "version": 3
   },
   "file_extension": ".py",
   "mimetype": "text/x-python",
   "name": "python",
   "nbconvert_exporter": "python",
   "pygments_lexer": "ipython3",
   "version": "3.6.3"
  }
 },
 "nbformat": 4,
 "nbformat_minor": 2
}
