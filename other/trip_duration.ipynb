{
 "cells": [
  {
   "cell_type": "markdown",
   "metadata": {},
   "source": [
    "# What is the total trip duration and average trip duration?\n"
   ]
  },
  {
   "cell_type": "code",
   "execution_count": null,
   "metadata": {
    "collapsed": true
   },
   "outputs": [],
   "source": [
    "import csv\n",
    "import calendar\n",
    "from collections import Counter\n",
    "\"\"\"This takes the file and returns dict of values. \"\"\"\n",
    "with open('chicago.csv', newline='') as csv_file:\n",
    "    reader = [{key: value for key, value in row.items()}      #list comprehimsion or one liners  {} its s dictionary\n",
    "    \tfor row in csv.DictReader(csv_file, skipinitialspace=True)]\n",
    "\n",
    "\"\"\"prints dict of 'Start Time'\"\"\"   \n",
    "file_st = []\n",
    "for x in reader:\n",
    "    file_st.append({'Start Time' : x['Start Time']})      # a list of dicts"
   ]
  },
  {
   "cell_type": "code",
   "execution_count": 3,
   "metadata": {
    "scrolled": true
   },
   "outputs": [
    {
     "name": "stdout",
     "output_type": "stream",
     "text": [
      "[{'Birth Year': '',\n",
      "  'End Station': 'Canal St & Monroe St (*)',\n",
      "  'End Time': '2017-01-01 00:06:32',\n",
      "  'Gender': '',\n",
      "  'Start Station': 'Canal St & Taylor St',\n",
      "  'Start Time': '2017-01-01 00:00:36',\n",
      "  'Trip Duration': '356',\n",
      "  'User Type': 'Customer'},\n",
      " {'Birth Year': '1984.0',\n",
      "  'End Station': 'Sheffield Ave & Kingsbury St',\n",
      "  'End Time': '2017-01-01 00:08:21',\n",
      "  'Gender': 'Male',\n",
      "  'Start Station': 'Larrabee St & Menomonee St',\n",
      "  'Start Time': '2017-01-01 00:02:54',\n",
      "  'Trip Duration': '327',\n",
      "  'User Type': 'Subscriber'},\n",
      " {'Birth Year': '1985.0',\n",
      "  'End Station': 'Ashland Ave & Blackhawk St',\n",
      "  'End Time': '2017-01-01 00:18:31',\n",
      "  'Gender': 'Male',\n",
      "  'Start Station': 'Orleans St & Chestnut St (NEXT Apts)',\n",
      "  'Start Time': '2017-01-01 00:06:06',\n",
      "  'Trip Duration': '745',\n",
      "  'User Type': 'Subscriber'},\n",
      " {'Birth Year': '1990.0',\n",
      "  'End Station': 'Clinton St & Tilden St',\n",
      "  'End Time': '2017-01-01 00:12:51',\n",
      "  'Gender': 'Male',\n",
      "  'Start Station': 'Franklin St & Monroe St',\n",
      "  'Start Time': '2017-01-01 00:07:28',\n",
      "  'Trip Duration': '323',\n",
      "  'User Type': 'Subscriber'},\n",
      " {'Birth Year': '1990.0',\n",
      "  'End Station': 'Sedgwick St & North Ave',\n",
      "  'End Time': '2017-01-01 00:20:53',\n",
      "  'Gender': 'Male',\n",
      "  'Start Station': 'Broadway & Barry Ave',\n",
      "  'Start Time': '2017-01-01 00:07:57',\n",
      "  'Trip Duration': '776',\n",
      "  'User Type': 'Subscriber'},\n",
      " {'Birth Year': '1970.0',\n",
      "  'End Station': 'Wells St & Polk St',\n",
      "  'End Time': '2017-01-01 00:21:27',\n",
      "  'Gender': 'Male',\n",
      "  'Start Station': 'State St & Kinzie St',\n",
      "  'Start Time': '2017-01-01 00:10:44',\n",
      "  'Trip Duration': '643',\n",
      "  'User Type': 'Subscriber'},\n",
      " {'Birth Year': '1986.0',\n",
      "  'End Station': 'Clinton St & Tilden St',\n",
      "  'End Time': '2017-01-01 00:23:47',\n",
      "  'Gender': 'Male',\n",
      "  'Start Station': 'Wabash Ave & Wacker Pl',\n",
      "  'Start Time': '2017-01-01 00:11:34',\n",
      "  'Trip Duration': '733',\n",
      "  'User Type': 'Subscriber'},\n",
      " {'Birth Year': '',\n",
      "  'End Station': 'Canal St & Monroe St (*)',\n",
      "  'End Time': '2017-01-01 00:26:22',\n",
      "  'Gender': '',\n",
      "  'Start Station': 'Daley Center Plaza',\n",
      "  'Start Time': '2017-01-01 00:14:57',\n",
      "  'Trip Duration': '685',\n",
      "  'User Type': 'Customer'},\n",
      " {'Birth Year': '',\n",
      "  'End Station': 'Canal St & Monroe St (*)',\n",
      "  'End Time': '2017-01-01 00:26:28',\n",
      "  'Gender': '',\n",
      "  'Start Station': 'Daley Center Plaza',\n",
      "  'Start Time': '2017-01-01 00:15:03',\n",
      "  'Trip Duration': '685',\n",
      "  'User Type': 'Customer'},\n",
      " {'Birth Year': '',\n",
      "  'End Station': 'Ogden Ave & Chicago Ave',\n",
      "  'End Time': '2017-01-01 00:29:49',\n",
      "  'Gender': '',\n",
      "  'Start Station': 'Dayton St & North Ave',\n",
      "  'Start Time': '2017-01-01 00:17:01',\n",
      "  'Trip Duration': '768',\n",
      "  'User Type': 'Customer'}]\n"
     ]
    }
   ],
   "source": [
    "#one\n",
    "import csv\n",
    "from pprint import pprint\n",
    "\"\"\"This takes the file and returns dict of values. \"\"\"\n",
    "with open('chicago.csv', newline='') as csv_file:\n",
    "    reader = [{key: value for key, value in row.items()}      #list comprehimsion or one liners  {} its s dictionary\n",
    "    \tfor row in csv.DictReader(csv_file, skipinitialspace=True)]\n",
    "    \n",
    "\"\"\"creates a mini chicogo file called testing\"\"\"\n",
    "testing=(reader[0:15])\n",
    "pprint(testing[0:10])"
   ]
  },
  {
   "cell_type": "code",
   "execution_count": 1,
   "metadata": {},
   "outputs": [
    {
     "ename": "NameError",
     "evalue": "name 'testing' is not defined",
     "output_type": "error",
     "traceback": [
      "\u001b[1;31m---------------------------------------------------------------------------\u001b[0m",
      "\u001b[1;31mNameError\u001b[0m                                 Traceback (most recent call last)",
      "\u001b[1;32m<ipython-input-1-0e190c4bf69e>\u001b[0m in \u001b[0;36m<module>\u001b[1;34m()\u001b[0m\n\u001b[0;32m      6\u001b[0m \u001b[1;34m\"\"\"time in seconds\"\"\"\u001b[0m\u001b[1;33m\u001b[0m\u001b[0m\n\u001b[0;32m      7\u001b[0m \u001b[0mtrip_sum\u001b[0m \u001b[1;33m=\u001b[0m \u001b[1;36m0\u001b[0m\u001b[1;33m\u001b[0m\u001b[0m\n\u001b[1;32m----> 8\u001b[1;33m \u001b[1;32mfor\u001b[0m \u001b[0mx\u001b[0m \u001b[1;32min\u001b[0m \u001b[0mtesting\u001b[0m\u001b[1;33m:\u001b[0m\u001b[1;33m\u001b[0m\u001b[0m\n\u001b[0m\u001b[0;32m      9\u001b[0m     \u001b[0mprint\u001b[0m\u001b[1;33m(\u001b[0m\u001b[0mx\u001b[0m\u001b[1;33m[\u001b[0m\u001b[1;34m'Trip Duration'\u001b[0m\u001b[1;33m]\u001b[0m\u001b[1;33m)\u001b[0m\u001b[1;33m\u001b[0m\u001b[0m\n\u001b[0;32m     10\u001b[0m     \u001b[0mprint\u001b[0m \u001b[1;33m(\u001b[0m\u001b[0mint\u001b[0m\u001b[1;33m(\u001b[0m\u001b[0mx\u001b[0m\u001b[1;33m[\u001b[0m\u001b[1;34m'Trip Duration'\u001b[0m\u001b[1;33m]\u001b[0m\u001b[1;33m)\u001b[0m\u001b[1;33m/\u001b[0m\u001b[1;36m60\u001b[0m\u001b[1;33m,\u001b[0m \u001b[1;34m'\\n'\u001b[0m\u001b[1;33m)\u001b[0m\u001b[1;33m\u001b[0m\u001b[0m\n",
      "\u001b[1;31mNameError\u001b[0m: name 'testing' is not defined"
     ]
    }
   ],
   "source": [
    "from datetime import datetime\n",
    "from dateutil import parser\n",
    "from pprint import pprint\n",
    "import time\n",
    "\n",
    "\"\"\"time in seconds\"\"\"\n",
    "trip_sum = 0\n",
    "for x in testing:\n",
    "    print(x['Trip Duration'])\n",
    "    print (int(x['Trip Duration'])/60, '\\n')\n",
    "    trip_sum = trip_sum + int(x['Trip Duration'])    \n",
    "print(trip_sum)\n",
    "\n",
    "\"\"\"time in seconds to HH:MM:SS\"\"\"\n",
    "time.strftime('%H:%M:%S', time.gmtime(trip_sum))\n",
    "    \n",
    "averagee = trip_sum/len(testing)\n",
    "print (averagee)"
   ]
  },
  {
   "cell_type": "code",
   "execution_count": null,
   "metadata": {},
   "outputs": [],
   "source": [
    "from datetime import datetime\n",
    "from dateutil import parser\n",
    "from pprint import pprint\n",
    "import time\n",
    "\n",
    "\"\"\"time in seconds\"\"\"\n",
    "trip_sum = 0\n",
    "for x in testing:\n",
    "    trip_sum = trip_sum + int(x['Trip Duration'])    \n",
    "print(trip_sum)\n",
    "\n",
    "\"\"\"time in seconds to HH:MM:SS\"\"\"\n",
    "time.strftime('%H:%M:%S', time.gmtime(trip_sum))\n",
    "    "
   ]
  },
  {
   "cell_type": "code",
   "execution_count": 20,
   "metadata": {
    "scrolled": false
   },
   "outputs": [
    {
     "name": "stdout",
     "output_type": "stream",
     "text": [
      "[{'January': '356'}, {'January': '327'}, {'January': '745'}]\n"
     ]
    }
   ],
   "source": [
    "\"\"\"filter by month of trip time\"\"\"\n",
    "import calendar\n",
    "dict_month = []\n",
    "for x in testing:\n",
    "    a=(calendar.month_name[int(x['Start Time'][5:7])]) #month name\n",
    "    b= x['Trip Duration']\n",
    "    dict_month.append({a:b})\n",
    "\n",
    "print(dict_month[0:3]) #dict of month and trip duration\n",
    " \n",
    "                            \n",
    "\n",
    "\n",
    "    "
   ]
  },
  {
   "cell_type": "code",
   "execution_count": 24,
   "metadata": {},
   "outputs": [
    {
     "name": "stdout",
     "output_type": "stream",
     "text": [
      "hi\n",
      "hi\n",
      "hi\n",
      "hi\n",
      "hi\n",
      "hi\n",
      "hi\n",
      "hi\n",
      "hi\n",
      "hi\n",
      "hi\n",
      "hi\n",
      "hi\n",
      "hi\n",
      "hi\n"
     ]
    }
   ],
   "source": [
    "sum_jan = 0\n",
    "sum_jan = 0\n",
    "\n",
    "for x in dict_month:\n",
    "    for key,values in x.items():\n",
    "        if key == 'January':\n",
    "            sum_jan += values\n",
    "        \n",
    "            \n",
    "        \n",
    "        "
   ]
  },
  {
   "cell_type": "code",
   "execution_count": null,
   "metadata": {},
   "outputs": [],
   "source": [
    "for key, value in dict_month.items():\n",
    "    "
   ]
  },
  {
   "cell_type": "code",
   "execution_count": 54,
   "metadata": {
    "scrolled": false
   },
   "outputs": [
    {
     "name": "stdout",
     "output_type": "stream",
     "text": [
      "15\n"
     ]
    }
   ],
   "source": [
    "\"\"\"print no of elemenst in a list\"\"\"\n",
    "print(len(testing))"
   ]
  },
  {
   "cell_type": "code",
   "execution_count": 59,
   "metadata": {
    "scrolled": true
   },
   "outputs": [
    {
     "name": "stdout",
     "output_type": "stream",
     "text": [
      "3128.9333333333334\n"
     ]
    },
    {
     "data": {
      "text/plain": [
       "'00:52:08'"
      ]
     },
     "execution_count": 59,
     "metadata": {},
     "output_type": "execute_result"
    }
   ],
   "source": [
    "avg_time = file_st/len(testing)\n",
    "print(avg_time)\n",
    "\n",
    "time.strftime('%H:%M:%S', time.gmtime(avg_time))\n"
   ]
  },
  {
   "cell_type": "code",
   "execution_count": 64,
   "metadata": {},
   "outputs": [
    {
     "data": {
      "text/plain": [
       "'0:11:06'"
      ]
     },
     "execution_count": 64,
     "metadata": {},
     "output_type": "execute_result"
    }
   ],
   "source": [
    ">>> import datetime\n",
    ">>> str(datetime.timedelta(seconds=666))\n",
    "'0:11:06'"
   ]
  },
  {
   "cell_type": "code",
   "execution_count": 65,
   "metadata": {},
   "outputs": [
    {
     "name": "stdout",
     "output_type": "stream",
     "text": [
      "03:18:19\n",
      "00:03:18:19\n"
     ]
    }
   ],
   "source": [
    "def from_seconds(seconds):\n",
    "    days, seconds = divmod(seconds, 86400)\n",
    "    hours, seconds = divmod(seconds, 3600)\n",
    "    minutes, seconds = divmod(seconds, 60)\n",
    "    return days, hours, minutes, seconds\n",
    "\n",
    "\n",
    "def to_seconds(hhmmss):\n",
    "    hours, minutes, seconds = (int(a) for a in hhmmss.split(':'))\n",
    "    return (hours * 3600) + (minutes * 60) + seconds\n",
    "\n",
    "\n",
    "if __name__ == '__main__':\n",
    "    dates = [\n",
    "        '00:00:36',\n",
    "        '00:02:54',\n",
    "        '00:06:06',\n",
    "        '00:07:28',\n",
    "        '00:07:57',\n",
    "        '00:10:44',\n",
    "        '00:11:34',\n",
    "        '00:14:57',\n",
    "        '00:15:03',\n",
    "        '00:17:01',\n",
    "        '00:17:13',\n",
    "        '00:18:28',\n",
    "        '00:18:50',\n",
    "        '00:23:41',\n",
    "        '00:25:47'\n",
    "    ]\n",
    "    total_seconds = sum(to_seconds(date) for date in dates)\n",
    "    days, hours, minutes, seconds = from_seconds(total_seconds)\n",
    "\n",
    "    fmt = '{:0>2}:{:0>2}:{:0>2}'.format((days * 24) + hours, minutes, seconds)\n",
    "    print(fmt)\n",
    "\n",
    "    fmt_2 = '{:0>2}:{:0>2}:{:0>2}:{:0>2}'.format(days, hours, minutes, seconds)\n",
    "    print(fmt_2)"
   ]
  },
  {
   "cell_type": "code",
   "execution_count": 1,
   "metadata": {},
   "outputs": [
    {
     "ename": "IndentationError",
     "evalue": "unindent does not match any outer indentation level (<tokenize>, line 12)",
     "output_type": "error",
     "traceback": [
      "\u001b[1;36m  File \u001b[1;32m\"<tokenize>\"\u001b[1;36m, line \u001b[1;32m12\u001b[0m\n\u001b[1;33m    average_time = 0\u001b[0m\n\u001b[1;37m    ^\u001b[0m\n\u001b[1;31mIndentationError\u001b[0m\u001b[1;31m:\u001b[0m unindent does not match any outer indentation level\n"
     ]
    }
   ],
   "source": [
    "def trip_duration(city_file, time_period, date):\n",
    "\t\"\"\"\n",
    "\tcity_file is a list of dictionaries\n",
    "\ttime_period is a str of either \"none\", \"day\", or \"month\"\n",
    "\tdate is an int for the following:\n",
    "\t\tnone: 0\n",
    "\t\tday: 1 - 30\n",
    "\t\tmonth: 1 - 6\n",
    "\t\"\"\"\n",
    "\t\n",
    "\ttotal_time = 0\n",
    "    average_time = 0\n",
    "    rides = 0\n",
    "\n",
    "    if time_period == 'none':\n",
    "        for row in city_file:\n",
    "            td = row['Trip Duration']\n",
    "            total_time += td\n",
    "            rides += 1\n",
    "            average_time = total_time / rides\n",
    "\n",
    "    elif time_period == 'day':\n",
    "        for row in city_file:\n",
    "            dt = time.strptime(row['Start Time'], \"%Y-%m-%d %H:%M:%S\")\n",
    "            if dt[2] == date:\n",
    "                td = row['Trip Duration']\n",
    "                total_time += td\n",
    "                rides += 1\n",
    "                average_time = total_time / rides\n",
    "\n",
    "    elif time_period == 'month':\n",
    "        for row in city_file:\n",
    "            dt = time.strptime(row['Start Time'], \"%Y-%m-%d %H:%M:%S\")\n",
    "            if dt[1] == date:\n",
    "                td = row['Trip Duration']\n",
    "                total_time += td\n",
    "                rides += 1\n",
    "                average_time = total_time / rides\n",
    "\n",
    "    return total_time, average_time"
   ]
  }
 ],
 "metadata": {
  "kernelspec": {
   "display_name": "Python 3",
   "language": "python",
   "name": "python3"
  },
  "language_info": {
   "codemirror_mode": {
    "name": "ipython",
    "version": 3
   },
   "file_extension": ".py",
   "mimetype": "text/x-python",
   "name": "python",
   "nbconvert_exporter": "python",
   "pygments_lexer": "ipython3",
   "version": "3.6.3"
  }
 },
 "nbformat": 4,
 "nbformat_minor": 2
}
