{
 "cells": [
  {
   "cell_type": "code",
   "execution_count": 2,
   "metadata": {},
   "outputs": [
    {
     "ename": "IndentationError",
     "evalue": "unindent does not match any outer indentation level (<tokenize>, line 12)",
     "output_type": "error",
     "traceback": [
      "\u001b[1;36m  File \u001b[1;32m\"<tokenize>\"\u001b[1;36m, line \u001b[1;32m12\u001b[0m\n\u001b[1;33m    average_time = 0\u001b[0m\n\u001b[1;37m    ^\u001b[0m\n\u001b[1;31mIndentationError\u001b[0m\u001b[1;31m:\u001b[0m unindent does not match any outer indentation level\n"
     ]
    }
   ],
   "source": [
    "def trip_duration(city_file, time_period, date):\n",
    "\t\"\"\"\n",
    "\tcity_file is a list of dictionaries\n",
    "\ttime_period is a str of either \"none\", \"day\", or \"month\"\n",
    "\tdate is an int for the following:\n",
    "\t\tnone: 0\n",
    "\t\tday: 1 - 30\n",
    "\t\tmonth: 1 - 6\n",
    "\t\"\"\"\n",
    "\t\n",
    "\ttotal_time = 0\n",
    "    average_time = 0\n",
    "    rides = 0\n",
    "\n",
    "    if time_period == 'none':\n",
    "        for row in city_file:\n",
    "            td = row['Trip Duration']\n",
    "            total_time += td\n",
    "            rides += 1\n",
    "            average_time = total_time / rides\n",
    "\n",
    "    elif time_period == 'day':\n",
    "        for row in city_file:\n",
    "            dt = time.strptime(row['Start Time'], \"%Y-%m-%d %H:%M:%S\")\n",
    "            if dt[2] == date:\n",
    "                td = row['Trip Duration']\n",
    "                total_time += td\n",
    "                rides += 1\n",
    "                average_time = total_time / rides\n",
    "\n",
    "    elif time_period == 'month':\n",
    "        for row in city_file:\n",
    "            dt = time.strptime(row['Start Time'], \"%Y-%m-%d %H:%M:%S\")\n",
    "            if dt[1] == date:\n",
    "                td = row['Trip Duration']\n",
    "                total_time += td\n",
    "                rides += 1\n",
    "                average_time = total_time / rides\n",
    "\n",
    "    return total_time, average_time"
   ]
  }
 ],
 "metadata": {
  "kernelspec": {
   "display_name": "Python 3",
   "language": "python",
   "name": "python3"
  },
  "language_info": {
   "codemirror_mode": {
    "name": "ipython",
    "version": 3
   },
   "file_extension": ".py",
   "mimetype": "text/x-python",
   "name": "python",
   "nbconvert_exporter": "python",
   "pygments_lexer": "ipython3",
   "version": "3.6.3"
  }
 },
 "nbformat": 4,
 "nbformat_minor": 2
}
