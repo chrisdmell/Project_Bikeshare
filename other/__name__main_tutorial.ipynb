{
 "cells": [
  {
   "cell_type": "markdown",
   "metadata": {},
   "source": [
    "used primarily if i am importing a module from another source and just want to run a specific function"
   ]
  },
  {
   "cell_type": "code",
   "execution_count": 1,
   "metadata": {},
   "outputs": [
    {
     "name": "stdout",
     "output_type": "stream",
     "text": [
      "__main__\n"
     ]
    }
   ],
   "source": [
    "# print (__name__)"
   ]
  },
  {
   "cell_type": "code",
   "execution_count": 2,
   "metadata": {},
   "outputs": [
    {
     "name": "stdout",
     "output_type": "stream",
     "text": [
      "first module : __main__\n"
     ]
    }
   ],
   "source": [
    "# print ('first module : {}'. format (__name__))"
   ]
  },
  {
   "cell_type": "markdown",
   "metadata": {},
   "source": [
    "[link](https://www.youtube.com/watch?v=sugvnHA7ElY)"
   ]
  },
  {
   "cell_type": "code",
   "execution_count": 7,
   "metadata": {},
   "outputs": [
    {
     "name": "stdout",
     "output_type": "stream",
     "text": [
      "this is my first module\n"
     ]
    }
   ],
   "source": [
    "def main():\n",
    "    print ('this is my first module')\n",
    "    \n",
    "if __name__ == '__main__' :\n",
    "    main()"
   ]
  },
  {
   "cell_type": "markdown",
   "metadata": {},
   "source": [
    "basically if i write a multiple functions in a file say A having function a,c,v,e and i want to import it in another file say B, but I do not want to run the whole code by want to borrwo just bits of it say just a, we use __name__ == '__main__' in my file a\n",
    "\n",
    "\n",
    "file A<br>\n",
    "def main(): <br>\n",
    " my code<br>\n",
    " a<br>\n",
    " s<br>\n",
    " d<br>\n",
    " \n",
    "if __name__ == '__main__': <br>\n",
    "    main()<br>\n",
    "    \n",
    "file  B <br>\n",
    "import A  (if i had not given  -\"if __name__ == '__main__':\"-  the whole code would have run and executed a,s,d.)\n",
    "\n",
    "\n",
    "A.b  (\"if __name__ == '__main__':\" because of this line I can import only certain code function I want. in A i just import function b))"
   ]
  }
 ],
 "metadata": {
  "kernelspec": {
   "display_name": "Python 3",
   "language": "python",
   "name": "python3"
  },
  "language_info": {
   "codemirror_mode": {
    "name": "ipython",
    "version": 3
   },
   "file_extension": ".py",
   "mimetype": "text/x-python",
   "name": "python",
   "nbconvert_exporter": "python",
   "pygments_lexer": "ipython3",
   "version": "3.6.3"
  }
 },
 "nbformat": 4,
 "nbformat_minor": 2
}
