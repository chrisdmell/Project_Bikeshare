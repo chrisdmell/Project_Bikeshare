{
 "cells": [
  {
   "cell_type": "markdown",
   "metadata": {},
   "source": [
    "What are the counts of gender?\n"
   ]
  },
  {
   "cell_type": "markdown",
   "metadata": {},
   "source": [
    "takes long timt to complete\n"
   ]
  },
  {
   "cell_type": "code",
   "execution_count": 3,
   "metadata": {},
   "outputs": [
    {
     "name": "stdout",
     "output_type": "stream",
     "text": [
      "The gender count is : Male \n"
     ]
    }
   ],
   "source": [
    "import csv\n",
    "import calendar\n",
    "from collections import Counter\n",
    "\"\"\"This takes the file and returns dict of values. \"\"\"\n",
    "with open('new_york_city.csv', newline='') as csv_file:\n",
    "    reader = [{key: value for key, value in row.items()}      #list comprehimsion or one liners  {} its s dictionary\n",
    "    \tfor row in csv.DictReader(csv_file, skipinitialspace=True)]\n",
    "\n",
    "\"\"\"prints dict of 'Gender'\"\"\"   \n",
    "file_st = []\n",
    "for x in reader:\n",
    "    file_st.append({'Gender' : x['Gender']})      # a list of dicts\n",
    "    \n",
    "\"\"\"prints and add month names to month[]\"\"\"\n",
    "gender_c= []\n",
    "for x in file_st:\n",
    "    gender_c.append(x['Gender'])\n",
    "    \n",
    "\"\"\"counts and gives a dict of month\"\"\"        \n",
    "x=Counter(gender_c)\n",
    "# print(x, '\\n')\n",
    "\n",
    "\"\"\"prints out max out the dict of months\"\"\"\n",
    "max_gender = max(x, key=x.get)\n",
    "\n",
    "\"\"\"print using .format()\"\"\"\n",
    "print('The gender count is : {} '.format(max_gender))\n"
   ]
  },
  {
   "cell_type": "code",
   "execution_count": 2,
   "metadata": {
    "scrolled": true
   },
   "outputs": [
    {
     "name": "stdout",
     "output_type": "stream",
     "text": [
      "[{'Birth Year': '1965.0',\n",
      "  'End Station': 'Central Park West & W 72 St',\n",
      "  'End Time': '2017-01-01 00:11:41',\n",
      "  'Gender': 'Female',\n",
      "  'Start Station': 'W 82 St & Central Park West',\n",
      "  'Start Time': '2017-01-01 00:00:21',\n",
      "  'Trip Duration': '680',\n",
      "  'User Type': 'Subscriber'}]\n"
     ]
    }
   ],
   "source": [
    "import csv\n",
    "import calendar\n",
    "from collections import Counter\n",
    "from pprint import pprint\n",
    "\"\"\"This takes the file and returns dict of values. \"\"\"\n",
    "with open('new_york_city.csv', newline='') as csv_file:\n",
    "    reader = [{key: value for key, value in row.items()}      #list comprehimsion or one liners  {} its s dictionary\n",
    "    \tfor row in csv.DictReader(csv_file, skipinitialspace=True)]\n",
    "\n",
    "\"\"\"creates a mini chicogo file called testing\"\"\"\n",
    "testing=(reader[0:15])\n",
    "pprint(testing)"
   ]
  },
  {
   "cell_type": "code",
   "execution_count": 2,
   "metadata": {},
   "outputs": [
    {
     "ename": "NameError",
     "evalue": "name 'testing' is not defined",
     "output_type": "error",
     "traceback": [
      "\u001b[1;31m---------------------------------------------------------------------------\u001b[0m",
      "\u001b[1;31mNameError\u001b[0m                                 Traceback (most recent call last)",
      "\u001b[1;32m<ipython-input-2-a26724d601d3>\u001b[0m in \u001b[0;36m<module>\u001b[1;34m()\u001b[0m\n\u001b[0;32m      1\u001b[0m \u001b[1;34m\"\"\"making a list of birth year\"\"\"\u001b[0m\u001b[1;33m\u001b[0m\u001b[0m\n\u001b[0;32m      2\u001b[0m \u001b[0mbirth_year\u001b[0m \u001b[1;33m=\u001b[0m \u001b[1;33m[\u001b[0m\u001b[1;33m]\u001b[0m\u001b[1;33m\u001b[0m\u001b[0m\n\u001b[1;32m----> 3\u001b[1;33m \u001b[1;32mfor\u001b[0m \u001b[0mx\u001b[0m \u001b[1;32min\u001b[0m \u001b[0mtesting\u001b[0m\u001b[1;33m:\u001b[0m\u001b[1;33m\u001b[0m\u001b[0m\n\u001b[0m\u001b[0;32m      4\u001b[0m     \u001b[0mbirth_year\u001b[0m\u001b[1;33m.\u001b[0m\u001b[0mappend\u001b[0m\u001b[1;33m(\u001b[0m\u001b[0mint\u001b[0m\u001b[1;33m(\u001b[0m\u001b[0mx\u001b[0m\u001b[1;33m[\u001b[0m\u001b[1;34m'Birth Year'\u001b[0m\u001b[1;33m]\u001b[0m\u001b[1;33m)\u001b[0m\u001b[1;33m)\u001b[0m\u001b[1;33m\u001b[0m\u001b[0m\n\u001b[0;32m      5\u001b[0m \u001b[1;33m\u001b[0m\u001b[0m\n",
      "\u001b[1;31mNameError\u001b[0m: name 'testing' is not defined"
     ]
    }
   ],
   "source": [
    "\"\"\"making a list of birth year\"\"\"\n",
    "birth_year = []\n",
    "for x in testing:\n",
    "    birth_year.append(int(x['Birth Year']))\n",
    "\n",
    "\"\"\"pop year \"\"\"\n",
    "x = Counter(birth_year)\n",
    "pop_year = max (x, key=x.get)\n",
    "\n",
    "\"\"\"max and min\"\"\"\n",
    "max(birth_year)\n",
    "min(birth_year)\n",
    "\n",
    "\n"
   ]
  }
 ],
 "metadata": {
  "kernelspec": {
   "display_name": "Python 3",
   "language": "python",
   "name": "python3"
  },
  "language_info": {
   "codemirror_mode": {
    "name": "ipython",
    "version": 3
   },
   "file_extension": ".py",
   "mimetype": "text/x-python",
   "name": "python",
   "nbconvert_exporter": "python",
   "pygments_lexer": "ipython3",
   "version": "3.6.3"
  }
 },
 "nbformat": 4,
 "nbformat_minor": 2
}
