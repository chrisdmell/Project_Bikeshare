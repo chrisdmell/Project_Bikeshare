{
 "cells": [
  {
   "cell_type": "code",
   "execution_count": 1,
   "metadata": {},
   "outputs": [],
   "source": [
    "import pandas as pd\n",
    "import numpy as np\n",
    "import time"
   ]
  },
  {
   "cell_type": "code",
   "execution_count": 2,
   "metadata": {},
   "outputs": [],
   "source": [
    "chicago = 'chicago.csv'\n",
    "nyu = 'new_york_city.csv'\n",
    "washington = 'washington.csv'"
   ]
  },
  {
   "cell_type": "code",
   "execution_count": 3,
   "metadata": {},
   "outputs": [],
   "source": [
    "def get_city():\n",
    "    '''Asks the user for a city and returns the filename for that city's bike share data.\n",
    "\n",
    "    Args:\n",
    "        none.\n",
    "    Returns:\n",
    "        (str) Filename for a city's bikeshare data.\n",
    "    '''\n",
    "    city = input('\\nHello! Let\\'s explore some US bikeshare data!\\n'\n",
    "                 'Would you like to see data for Chicago, New York, or Washington?\\n').lower()\n",
    "    # TODO: handle raw input and complete function\n",
    "    city_name = \"\"\n",
    "    if city.lower() == \"chicago\":\n",
    "        city_name = chicago\n",
    "        \n",
    "    elif city.lower() == \"new york\":\n",
    "        city_name = nyu\n",
    "        \n",
    "    elif city == \"washington\":\n",
    "        city_name = washington\n",
    "        \n",
    "    else:\n",
    "        print(\"Invalid Entry..... Kindly re-enter\")\n",
    "        get_city()\n",
    "    return (city_name)"
   ]
  },
  {
   "cell_type": "code",
   "execution_count": 25,
   "metadata": {},
   "outputs": [
    {
     "name": "stdout",
     "output_type": "stream",
     "text": [
      "\n",
      "Hello! Let's explore some US bikeshare data!\n",
      "Would you like to see data for Chicago, New York, or Washington?\n",
      "chicago\n",
      "print chicago.csv\n"
     ]
    }
   ],
   "source": [
    "gc = get_city()\n",
    "\n"
   ]
  },
  {
   "cell_type": "code",
   "execution_count": 4,
   "metadata": {},
   "outputs": [],
   "source": [
    "def get_time_period():\n",
    "    '''Asks the user for a time period and returns the specified filter.\n",
    "\n",
    "    Args:\n",
    "        none.\n",
    "    Returns: time_period\n",
    "    '''\n",
    "    time_period = input('\\nWould you like to filter the data by month, day, or none at'\n",
    "                        ' all? Type \"none\" for no time filter.\\n')\n",
    "\n",
    "    if time_period.lower() == \"month\" or time_period.lower() == \"day\" or time_period.lower() == \"none\":\n",
    "        print(\"Time Period selected :{}\".format(time_period.title()))\n",
    "        \n",
    "    else:\n",
    "        print(\"{} is Invalied entry, Kindly re-enter\".format(time_period.title()))\n",
    "        get_time_period()\n",
    "        \n",
    "    return(time_period)\n"
   ]
  },
  {
   "cell_type": "code",
   "execution_count": 23,
   "metadata": {
    "scrolled": false
   },
   "outputs": [
    {
     "name": "stdout",
     "output_type": "stream",
     "text": [
      "\n",
      "Would you like to filter the data by month, day, or none at all? Type \"none\" for no time filter.\n",
      "month\n",
      "Time Period selected :Month\n"
     ]
    }
   ],
   "source": [
    "gtt = get_time_period()\n"
   ]
  },
  {
   "cell_type": "code",
   "execution_count": 5,
   "metadata": {},
   "outputs": [],
   "source": [
    "def get_month():\n",
    "    '''Asks the user for a month and returns the specified month.\n",
    "\n",
    "    Args:\n",
    "        none.\n",
    "    Returns:\n",
    "        TODO: fill out return type and description (see get_city for an example)\n",
    "    '''\n",
    "    month = input('\\nWhich month? January, February, March, April, May, or June?\\n').lower()\n",
    "    # TODO: handle raw input and complete function\n",
    "    if month == \"january\" or month == \"february\" or month == \"march\" or month == \"april\" or month == \"may\" or month == \"june\":\n",
    "        print(\"Month selected :{}\".format(month.title()))\n",
    "        return(month)\n",
    "    else:\n",
    "        print(\"{} is Invalied entry, Kindly re-enter\".format(month.title()))\n",
    "        get_month()\n",
    "        return (month)"
   ]
  },
  {
   "cell_type": "code",
   "execution_count": 26,
   "metadata": {},
   "outputs": [
    {
     "name": "stdout",
     "output_type": "stream",
     "text": [
      "\n",
      "Which month? January, February, March, April, May, or June?\n",
      "may\n",
      "Month selected :May\n"
     ]
    },
    {
     "data": {
      "text/plain": [
       "'may'"
      ]
     },
     "execution_count": 26,
     "metadata": {},
     "output_type": "execute_result"
    }
   ],
   "source": [
    "get_month()"
   ]
  },
  {
   "cell_type": "code",
   "execution_count": 6,
   "metadata": {},
   "outputs": [],
   "source": [
    "def get_day():\n",
    "    '''Asks the user for a month and returns the specified month.\n",
    "\n",
    "    Args:\n",
    "        none.\n",
    "    Returns: month\n",
    "    '''\n",
    "    month = input('\\nWhich day? Sunday, Monday, Tuesday, Wednesday, Thursday, Friday or saturday?\\n').lower()\n",
    "\n",
    "    if month == \"sunday\" or month == \"monday\" or month == \"tuesday\" or month == \"wednesday\" or month == \"thursday\" or month == \"friday\" or month == \"saturday\" : \n",
    "        print(\"Month selected :{}\".format(month.title()))\n",
    "        \n",
    "    else:\n",
    "        print(\"{} is Invalied entry, Kindly re-enter\".format(month.title()))\n",
    "        get_day()\n",
    "\n",
    "    return (month)"
   ]
  },
  {
   "cell_type": "code",
   "execution_count": 28,
   "metadata": {
    "scrolled": false
   },
   "outputs": [
    {
     "name": "stdout",
     "output_type": "stream",
     "text": [
      "\n",
      "Which day? Sunday, Monday, Tuesday, Wednesday, Thursday, Friday or saturday?\n",
      "friday\n",
      "Month selected :Friday\n"
     ]
    },
    {
     "data": {
      "text/plain": [
       "'friday'"
      ]
     },
     "execution_count": 28,
     "metadata": {},
     "output_type": "execute_result"
    }
   ],
   "source": [
    "get_day()"
   ]
  },
  {
   "cell_type": "code",
   "execution_count": 7,
   "metadata": {},
   "outputs": [],
   "source": [
    "def get_names(gtp,gc):\n",
    "    \n",
    "    \n",
    "    if gtp == \"month\":\n",
    "        \n",
    "            month = input('\\nWhich month? January, February, March, April, May, or June?\\n').lower()\n",
    "            # TODO: handle raw input and complete function\n",
    "            if month == \"january\" or month == \"february\" or month == \"march\" or month == \"april\" or month == \"may\" or month == \"june\":\n",
    "                print(\"Month selected :{}\".format(month.title()))\n",
    "                df = pd. read_csv(gc)\n",
    "                df['Start Time'] = pd.to_datetime(df['Start Time'])\n",
    "                df['months'] = df['Start Time'].dt.month\n",
    "                mapping = {1:'january', 2:'february', 3:'march', 4:'april', 5:'may', 6:'june'}\n",
    "                df = df.applymap(lambda s: mapping.get(s) if s in mapping else s)\n",
    "                df = df.loc[df['months'] == month]\n",
    "\n",
    "                return(df)\n",
    "\n",
    "            else:\n",
    "                print(\"{} is Invalied entry, Kindly re-enter\".format(month.title()))\n",
    "                month = input('\\nWhich month? January, February, March, April, May, or June?\\n').lower()\n",
    "            \n",
    "            \n",
    "                \n",
    "    elif gtp == \"day\":\n",
    "            month = input('\\nWhich day? Sunday, Monday, Tuesday, Wednesday, Thursday, Friday or saturday?\\n').lower()\n",
    "\n",
    "            if month == \"sunday\" or month == \"monday\" or month == \"tuesday\" or month == \"wednesday\" or month == \"thursday\" or month == \"friday\" or month == \"saturday\" : \n",
    "                print(\"Month selected :{}\".format(month.title()))\n",
    "                df = pd. read_csv(gc)\n",
    "                df['Start Time'] = pd.to_datetime(df['Start Time'])\n",
    "                df['Days of week'] = df['Start Time'].dt.dayofweek\n",
    "                mapping = {0:'monday', 1:'tuesday', 2:'wednesday', 3:'thursday', 4:'friday', 5:'saturday', 6:'sunday'}\n",
    "                df = df.applymap(lambda s: mapping.get(s) if s in mapping else s) \n",
    "                df = df.loc[df['Days of week'] == month]\n",
    "\n",
    "                return(df)\n",
    "            \n",
    "            else:\n",
    "                print(\"{} is Invalied entry, Kindly re-enter\".format(month.title()))\n",
    "                month = input('\\nWhich day? Sunday, Monday, Tuesday, Wednesday, Thursday, Friday or saturday?\\n').lower()\n",
    "\n",
    "\n",
    "                \n",
    "    elif gtp == \"none\":\n",
    "            df = pd.read_csv(gc)\n",
    "            return(df)\n",
    "        "
   ]
  },
  {
   "cell_type": "code",
   "execution_count": 26,
   "metadata": {},
   "outputs": [
    {
     "name": "stdout",
     "output_type": "stream",
     "text": [
      "\n",
      "Which month? January, February, March, April, May, or June?\n",
      "may\n",
      "Month selected :May\n"
     ]
    }
   ],
   "source": [
    "df_filtered = get_names(gtt,gc)\n",
    "\n"
   ]
  },
  {
   "cell_type": "code",
   "execution_count": 8,
   "metadata": {},
   "outputs": [],
   "source": [
    "def popular_month(get_city):\n",
    "    '''Returns: the month with highest no of trips \n",
    "    Question: What is the most popular month for start time?\n",
    "    '''\n",
    "    df = pd. read_csv(get_city)\n",
    "    df['Start Time'] = pd.to_datetime(df['Start Time'])\n",
    "    df['months'] = df['Start Time'].dt.month\n",
    "    mapping = {1:'january', 2:'february', 3:'march', 4:'april', 5:'may', 6:'june'}\n",
    "    df = df.applymap(lambda s: mapping.get(s) if s in mapping else s)\n",
    "    print('Popular month is {} '.format((df['months'].mode()[0])))\n"
   ]
  },
  {
   "cell_type": "code",
   "execution_count": 32,
   "metadata": {},
   "outputs": [
    {
     "data": {
      "text/plain": [
       "'june'"
      ]
     },
     "execution_count": 32,
     "metadata": {},
     "output_type": "execute_result"
    }
   ],
   "source": [
    "popular_month(gc)"
   ]
  },
  {
   "cell_type": "code",
   "execution_count": 9,
   "metadata": {},
   "outputs": [],
   "source": [
    "def popular_day(get_city):\n",
    "    '''\n",
    "    Question: What is the most popular day of week (Monday, Tuesday, etc.) for start time?\n",
    "    '''\n",
    "    df = pd. read_csv(get_city)\n",
    "    df['Start Time'] = pd.to_datetime(df['Start Time'])\n",
    "    df['days of week'] = df['Start Time'].dt.dayofweek\n",
    "    mapping = {0:'monday', 1:'tuesday', 2:'wednesday', 3:'thursday', 4:'friday', 5:'saturday', 6:'sunday'}\n",
    "    df = df.applymap(lambda s: mapping.get(s) if s in mapping else s)\n",
    "    print('Popular day is {} '.format(df['days of week'].mode()[0]))\n",
    "    "
   ]
  },
  {
   "cell_type": "code",
   "execution_count": 34,
   "metadata": {},
   "outputs": [
    {
     "data": {
      "text/plain": [
       "'wednesday'"
      ]
     },
     "execution_count": 34,
     "metadata": {},
     "output_type": "execute_result"
    }
   ],
   "source": [
    "popular_day(gc)"
   ]
  },
  {
   "cell_type": "code",
   "execution_count": 10,
   "metadata": {},
   "outputs": [],
   "source": [
    "def popular_hour(df):\n",
    "    '''\n",
    "    Question: What is the most popular hour of day for start time?\n",
    "    '''\n",
    "    \"\"\"gets the hour of each datetime object\"\"\"\n",
    "    df['Start Time'] = pd.to_datetime(df['Start Time'])\n",
    "    df['hours'] = df['Start Time'].dt.hour\n",
    "    df['hours'] = df['hours'] +1\n",
    "    print('Popular hour is {}'.format(df['hours'].mode()[0]))"
   ]
  },
  {
   "cell_type": "code",
   "execution_count": 49,
   "metadata": {},
   "outputs": [
    {
     "name": "stdout",
     "output_type": "stream",
     "text": [
      "Popular hour is 18\n"
     ]
    }
   ],
   "source": [
    "popular_hour(df_filtered)"
   ]
  },
  {
   "cell_type": "code",
   "execution_count": 11,
   "metadata": {},
   "outputs": [],
   "source": [
    "def trip_duration(df):\n",
    "    '''\n",
    "    Question: What is the total trip duration and average trip duration?\n",
    "    time in seconds .filtered dataset.\n",
    "    '''\n",
    "    print('Total trip duration {} and average trip duaration {}'.format( df['Trip Duration'].sum(), df['Trip Duration'].mean()))\n",
    "    "
   ]
  },
  {
   "cell_type": "code",
   "execution_count": 54,
   "metadata": {
    "scrolled": true
   },
   "outputs": [
    {
     "name": "stdout",
     "output_type": "stream",
     "text": [
      "Total trip duration 934936653 and average trip duaration 923.5018530554672\n"
     ]
    }
   ],
   "source": [
    "trip_duration(df_filtered)\n"
   ]
  },
  {
   "cell_type": "code",
   "execution_count": 12,
   "metadata": {},
   "outputs": [],
   "source": [
    "def popular_stations(df):\n",
    "    '''\n",
    "    Question: What is the most popular start station and most popular end station?\n",
    "    '''\n",
    "\n",
    "    print('Popular start station is {} \\nPopular end station is {}'.format(df['Start Station'].mode()[0], df['End Station'].mode()[0]))"
   ]
  },
  {
   "cell_type": "code",
   "execution_count": 67,
   "metadata": {},
   "outputs": [
    {
     "name": "stdout",
     "output_type": "stream",
     "text": [
      "Popular start station is Pershing Square North \n",
      "Popular end station is Pershing Square North\n"
     ]
    }
   ],
   "source": [
    "popular_stations(df_filtered)\n"
   ]
  },
  {
   "cell_type": "code",
   "execution_count": 13,
   "metadata": {},
   "outputs": [],
   "source": [
    "def popular_trip(df):\n",
    "    '''\n",
    "    Question: What is the most popular trip?\n",
    "    '''\n",
    "    df['pop_sta'] = 'from ' +df['Start Station'].str.cat(' to ' +df['End Station'])\n",
    "    df['pop_sta'].mode()[0]\n",
    "    print('Popular trip is {}'.format(df['pop_sta'].mode()[0]))"
   ]
  },
  {
   "cell_type": "code",
   "execution_count": 60,
   "metadata": {},
   "outputs": [
    {
     "name": "stdout",
     "output_type": "stream",
     "text": [
      "Popular trip is from E 7 St & Avenue A to Cooper Square & E 7 St\n"
     ]
    }
   ],
   "source": [
    "popular_trip(df_filtered)\n"
   ]
  },
  {
   "cell_type": "code",
   "execution_count": 14,
   "metadata": {},
   "outputs": [],
   "source": [
    "def users(df):\n",
    "    '''\n",
    "    Question: What are the counts of each user type?\n",
    "    '''\n",
    "    counts = df['User Type'].value_counts().to_dict()\n",
    "    print ('The count of each user type is {}'.format(counts))\n",
    "    \n",
    "    "
   ]
  },
  {
   "cell_type": "code",
   "execution_count": 62,
   "metadata": {},
   "outputs": [
    {
     "name": "stdout",
     "output_type": "stream",
     "text": [
      "The count of each user type is {'Subscriber': 925927, 'Customer': 84628}\n"
     ]
    }
   ],
   "source": [
    "users(df_filtered)"
   ]
  },
  {
   "cell_type": "code",
   "execution_count": 15,
   "metadata": {},
   "outputs": [],
   "source": [
    "def gender(df,city_name):\n",
    "    '''\n",
    "    Question: What are the counts of gender?\n",
    "    '''\n",
    "    if city_name == 'washington.csv':\n",
    "        return('No data on gender')\n",
    "        \n",
    "    else:\n",
    "        counts = df['Gender'].value_counts().to_dict()\n",
    "        print ('The count of gender is {}'.format(counts))\n",
    "    \n",
    "        \n"
   ]
  },
  {
   "cell_type": "code",
   "execution_count": 64,
   "metadata": {},
   "outputs": [
    {
     "name": "stdout",
     "output_type": "stream",
     "text": [
      "The count of gender is {'Male': 710797, 'Female': 217336}\n"
     ]
    }
   ],
   "source": [
    "gender(df_filtered, gc)\n"
   ]
  },
  {
   "cell_type": "code",
   "execution_count": 20,
   "metadata": {},
   "outputs": [],
   "source": [
    " def birth_years(df, city_name):\n",
    "    '''\n",
    "    Question: What are the earliest (i.e. oldest user), most recent (i.e. youngest user),\n",
    "    and most popular birth years?   '''\n",
    "    if city_name == 'washington.csv':\n",
    "        return('No data on birth year')\n",
    "        \n",
    "    else:\n",
    "        print('The oldest user birth year is {} \\nThe youngest user birth year is {} \\nThe popular birth year is {}'.\n",
    "              format(int(df['Birth Year'].max()),int(df['Birth Year'].min()),int(df['Birth Year'].mode()[0])))\n"
   ]
  },
  {
   "cell_type": "code",
   "execution_count": 27,
   "metadata": {},
   "outputs": [
    {
     "name": "stdout",
     "output_type": "stream",
     "text": [
      "The oldest user birth year is 2016 \n",
      "\n",
      "The youngest user birth year is 1899 \n",
      "The popular birth year is 1989\n"
     ]
    }
   ],
   "source": [
    "birth_years(df_filtered, gc)"
   ]
  },
  {
   "cell_type": "code",
   "execution_count": 17,
   "metadata": {},
   "outputs": [],
   "source": [
    "def display_data(get_city):\n",
    "    '''Displays five lines of data if the user specifies that they would like to.\n",
    "    After displaying five lines, ask the user if they would like to see five more,\n",
    "    continuing asking until they say stop.\n",
    "\n",
    "    Args:\n",
    "        none.\n",
    "    Returns:\n",
    "        TODO: fill out return type and description (see get_city for an example)\n",
    "    '''\n",
    "    while True:\n",
    "        display = input('\\nWould you like to view individual trip data?'\n",
    "                        'Type \\'yes\\' or \\'no\\'.\\n')\n",
    "        if display == 'no':\n",
    "            break\n",
    "        elif display == 'yes':\n",
    "            df1 = pd.read_csv(get_city)\n",
    "            print(df1.head())\n",
    "        else:\n",
    "            print ('Type valid input')"
   ]
  },
  {
   "cell_type": "code",
   "execution_count": null,
   "metadata": {
    "scrolled": true
   },
   "outputs": [
    {
     "name": "stdout",
     "output_type": "stream",
     "text": [
      "\n",
      "Would you like to view individual trip data?Type 'yes' or 'no'.\n",
      "yes\n"
     ]
    }
   ],
   "source": [
    "display_data(gc)"
   ]
  },
  {
   "cell_type": "code",
   "execution_count": null,
   "metadata": {},
   "outputs": [],
   "source": [
    "gc = get_city()\n",
    "gtt = get_time_period()\n",
    "df_filtered = get_names(gtt,gc)\n",
    "popular_month(gc)\n",
    "popular_day(gc)\n",
    "gender(df_filtered, gc)\n",
    "birth_years(df_filtered, gc)\n",
    "users(df_filtered)\n",
    "popular_trip(df_filtered)\n",
    "popular_stations(df_filtered)\n",
    "trip_duration(df_filtered)\n",
    "popular_hour(df_filtered)\n",
    "display_data(gc)"
   ]
  },
  {
   "cell_type": "code",
   "execution_count": 28,
   "metadata": {},
   "outputs": [],
   "source": [
    "def statistics():\n",
    "    gc = get_city()\n",
    "    gtt = get_time_period()\n",
    "    df_filtered = get_names(gtt,gc)\n",
    "    \n",
    "    start_time = time.time()\n",
    "    popular_month(gc)\n",
    "    print(\"That took %s seconds.\\n\\n\" % (time.time() - start_time))\n",
    "    \n",
    "    print(\"Calculating the next statistic...\") \n",
    "    start_time = time.time()\n",
    "    gender(df_filtered, gc)\n",
    "    print(\"That took %s seconds.\\n\\n\" % (time.time() - start_time))\n",
    "    \n",
    "    print(\"Calculating the next statistic...\")\n",
    "    start_time = time.time()\n",
    "    birth_years(df_filtered, gc)\n",
    "    print(\"That took %s seconds.\\n\\n\" % (time.time() - start_time))\n",
    "    \n",
    "    print(\"Calculating the next statistic...\") \n",
    "    start_time = time.time()\n",
    "    users(df_filtered)\n",
    "    print(\"That took %s seconds.\\n\\n\" % (time.time() - start_time))\\\n",
    "    \n",
    "    print(\"Calculating the next statistic...\")\n",
    "    start_time = time.time()\n",
    "    popular_trip(df_filtered)\n",
    "    print(\"That took %s seconds.\\n\\n\" % (time.time() - start_time))\n",
    "    \n",
    "    print(\"Calculating the next statistic...\") \n",
    "    start_time = time.time()\n",
    "    popular_stations(df_filtered)\n",
    "    print(\"That took %s seconds.\\n\\n\" % (time.time() - start_time))\n",
    "    \n",
    "    print(\"Calculating the next statistic...\") \n",
    "    start_time = time.time()\n",
    "    trip_duration(df_filtered)\n",
    "    print(\"That took %s seconds.\\n\\n\" % (time.time() - start_time))\n",
    "    \n",
    "    print(\"Calculating the next statistic...\") \n",
    "    start_time = time.time()\n",
    "    popular_hour(df_filtered)\n",
    "    print(\"That took %s seconds.\\n\\n\" % (time.time() - start_time))\n",
    "    \n",
    "    display_data(gc)\n",
    "    \n",
    "        # Restart?\n",
    "    restart = input('\\nWould you like to restart? Type \\'yes\\' or \\'no\\'.\\n')\n",
    "    if restart.lower() == 'yes':\n",
    "        statistics()\n",
    "    "
   ]
  },
  {
   "cell_type": "code",
   "execution_count": 19,
   "metadata": {},
   "outputs": [
    {
     "name": "stdout",
     "output_type": "stream",
     "text": [
      "\n",
      "Hello! Let's explore some US bikeshare data!\n",
      "Would you like to see data for Chicago, New York, or Washington?\n",
      "chicago\n",
      "print chicago.csv\n",
      "\n",
      "Would you like to filter the data by month, day, or none at all? Type \"none\" for no time filter.\n",
      "month\n",
      "Time Period selected :Month\n",
      "\n",
      "Which month? January, February, March, April, May, or June?\n",
      "may\n",
      "Month selected :May\n",
      "Popular month is june \n",
      "That took 20.854769229888916 seconds.\n",
      "Calculating the next statistic...\n",
      "The count of gender is {'Male': 197784, 'Female': 65965}\n",
      "That took 0.04687833786010742 seconds.\n",
      "Calculating the next statistic...\n",
      "The oldest user birth year is 2016 \n",
      "The youngest user birth year is 1899 \n",
      "The popular birth year is 1989\n",
      "That took 0.03125357627868652 seconds.\n",
      "Calculating the next statistic...\n",
      "The count of each user type is {'Subscriber': 263666, 'Customer': 82322}\n",
      "That took 0.06250691413879395 seconds.\n",
      "Calculating the next statistic...\n",
      "Popular trip is from Lake Shore Dr & Monroe St to Streeter Dr & Grand Ave\n",
      "That took 0.37494707107543945 seconds.\n",
      "Calculating the next statistic...\n",
      "Popular start station is Streeter Dr & Grand Ave \n",
      "Popular end station is Streeter Dr & Grand Ave\n",
      "That took 0.09375667572021484 seconds.\n",
      "Calculating the next statistic...\n",
      "Total trip duration 341427604 and average trip duaration 986.8192076025758\n",
      "That took 0.0 seconds.\n",
      "Calculating the next statistic...\n",
      "Popular hour is 18\n",
      "That took 0.031287431716918945 seconds.\n",
      "\n",
      "Would you like to view individual trip data?Type 'yes' or 'no'.\n",
      "yes\n",
      "            Start Time             End Time  Trip Duration  \\\n",
      "0  2017-01-01 00:00:36  2017-01-01 00:06:32            356   \n",
      "1  2017-01-01 00:02:54  2017-01-01 00:08:21            327   \n",
      "2  2017-01-01 00:06:06  2017-01-01 00:18:31            745   \n",
      "3  2017-01-01 00:07:28  2017-01-01 00:12:51            323   \n",
      "4  2017-01-01 00:07:57  2017-01-01 00:20:53            776   \n",
      "\n",
      "                          Start Station                   End Station  \\\n",
      "0                  Canal St & Taylor St      Canal St & Monroe St (*)   \n",
      "1            Larrabee St & Menomonee St  Sheffield Ave & Kingsbury St   \n",
      "2  Orleans St & Chestnut St (NEXT Apts)    Ashland Ave & Blackhawk St   \n",
      "3               Franklin St & Monroe St        Clinton St & Tilden St   \n",
      "4                  Broadway & Barry Ave       Sedgwick St & North Ave   \n",
      "\n",
      "    User Type Gender  Birth Year  \n",
      "0    Customer    NaN         NaN  \n",
      "1  Subscriber   Male      1984.0  \n",
      "2  Subscriber   Male      1985.0  \n",
      "3  Subscriber   Male      1990.0  \n",
      "4  Subscriber   Male      1990.0  \n",
      "\n",
      "Would you like to view individual trip data?Type 'yes' or 'no'.\n",
      "no\n",
      "\n",
      "Would you like to restart? Type 'yes' or 'no'.\n",
      "no\n"
     ]
    }
   ],
   "source": [
    "statistics()"
   ]
  }
 ],
 "metadata": {
  "kernelspec": {
   "display_name": "Python 3",
   "language": "python",
   "name": "python3"
  },
  "language_info": {
   "codemirror_mode": {
    "name": "ipython",
    "version": 3
   },
   "file_extension": ".py",
   "mimetype": "text/x-python",
   "name": "python",
   "nbconvert_exporter": "python",
   "pygments_lexer": "ipython3",
   "version": "3.6.3"
  }
 },
 "nbformat": 4,
 "nbformat_minor": 2
}
